{
 "cells": [
  {
   "attachments": {},
   "cell_type": "markdown",
   "metadata": {
    "datalore": {
     "sheet_delimiter": true
    }
   },
   "source": [
    "# tensorflow fundamental"
   ]
  },
  {
   "cell_type": "code",
   "execution_count": 1,
   "metadata": {
    "datalore": {
     "hide_input_from_viewers": false,
     "hide_output_from_viewers": false,
     "type": "CODE"
    }
   },
   "outputs": [
    {
     "name": "stdout",
     "output_type": "stream",
     "text": [
      "2.8.0\n"
     ]
    }
   ],
   "source": [
    "import tensorflow as tf\n",
    "import numpy as np\n",
    "print(tf.__version__)"
   ]
  },
  {
   "cell_type": "code",
   "execution_count": 2,
   "metadata": {
    "datalore": {
     "hide_input_from_viewers": false,
     "hide_output_from_viewers": false,
     "type": "CODE"
    }
   },
   "outputs": [
    {
     "data": {
      "text/plain": "<tf.Tensor: shape=(2,), dtype=int32, numpy=array([9, 6])>"
     },
     "execution_count": 2,
     "metadata": {},
     "output_type": "execute_result"
    }
   ],
   "source": [
    "vector = tf.constant([9, 6])\n",
    "vector"
   ]
  },
  {
   "cell_type": "code",
   "execution_count": 4,
   "metadata": {
    "datalore": {
     "hide_input_from_viewers": false,
     "hide_output_from_viewers": false,
     "type": "CODE"
    }
   },
   "outputs": [
    {
     "data": {
      "text/plain": [
       "<tf.Tensor: shape=(2, 3), dtype=float32, numpy=\n",
       "array([[-0.7565803 , -0.06854702,  0.07595026],\n",
       "       [-1.2573844 , -0.23193763, -1.8107855 ]], dtype=float32)>"
      ]
     },
     "metadata": {},
     "output_type": "display_data"
    }
   ],
   "source": [
    "random_1 = tf.random.Generator.from_seed(42)\n",
    "random_1 = random_1.normal(shape=(2, 3))\n",
    "random_1"
   ]
  },
  {
   "cell_type": "code",
   "execution_count": 5,
   "metadata": {
    "datalore": {
     "hide_input_from_viewers": false,
     "hide_output_from_viewers": false,
     "type": "CODE"
    }
   },
   "outputs": [
    {
     "data": {
      "text/plain": [
       "<tf.Tensor: shape=(2, 3), dtype=float32, numpy=\n",
       "array([[ 1.0019137 ,  0.6735137 ,  0.06987712],\n",
       "       [-1.4077919 ,  1.0278524 ,  0.27974114]], dtype=float32)>"
      ]
     },
     "metadata": {},
     "output_type": "display_data"
    }
   ],
   "source": [
    "# random_2 = tf.random.get_global_generator()\n",
    "random_2 = tf.random.Generator.from_seed(4)\n",
    "random_2 = random_2.normal(shape=(2, 3))\n",
    "random_2"
   ]
  },
  {
   "cell_type": "code",
   "execution_count": 6,
   "metadata": {
    "datalore": {
     "hide_input_from_viewers": false,
     "hide_output_from_viewers": false,
     "type": "CODE"
    }
   },
   "outputs": [
    {
     "data": {
      "text/plain": [
       "(<tf.Tensor: shape=(2, 3), dtype=float32, numpy=\n",
       " array([[-0.7565803 , -0.06854702,  0.07595026],\n",
       "        [-1.2573844 , -0.23193763, -1.8107855 ]], dtype=float32)>,\n",
       " <tf.Tensor: shape=(2, 3), dtype=float32, numpy=\n",
       " array([[-0.7565803 , -0.06854702,  0.07595026],\n",
       "        [-1.2573844 , -0.23193763, -1.8107855 ]], dtype=float32)>,\n",
       " <tf.Tensor: shape=(2, 3), dtype=bool, numpy=\n",
       " array([[ True,  True,  True],\n",
       "        [ True,  True,  True]])>,\n",
       " False)"
      ]
     },
     "metadata": {},
     "output_type": "display_data"
    }
   ],
   "source": [
    "random_1 = tf.random.Generator.from_seed(42)\n",
    "random_1 = random_1.normal(shape=(2, 3))\n",
    "random_2 = tf.random.Generator.from_seed(42)\n",
    "random_2 = random_2.normal(shape=(2, 3))\n",
    "\n",
    "random_1, random_2, random_1 == random_2, random_1 is random_2"
   ]
  },
  {
   "cell_type": "code",
   "execution_count": 7,
   "metadata": {
    "datalore": {
     "hide_input_from_viewers": false,
     "hide_output_from_viewers": false,
     "type": "CODE"
    }
   },
   "outputs": [
    {
     "data": {
      "text/plain": [
       "<tf.Tensor: shape=(3, 2), dtype=int16, numpy=\n",
       "array([[10,  5],\n",
       "       [ 4,  8],\n",
       "       [ 7,  9]], dtype=int16)>"
      ]
     },
     "metadata": {},
     "output_type": "display_data"
    }
   ],
   "source": [
    "# Shuffel the order of the tensor\n",
    "not_shuffled = tf.constant([[10, 5],\n",
    "                            [4, 8],\n",
    "                            [7, 9]], dtype=tf.int16)\n",
    "tf.random.shuffle(not_shuffled)"
   ]
  },
  {
   "cell_type": "code",
   "execution_count": 8,
   "metadata": {
    "datalore": {
     "hide_input_from_viewers": false,
     "hide_output_from_viewers": false,
     "type": "CODE"
    }
   },
   "outputs": [
    {
     "data": {
      "text/plain": [
       "<tf.Tensor: shape=(3, 2), dtype=int16, numpy=\n",
       "array([[10,  5],\n",
       "       [ 4,  8],\n",
       "       [ 7,  9]], dtype=int16)>"
      ]
     },
     "metadata": {},
     "output_type": "display_data"
    }
   ],
   "source": [
    "tf.random.set_seed(42)\n",
    "tf.random.shuffle(not_shuffled, seed=42)"
   ]
  },
  {
   "cell_type": "code",
   "execution_count": 9,
   "metadata": {
    "datalore": {
     "hide_input_from_viewers": false,
     "hide_output_from_viewers": false,
     "type": "CODE"
    }
   },
   "outputs": [
    {
     "data": {
      "text/plain": [
       "<tf.Tensor: shape=(3, 2), dtype=int16, numpy=\n",
       "array([[10,  5],\n",
       "       [ 4,  8],\n",
       "       [ 7,  9]], dtype=int16)>"
      ]
     },
     "metadata": {},
     "output_type": "display_data"
    }
   ],
   "source": [
    "not_shuffled"
   ]
  },
  {
   "cell_type": "code",
   "execution_count": null,
   "metadata": {
    "datalore": {
     "hide_input_from_viewers": false,
     "hide_output_from_viewers": false,
     "type": "CODE"
    }
   },
   "outputs": [],
   "source": []
  },
  {
   "attachments": {},
   "cell_type": "markdown",
   "metadata": {
    "datalore": {
     "sheet_delimiter": true
    }
   },
   "source": [
    "# Sheet 2"
   ]
  },
  {
   "cell_type": "code",
   "execution_count": 10,
   "metadata": {
    "datalore": {
     "hide_input_from_viewers": false,
     "hide_output_from_viewers": false,
     "type": "CODE"
    }
   },
   "outputs": [
    {
     "name": "stdout",
     "output_type": "stream",
     "text": [
      "1.10.1+cpu\n"
     ]
    }
   ],
   "source": [
    "import torch\n",
    "import numpy as np\n",
    "print(torch.__version__)"
   ]
  },
  {
   "cell_type": "code",
   "execution_count": 11,
   "metadata": {
    "datalore": {
     "hide_input_from_viewers": false,
     "hide_output_from_viewers": false,
     "type": "CODE"
    }
   },
   "outputs": [
    {
     "data": {
      "text/plain": [
       "tensor([[2, 4],\n",
       "        [5, 7],\n",
       "        [6, 2],\n",
       "        [7, 6]])"
      ]
     },
     "metadata": {},
     "output_type": "display_data"
    }
   ],
   "source": [
    "tensor_2d = torch.tensor([[2, 5, 6, 7],\n",
    "                          [4, 7, 2, 6]])\n",
    "tensor_2d.T"
   ]
  },
  {
   "cell_type": "code",
   "execution_count": 12,
   "metadata": {
    "datalore": {
     "hide_input_from_viewers": false,
     "hide_output_from_viewers": false,
     "type": "CODE"
    }
   },
   "outputs": [
    {
     "data": {
      "text/plain": [
       "tensor(92)"
      ]
     },
     "metadata": {},
     "output_type": "display_data"
    }
   ],
   "source": [
    "tensor_1 = torch.tensor([4, 6, 3, 6])\n",
    "tensor_2 = torch.tensor([2, 7, 8, 3])\n",
    "\n",
    "torch.dot(tensor_1, tensor_2)"
   ]
  },
  {
   "cell_type": "code",
   "execution_count": 13,
   "metadata": {
    "datalore": {
     "hide_input_from_viewers": false,
     "hide_output_from_viewers": false,
     "type": "CODE"
    }
   },
   "outputs": [
    {
     "data": {
      "text/plain": [
       "tensor([[ 0.9535, -0.1875, -2.2729, -0.4341,  0.3483],\n",
       "        [-1.3411, -1.1116, -2.8600,  1.2820,  1.8113],\n",
       "        [-5.1271,  0.9027, -3.0716, -4.0328,  4.3058]])"
      ]
     },
     "metadata": {},
     "output_type": "display_data"
    }
   ],
   "source": [
    "np.random.seed(42)\n",
    "A = torch.randn(3, 4)\n",
    "np.random.seed(42)\n",
    "B = torch.randn(4, 5)\n",
    "\n",
    "# torch.dot(A, B)\n",
    "torch.mm(A, B)"
   ]
  },
  {
   "cell_type": "code",
   "execution_count": 14,
   "metadata": {
    "datalore": {
     "hide_input_from_viewers": false,
     "hide_output_from_viewers": false,
     "type": "CODE"
    }
   },
   "outputs": [
    {
     "data": {
      "text/plain": [
       "tensor([[ 0.9535, -0.1875, -2.2729, -0.4341,  0.3483],\n",
       "        [-1.3411, -1.1116, -2.8600,  1.2820,  1.8113],\n",
       "        [-5.1271,  0.9027, -3.0716, -4.0328,  4.3058]])"
      ]
     },
     "metadata": {},
     "output_type": "display_data"
    }
   ],
   "source": [
    "torch.matmul(A, B)"
   ]
  },
  {
   "cell_type": "code",
   "execution_count": 15,
   "metadata": {
    "datalore": {
     "hide_input_from_viewers": false,
     "hide_output_from_viewers": false,
     "type": "CODE"
    }
   },
   "outputs": [],
   "source": [
    "# A*B For Element wise multiplication\n",
    "# A@B Matrix Multiplication"
   ]
  },
  {
   "cell_type": "code",
   "execution_count": 16,
   "metadata": {
    "datalore": {
     "hide_input_from_viewers": false,
     "hide_output_from_viewers": false,
     "type": "CODE"
    }
   },
   "outputs": [
    {
     "data": {
      "text/plain": [
       "tensor([[ 0.9535, -0.1875, -2.2729, -0.4341,  0.3483],\n",
       "        [-1.3411, -1.1116, -2.8600,  1.2820,  1.8113],\n",
       "        [-5.1271,  0.9027, -3.0716, -4.0328,  4.3058]])"
      ]
     },
     "metadata": {},
     "output_type": "display_data"
    }
   ],
   "source": [
    "A@B"
   ]
  },
  {
   "cell_type": "code",
   "execution_count": 17,
   "metadata": {
    "datalore": {
     "hide_input_from_viewers": false,
     "hide_output_from_viewers": false,
     "type": "CODE"
    }
   },
   "outputs": [
    {
     "data": {
      "text/html": []
     },
     "metadata": {},
     "output_type": "display_data"
    }
   ],
   "source": [
    "np.random.seed(42)\n",
    "A = np.random.randn(3, 4)\n",
    "np.random.seed(42)\n",
    "B = np.random.randn(4, 5)\n",
    "\n",
    "np.dot(A, B)"
   ]
  },
  {
   "cell_type": "code",
   "execution_count": 18,
   "metadata": {
    "datalore": {
     "hide_input_from_viewers": false,
     "hide_output_from_viewers": false,
     "type": "CODE"
    }
   },
   "outputs": [
    {
     "data": {
      "text/html": []
     },
     "metadata": {},
     "output_type": "display_data"
    }
   ],
   "source": [
    "np.random.seed(42)\n",
    "A = np.random.randn(3, 4)\n",
    "np.random.seed(42)\n",
    "B = np.random.randn(4, 5)\n",
    "\n",
    "A@B"
   ]
  },
  {
   "cell_type": "code",
   "execution_count": 19,
   "metadata": {
    "datalore": {
     "hide_input_from_viewers": false,
     "hide_output_from_viewers": false,
     "type": "CODE"
    }
   },
   "outputs": [],
   "source": [
    "# 2-d Matrix Dot product"
   ]
  },
  {
   "cell_type": "code",
   "execution_count": null,
   "metadata": {
    "datalore": {
     "hide_input_from_viewers": false,
     "hide_output_from_viewers": false,
     "type": "CODE"
    }
   },
   "outputs": [],
   "source": []
  },
  {
   "attachments": {},
   "cell_type": "markdown",
   "metadata": {
    "datalore": {
     "sheet_delimiter": true
    }
   },
   "source": [
    "# Sheet 3"
   ]
  },
  {
   "cell_type": "code",
   "execution_count": 1,
   "metadata": {
    "datalore": {
     "hide_input_from_viewers": false,
     "hide_output_from_viewers": false,
     "type": "CODE"
    }
   },
   "outputs": [
    {
     "name": "stdout",
     "output_type": "stream",
     "text": [
      "2.8.0\n"
     ]
    }
   ],
   "source": [
    "import tensorflow as tf\n",
    "print(tf.__version__)\n",
    "# Tensor --> Good For GPU and TPU\n",
    "# numpy_A array --> For CPU"
   ]
  },
  {
   "cell_type": "code",
   "execution_count": 2,
   "metadata": {
    "datalore": {
     "hide_input_from_viewers": false,
     "hide_output_from_viewers": false,
     "type": "CODE"
    }
   },
   "outputs": [
    {
     "data": {
      "text/plain": [
       "(<tf.Tensor: shape=(), dtype=int32, numpy=4>, 0)"
      ]
     },
     "metadata": {},
     "output_type": "display_data"
    }
   ],
   "source": [
    "# Create a Tensor By using constant funstion it takes any value i.e. scalar, vector(list), Matrix, Tensor(nd-Matrix)\n",
    "scalar = tf.constant(4)\n",
    "scalar, scalar.ndim"
   ]
  },
  {
   "cell_type": "code",
   "execution_count": 3,
   "metadata": {
    "datalore": {
     "hide_input_from_viewers": false,
     "hide_output_from_viewers": false,
     "type": "CODE"
    }
   },
   "outputs": [
    {
     "data": {
      "text/plain": [
       "(<tf.Tensor: shape=(3,), dtype=int32, numpy=array([5, 7, 8], dtype=int32)>, 1)"
      ]
     },
     "metadata": {},
     "output_type": "display_data"
    }
   ],
   "source": [
    "vector = tf.constant([5, 7, 8])\n",
    "vector, vector.ndim"
   ]
  },
  {
   "cell_type": "code",
   "execution_count": 4,
   "metadata": {
    "datalore": {
     "hide_input_from_viewers": false,
     "hide_output_from_viewers": false,
     "type": "CODE"
    }
   },
   "outputs": [
    {
     "data": {
      "text/plain": [
       "(<tf.Tensor: shape=(2, 2), dtype=int32, numpy=\n",
       " array([[4, 6],\n",
       "        [6, 7]], dtype=int32)>,\n",
       " 2)"
      ]
     },
     "metadata": {},
     "output_type": "display_data"
    }
   ],
   "source": [
    "matrix = tf.constant([[4,6], [6, 7]])\n",
    "matrix, matrix.ndim"
   ]
  },
  {
   "cell_type": "code",
   "execution_count": 5,
   "metadata": {
    "datalore": {
     "hide_input_from_viewers": false,
     "hide_output_from_viewers": false,
     "type": "CODE"
    }
   },
   "outputs": [
    {
     "data": {
      "text/plain": [
       "(<tf.Variable 'Variable:0' shape=(2,) dtype=int32, numpy=array([7, 4], dtype=int32)>,\n",
       " <tf.Tensor: shape=(2,), dtype=int32, numpy=array([7, 4], dtype=int32)>)"
      ]
     },
     "metadata": {},
     "output_type": "display_data"
    }
   ],
   "source": [
    "# A mutable object can be changed after it's created, and an immutable object can't\n",
    "# constant is an immutable object where as Variable is a mutable object.\n",
    "changable = tf.Variable([7, 4])\n",
    "unchangable = tf.constant([7, 4])\n",
    "changable, unchangable"
   ]
  },
  {
   "cell_type": "code",
   "execution_count": 6,
   "metadata": {
    "datalore": {
     "hide_input_from_viewers": false,
     "hide_output_from_viewers": false,
     "type": "CODE"
    }
   },
   "outputs": [],
   "source": [
    "# unchangable[0].assign(5) # Did not change"
   ]
  },
  {
   "cell_type": "code",
   "execution_count": 7,
   "metadata": {
    "datalore": {
     "hide_input_from_viewers": false,
     "hide_output_from_viewers": false,
     "type": "CODE"
    }
   },
   "outputs": [
    {
     "data": {
      "text/plain": [
       "(<tf.Variable 'UnreadVariable' shape=(2,) dtype=int32, numpy=array([6, 4], dtype=int32)>,\n",
       " <tf.Variable 'Variable:0' shape=(2,) dtype=int32, numpy=array([6, 4], dtype=int32)>,\n",
       " <tf.Tensor: shape=(2,), dtype=int32, numpy=array([7, 4], dtype=int32)>)"
      ]
     },
     "metadata": {},
     "output_type": "display_data"
    }
   ],
   "source": [
    "changable[0].assign(6), changable, unchangable"
   ]
  },
  {
   "cell_type": "code",
   "execution_count": 8,
   "metadata": {
    "datalore": {
     "hide_input_from_viewers": false,
     "hide_output_from_viewers": false,
     "type": "CODE"
    }
   },
   "outputs": [
    {
     "data": {
      "text/plain": [
       "<tf.Tensor: shape=(3, 3), dtype=float32, numpy=\n",
       "array([[-0.7565803 , -0.06854702,  0.07595026],\n",
       "       [-1.2573844 , -0.23193763, -1.8107855 ],\n",
       "       [ 0.09988727, -0.50998646, -0.7535805 ]], dtype=float32)>"
      ]
     },
     "metadata": {},
     "output_type": "display_data"
    }
   ],
   "source": [
    "# Create a random variable\n",
    "random_x = tf.random.Generator.from_seed(42)\n",
    "random_x = random_x.normal(shape=(3, 3))\n",
    "random_x"
   ]
  },
  {
   "cell_type": "code",
   "execution_count": 9,
   "metadata": {
    "datalore": {
     "hide_input_from_viewers": false,
     "hide_output_from_viewers": false,
     "type": "CODE"
    }
   },
   "outputs": [
    {
     "data": {
      "text/plain": [
       "<tf.Tensor: shape=(3, 3), dtype=float32, numpy=\n",
       "array([[-0.7565803 , -0.06854702,  0.07595026],\n",
       "       [-1.2573844 , -0.23193763, -1.8107855 ],\n",
       "       [ 0.09988727, -0.50998646, -0.7535805 ]], dtype=float32)>"
      ]
     },
     "metadata": {},
     "output_type": "display_data"
    }
   ],
   "source": [
    "random_y = tf.random.Generator.from_seed(42)\n",
    "random_y = random_y.normal(shape=(3, 3))\n",
    "random_y"
   ]
  },
  {
   "cell_type": "code",
   "execution_count": 10,
   "metadata": {
    "datalore": {
     "hide_input_from_viewers": false,
     "hide_output_from_viewers": false,
     "type": "CODE"
    }
   },
   "outputs": [
    {
     "data": {
      "text/plain": [
       "(<tf.Tensor: shape=(3, 3), dtype=float32, numpy=\n",
       " array([[0.7493447 , 0.73561966, 0.45230794],\n",
       "        [0.49039817, 0.1889317 , 0.52027524],\n",
       "        [0.8736881 , 0.46921718, 0.63932586]], dtype=float32)>,\n",
       " <tf.Tensor: shape=(3, 3), dtype=float32, numpy=\n",
       " array([[0.7493447 , 0.73561966, 0.45230794],\n",
       "        [0.49039817, 0.1889317 , 0.52027524],\n",
       "        [0.8736881 , 0.46921718, 0.63932586]], dtype=float32)>,\n",
       " <tf.Tensor: shape=(3, 3), dtype=bool, numpy=\n",
       " array([[ True,  True,  True],\n",
       "        [ True,  True,  True],\n",
       "        [ True,  True,  True]])>,\n",
       " False)"
      ]
     },
     "metadata": {},
     "output_type": "display_data"
    }
   ],
   "source": [
    "random_1 = tf.random.Generator.from_seed(42)\n",
    "random_1 = random_1.uniform(shape=(3, 3))\n",
    "random_2 = tf.random.Generator.from_seed(42)\n",
    "random_2 = random_2.uniform(shape=(3, 3))\n",
    "\n",
    "random_1, random_2, random_1 == random_2, random_1 is random_2"
   ]
  },
  {
   "cell_type": "code",
   "execution_count": 11,
   "metadata": {
    "datalore": {
     "hide_input_from_viewers": false,
     "hide_output_from_viewers": false,
     "type": "CODE"
    }
   },
   "outputs": [
    {
     "data": {
      "text/plain": [
       "<tf.Tensor: shape=(3, 3), dtype=int32, numpy=\n",
       "array([[7, 9, 3],\n",
       "       [6, 7, 2],\n",
       "       [2, 4, 5]], dtype=int32)>"
      ]
     },
     "metadata": {},
     "output_type": "display_data"
    }
   ],
   "source": [
    "# Shuffuled the order of the tensor\n",
    "unshuffeled = tf.constant([[2, 4, 5],\n",
    "                           [6, 7, 2],\n",
    "                           [7, 9, 3]])\n",
    "\n",
    "tf.random.shuffle(unshuffeled)"
   ]
  },
  {
   "cell_type": "code",
   "execution_count": 12,
   "metadata": {
    "datalore": {
     "hide_input_from_viewers": false,
     "hide_output_from_viewers": false,
     "type": "CODE"
    }
   },
   "outputs": [
    {
     "data": {
      "text/plain": [
       "<tf.Tensor: shape=(3, 3), dtype=int32, numpy=\n",
       "array([[7, 9, 3],\n",
       "       [6, 7, 2],\n",
       "       [2, 4, 5]], dtype=int32)>"
      ]
     },
     "metadata": {},
     "output_type": "display_data"
    }
   ],
   "source": [
    "tf.random.shuffle(unshuffeled, seed=42)"
   ]
  },
  {
   "cell_type": "code",
   "execution_count": 13,
   "metadata": {
    "datalore": {
     "hide_input_from_viewers": false,
     "hide_output_from_viewers": false,
     "type": "CODE"
    }
   },
   "outputs": [
    {
     "data": {
      "text/plain": [
       "<tf.Tensor: shape=(3, 3), dtype=int32, numpy=\n",
       "array([[6, 7, 2],\n",
       "       [7, 9, 3],\n",
       "       [2, 4, 5]], dtype=int32)>"
      ]
     },
     "metadata": {},
     "output_type": "display_data"
    }
   ],
   "source": [
    "tf.random.set_seed(42) \n",
    "tf.random.shuffle(unshuffeled)"
   ]
  },
  {
   "cell_type": "code",
   "execution_count": 14,
   "metadata": {
    "datalore": {
     "hide_input_from_viewers": false,
     "hide_output_from_viewers": false,
     "type": "CODE"
    }
   },
   "outputs": [
    {
     "data": {
      "text/plain": [
       "<tf.Tensor: shape=(2, 2), dtype=float32, numpy=\n",
       "array([[0.5019307 , 0.7626052 ],\n",
       "       [0.21333694, 0.55127513]], dtype=float32)>"
      ]
     },
     "metadata": {},
     "output_type": "display_data"
    }
   ],
   "source": [
    "# Creating a generator from a seed:\n",
    "# Reproduciable result because of seed\n",
    "from_seed = tf.random.Generator.from_seed(425)\n",
    "from_seed = from_seed.uniform(shape=(2, 2))\n",
    "from_seed"
   ]
  },
  {
   "cell_type": "code",
   "execution_count": 15,
   "metadata": {
    "datalore": {
     "hide_input_from_viewers": false,
     "hide_output_from_viewers": false,
     "type": "CODE"
    }
   },
   "outputs": [
    {
     "data": {
      "text/plain": [
       "<tf.Variable 'StateVar:0' shape=(3,) dtype=int64, numpy=array([56,  0,  0])>"
      ]
     },
     "metadata": {},
     "output_type": "display_data"
    }
   ],
   "source": [
    "check_state = tf.random.Generator.from_seed(56)\n",
    "check_state.state"
   ]
  },
  {
   "cell_type": "code",
   "execution_count": 16,
   "metadata": {
    "datalore": {
     "hide_input_from_viewers": false,
     "hide_output_from_viewers": false,
     "type": "CODE"
    }
   },
   "outputs": [
    {
     "data": {
      "text/plain": [
       "<tf.Variable 'StateVar:0' shape=(3,) dtype=int64, numpy=array([56,  0,  0])>"
      ]
     },
     "metadata": {},
     "output_type": "display_data"
    }
   ],
   "source": [
    "check_state.state  # Documentation says it's state will change with every refresh But it's not."
   ]
  },
  {
   "cell_type": "code",
   "execution_count": 17,
   "metadata": {
    "datalore": {
     "hide_input_from_viewers": false,
     "hide_output_from_viewers": false,
     "type": "CODE"
    }
   },
   "outputs": [
    {
     "data": {
      "text/plain": [
       "<tf.Tensor: shape=(2, 2), dtype=float32, numpy=\n",
       "array([[0.1388042 , 0.77747095],\n",
       "       [0.66417766, 0.86078477]], dtype=float32)>"
      ]
     },
     "metadata": {},
     "output_type": "display_data"
    }
   ],
   "source": [
    "# Creating a generator from a non-deterministic state\n",
    "# Change with every refresh\n",
    "without_state = tf.random.Generator.from_non_deterministic_state()\n",
    "without_state = without_state.uniform(shape=(2, 2))\n",
    "without_state"
   ]
  },
  {
   "cell_type": "code",
   "execution_count": 18,
   "metadata": {
    "datalore": {
     "hide_input_from_viewers": false,
     "hide_output_from_viewers": false,
     "type": "CODE"
    }
   },
   "outputs": [
    {
     "data": {
      "text/plain": [
       "<tf.Tensor: shape=(2, 4), dtype=float32, numpy=\n",
       "array([[0.78871405, 0.48539102, 0.0492512 , 0.99272   ],\n",
       "       [0.07170284, 0.90475464, 0.7895447 , 0.8414929 ]], dtype=float32)>"
      ]
     },
     "metadata": {},
     "output_type": "display_data"
    }
   ],
   "source": [
    "# All the constructors allow explicitly choosing\n",
    "# an Random-Number-Generation (RNG) algorithm are \"philox\" and \"threefry\"\n",
    "diff_algo = tf.random.Generator.from_seed(seed=456, alg='philox')\n",
    "diff_algo.uniform(shape=(2,4))"
   ]
  },
  {
   "cell_type": "code",
   "execution_count": 19,
   "metadata": {
    "datalore": {
     "hide_input_from_viewers": false,
     "hide_output_from_viewers": false,
     "type": "CODE"
    }
   },
   "outputs": [
    {
     "data": {
      "text/plain": [
       "<tf.Tensor: shape=(2, 2), dtype=float32, numpy=\n",
       "array([[0.92042494, 0.80447495],\n",
       "       [0.9643706 , 0.61824214]], dtype=float32)>"
      ]
     },
     "metadata": {},
     "output_type": "display_data"
    }
   ],
   "source": [
    "global_gentator = tf.random.get_global_generator()\n",
    "global_gentator.uniform(shape=(2, 2))"
   ]
  },
  {
   "cell_type": "code",
   "execution_count": 20,
   "metadata": {
    "datalore": {
     "hide_input_from_viewers": false,
     "hide_output_from_viewers": false,
     "type": "CODE"
    }
   },
   "outputs": [
    {
     "data": {
      "text/plain": [
       "<tf.Tensor: shape=(3, 2), dtype=int16, numpy=\n",
       "array([[ 7,  9],\n",
       "       [10,  5],\n",
       "       [ 4,  8]], dtype=int16)>"
      ]
     },
     "metadata": {},
     "output_type": "display_data"
    }
   ],
   "source": [
    "check_seed = tf.constant([[10, 5],\n",
    "                            [4, 8],\n",
    "                            [7, 9]], dtype=tf.int16)\n",
    "tf.random.shuffle(check_seed) # ALways shuffle no use of seed"
   ]
  },
  {
   "cell_type": "code",
   "execution_count": 21,
   "metadata": {
    "datalore": {
     "hide_input_from_viewers": false,
     "hide_output_from_viewers": false,
     "type": "CODE"
    }
   },
   "outputs": [
    {
     "data": {
      "text/plain": [
       "<tf.Tensor: shape=(3, 2), dtype=int16, numpy=\n",
       "array([[10,  5],\n",
       "       [ 4,  8],\n",
       "       [ 7,  9]], dtype=int16)>"
      ]
     },
     "metadata": {},
     "output_type": "display_data"
    }
   ],
   "source": [
    "tf.random.shuffle(check_seed, seed=42) # Still shuffle even when we apply operation seed"
   ]
  },
  {
   "cell_type": "code",
   "execution_count": 22,
   "metadata": {
    "datalore": {
     "hide_input_from_viewers": false,
     "hide_output_from_viewers": false,
     "type": "CODE"
    }
   },
   "outputs": [
    {
     "data": {
      "text/plain": [
       "<tf.Tensor: shape=(3, 2), dtype=int16, numpy=\n",
       "array([[ 4,  8],\n",
       "       [ 7,  9],\n",
       "       [10,  5]], dtype=int16)>"
      ]
     },
     "metadata": {},
     "output_type": "display_data"
    }
   ],
   "source": [
    "tf.random.set_seed(42) # Stop shuffle use of global seed\n",
    "tf.random.shuffle(check_seed) "
   ]
  },
  {
   "cell_type": "code",
   "execution_count": 23,
   "metadata": {
    "datalore": {
     "hide_input_from_viewers": false,
     "hide_output_from_viewers": false,
     "type": "CODE"
    }
   },
   "outputs": [
    {
     "data": {
      "text/plain": [
       "<tf.Tensor: shape=(3, 2), dtype=int16, numpy=\n",
       "array([[10,  5],\n",
       "       [ 4,  8],\n",
       "       [ 7,  9]], dtype=int16)>"
      ]
     },
     "metadata": {},
     "output_type": "display_data"
    }
   ],
   "source": [
    "tf.random.set_seed(42) # Use of global and operation seed same time gives different result compare to use of only global seed.\n",
    "# when be use only operation seed no effect seen. but togather it's show that it has also contributing in seed generation.\n",
    "tf.random.shuffle(check_seed, seed=42)"
   ]
  },
  {
   "attachments": {},
   "cell_type": "markdown",
   "metadata": {
    "datalore": {
     "hide_input_from_viewers": false,
     "hide_output_from_viewers": false,
     "type": "MD"
    }
   },
   "source": [
    "# Other ways to create tensor"
   ]
  },
  {
   "cell_type": "code",
   "execution_count": 24,
   "metadata": {
    "datalore": {
     "hide_input_from_viewers": false,
     "hide_output_from_viewers": false,
     "type": "CODE"
    }
   },
   "outputs": [
    {
     "data": {
      "text/plain": [
       "(<tf.Tensor: shape=(2, 4), dtype=float32, numpy=\n",
       " array([[1., 1., 1., 1.],\n",
       "        [1., 1., 1., 1.]], dtype=float32)>,\n",
       " <tf.Tensor: shape=(2, 4), dtype=float32, numpy=\n",
       " array([[1., 1., 1., 1.],\n",
       "        [1., 1., 1., 1.]], dtype=float32)>)"
      ]
     },
     "metadata": {},
     "output_type": "display_data"
    }
   ],
   "source": [
    "# Create a tensor of given shape with element 1.\n",
    "tf.ones((2, 4)), tf.ones([2, 4])"
   ]
  },
  {
   "cell_type": "code",
   "execution_count": 25,
   "metadata": {
    "datalore": {
     "hide_input_from_viewers": false,
     "hide_output_from_viewers": false,
     "type": "CODE"
    }
   },
   "outputs": [
    {
     "data": {
      "text/plain": [
       "(<tf.Tensor: shape=(2, 5), dtype=float32, numpy=\n",
       " array([[0., 0., 0., 0., 0.],\n",
       "        [0., 0., 0., 0., 0.]], dtype=float32)>,\n",
       " <tf.Tensor: shape=(2, 5), dtype=float32, numpy=\n",
       " array([[0., 0., 0., 0., 0.],\n",
       "        [0., 0., 0., 0., 0.]], dtype=float32)>)"
      ]
     },
     "metadata": {},
     "output_type": "display_data"
    }
   ],
   "source": [
    "# Create a tensor of given shape with element 0.\n",
    "tf.zeros((2, 5)), tf.zeros([2, 5])"
   ]
  },
  {
   "cell_type": "code",
   "execution_count": 26,
   "metadata": {
    "datalore": {
     "hide_input_from_viewers": false,
     "hide_output_from_viewers": false,
     "type": "CODE"
    }
   },
   "outputs": [
    {
     "data": {
      "text/html": []
     },
     "metadata": {},
     "output_type": "display_data"
    }
   ],
   "source": [
    "# Also turn numpy into tensors\n",
    "import numpy as np\n",
    "numpy_A = np.arange(1, 19, dtype=np.int32)\n",
    "numpy_A"
   ]
  },
  {
   "cell_type": "code",
   "execution_count": 27,
   "metadata": {
    "datalore": {
     "hide_input_from_viewers": false,
     "hide_output_from_viewers": false,
     "type": "CODE"
    }
   },
   "outputs": [
    {
     "data": {
      "text/plain": [
       "(<tf.Tensor: shape=(18,), dtype=int32, numpy=\n",
       " array([ 1,  2,  3,  4,  5,  6,  7,  8,  9, 10, 11, 12, 13, 14, 15, 16, 17,\n",
       "        18], dtype=int32)>,\n",
       " <tf.Tensor: shape=(2, 3, 3), dtype=int32, numpy=\n",
       " array([[[ 1,  2,  3],\n",
       "         [ 4,  5,  6],\n",
       "         [ 7,  8,  9]],\n",
       " \n",
       "        [[10, 11, 12],\n",
       "         [13, 14, 15],\n",
       "         [16, 17, 18]]], dtype=int32)>)"
      ]
     },
     "metadata": {},
     "output_type": "display_data"
    }
   ],
   "source": [
    "A = tf.constant(numpy_A)\n",
    "B = tf.constant(numpy_A, shape=(2, 3, 3))\n",
    "A, B"
   ]
  },
  {
   "attachments": {},
   "cell_type": "markdown",
   "metadata": {
    "datalore": {
     "hide_input_from_viewers": false,
     "hide_output_from_viewers": false,
     "type": "MD"
    }
   },
   "source": [
    "# Getting Information from tensors"
   ]
  },
  {
   "cell_type": "code",
   "execution_count": 28,
   "metadata": {
    "datalore": {
     "hide_input_from_viewers": false,
     "hide_output_from_viewers": false,
     "type": "CODE"
    }
   },
   "outputs": [
    {
     "data": {
      "text/plain": [
       "<tf.Tensor: shape=(2, 3, 3, 4), dtype=float32, numpy=\n",
       "array([[[[1., 1., 1., 1.],\n",
       "         [1., 1., 1., 1.],\n",
       "         [1., 1., 1., 1.]],\n",
       "\n",
       "        [[1., 1., 1., 1.],\n",
       "         [1., 1., 1., 1.],\n",
       "         [1., 1., 1., 1.]],\n",
       "\n",
       "        [[1., 1., 1., 1.],\n",
       "         [1., 1., 1., 1.],\n",
       "         [1., 1., 1., 1.]]],\n",
       "\n",
       "\n",
       "       [[[1., 1., 1., 1.],\n",
       "         [1., 1., 1., 1.],\n",
       "         [1., 1., 1., 1.]],\n",
       "\n",
       "        [[1., 1., 1., 1.],\n",
       "         [1., 1., 1., 1.],\n",
       "         [1., 1., 1., 1.]],\n",
       "\n",
       "        [[1., 1., 1., 1.],\n",
       "         [1., 1., 1., 1.],\n",
       "         [1., 1., 1., 1.]]]], dtype=float32)>"
      ]
     },
     "metadata": {},
     "output_type": "display_data"
    }
   ],
   "source": [
    "# Create Rank 4 Tensor(4-D Tensor)\n",
    "rank_4_tensor = tf.ones(shape=(2, 3, 3, 4))\n",
    "rank_4_tensor"
   ]
  },
  {
   "cell_type": "code",
   "execution_count": 29,
   "metadata": {
    "datalore": {
     "hide_input_from_viewers": false,
     "hide_output_from_viewers": false,
     "type": "CODE"
    }
   },
   "outputs": [
    {
     "data": {
      "text/plain": [
       "(<tf.Tensor: shape=(3, 4), dtype=float32, numpy=\n",
       " array([[1., 1., 1., 1.],\n",
       "        [1., 1., 1., 1.],\n",
       "        [1., 1., 1., 1.]], dtype=float32)>,\n",
       " <tf.Tensor: shape=(3, 4), dtype=float32, numpy=\n",
       " array([[1., 1., 1., 1.],\n",
       "        [1., 1., 1., 1.],\n",
       "        [1., 1., 1., 1.]], dtype=float32)>)"
      ]
     },
     "metadata": {},
     "output_type": "display_data"
    }
   ],
   "source": [
    "rank_4_tensor[0][1], rank_4_tensor[0, 1]"
   ]
  },
  {
   "cell_type": "code",
   "execution_count": 30,
   "metadata": {
    "datalore": {
     "hide_input_from_viewers": false,
     "hide_output_from_viewers": false,
     "type": "CODE"
    }
   },
   "outputs": [
    {
     "data": {
      "text/plain": [
       "(TensorShape([2, 3, 3, 4]), 4, <tf.Tensor: shape=(), dtype=int32, numpy=72>)"
      ]
     },
     "metadata": {},
     "output_type": "display_data"
    }
   ],
   "source": [
    "rank_4_tensor.shape, rank_4_tensor.ndim, tf.size(rank_4_tensor)"
   ]
  },
  {
   "cell_type": "code",
   "execution_count": 31,
   "metadata": {
    "datalore": {
     "hide_input_from_viewers": false,
     "hide_output_from_viewers": false,
     "type": "CODE"
    }
   },
   "outputs": [
    {
     "name": "stdout",
     "output_type": "stream",
     "text": [
      "Data type of every element : <dtype: 'float32'>\n",
      "Number of Dimension : 4\n",
      "Shape of tensor : (2, 3, 3, 4)\n",
      "Element along the 0 axis : 2\n",
      "Element along the last axis : 4\n",
      "Total no of element in our tensor : 72\n"
     ]
    }
   ],
   "source": [
    "# Get Various attributes of our tensor\n",
    "print(f'Data type of every element : {rank_4_tensor.dtype}')\n",
    "print(f'Number of Dimension : {rank_4_tensor.ndim}')\n",
    "print(f'Shape of tensor : {rank_4_tensor.shape}')\n",
    "print(f'Element along the 0 axis : {rank_4_tensor.shape[0]}')\n",
    "print(f'Element along the last axis : {rank_4_tensor.shape[-1]}')\n",
    "print(f'Total no of element in our tensor : {tf.size(rank_4_tensor)}')"
   ]
  },
  {
   "attachments": {},
   "cell_type": "markdown",
   "metadata": {
    "datalore": {
     "hide_input_from_viewers": false,
     "hide_output_from_viewers": false,
     "type": "MD"
    }
   },
   "source": [
    "# Indexing Tensors\n",
    "* Tensor can be indexed just like python"
   ]
  },
  {
   "cell_type": "code",
   "execution_count": 32,
   "metadata": {
    "datalore": {
     "hide_input_from_viewers": false,
     "hide_output_from_viewers": false,
     "type": "CODE"
    }
   },
   "outputs": [
    {
     "data": {
      "text/plain": [
       "<tf.Tensor: shape=(2, 2, 2, 2), dtype=float32, numpy=\n",
       "array([[[[1., 1.],\n",
       "         [1., 1.]],\n",
       "\n",
       "        [[1., 1.],\n",
       "         [1., 1.]]],\n",
       "\n",
       "\n",
       "       [[[1., 1.],\n",
       "         [1., 1.]],\n",
       "\n",
       "        [[1., 1.],\n",
       "         [1., 1.]]]], dtype=float32)>"
      ]
     },
     "metadata": {},
     "output_type": "display_data"
    }
   ],
   "source": [
    "# Get the first 2 element of each dimension\n",
    "rank_4_tensor[:2, :2, :2, :2]"
   ]
  },
  {
   "cell_type": "code",
   "execution_count": 33,
   "metadata": {
    "datalore": {
     "hide_input_from_viewers": false,
     "hide_output_from_viewers": false,
     "type": "CODE"
    }
   },
   "outputs": [
    {
     "data": {
      "text/plain": [
       "(<tf.Tensor: shape=(1, 1, 1, 4), dtype=float32, numpy=array([[[[1., 1., 1., 1.]]]], dtype=float32)>,\n",
       " <tf.Tensor: shape=(1, 1, 1, 4), dtype=float32, numpy=array([[[[1., 1., 1., 1.]]]], dtype=float32)>)"
      ]
     },
     "metadata": {},
     "output_type": "display_data"
    }
   ],
   "source": [
    "# Get the first element from each dimension from each index except for the final one.\n",
    "rank_4_tensor[:1, :1, :1], rank_4_tensor[:1, :1, :1, :]"
   ]
  },
  {
   "cell_type": "code",
   "execution_count": 34,
   "metadata": {
    "datalore": {
     "hide_input_from_viewers": false,
     "hide_output_from_viewers": false,
     "type": "CODE"
    }
   },
   "outputs": [
    {
     "data": {
      "text/plain": [
       "<tf.Tensor: shape=(2, 1, 2, 3), dtype=float32, numpy=\n",
       "array([[[[1., 1., 1.],\n",
       "         [1., 1., 1.]]],\n",
       "\n",
       "\n",
       "       [[[1., 1., 1.],\n",
       "         [1., 1., 1.]]]], dtype=float32)>"
      ]
     },
     "metadata": {},
     "output_type": "display_data"
    }
   ],
   "source": [
    "# Experiment\n",
    "rank_4_tensor[:, :1, :2, :3]"
   ]
  },
  {
   "cell_type": "code",
   "execution_count": 35,
   "metadata": {
    "datalore": {
     "hide_input_from_viewers": false,
     "hide_output_from_viewers": false,
     "type": "CODE"
    }
   },
   "outputs": [
    {
     "data": {
      "text/plain": [
       "<tf.Tensor: shape=(2, 3), dtype=float32, numpy=\n",
       "array([[1., 1., 1.],\n",
       "       [1., 1., 1.]], dtype=float32)>"
      ]
     },
     "metadata": {},
     "output_type": "display_data"
    }
   ],
   "source": [
    "# Create a Rank 2 Tensor\n",
    "rank_2_tensor = tf.ones(shape=(2, 3))\n",
    "rank_2_tensor"
   ]
  },
  {
   "cell_type": "code",
   "execution_count": 36,
   "metadata": {
    "datalore": {
     "hide_input_from_viewers": false,
     "hide_output_from_viewers": false,
     "type": "CODE"
    }
   },
   "outputs": [
    {
     "data": {
      "text/plain": [
       "<tf.Tensor: shape=(2,), dtype=float32, numpy=array([1., 1.], dtype=float32)>"
      ]
     },
     "metadata": {},
     "output_type": "display_data"
    }
   ],
   "source": [
    "# Get the last item of each of row of our rank 2 tensor\n",
    "rank_2_tensor[:, -1]"
   ]
  },
  {
   "cell_type": "code",
   "execution_count": 37,
   "metadata": {
    "datalore": {
     "hide_input_from_viewers": false,
     "hide_output_from_viewers": false,
     "type": "CODE"
    }
   },
   "outputs": [
    {
     "data": {
      "text/plain": [
       "(<tf.Tensor: shape=(5, 5), dtype=int32, numpy=\n",
       " array([[133, 147, 126,  98, 156],\n",
       "        [ 61, 151,  97, 182, 107],\n",
       "        [141,  26,  80, 123,  75],\n",
       "        [122,  78,  93,  46, 197],\n",
       "        [ 83,  59, 188,  69, 184]], dtype=int32)>,\n",
       " TensorShape([5, 5]),\n",
       " 2,\n",
       " <tf.Tensor: shape=(), dtype=int32, numpy=25>)"
      ]
     },
     "metadata": {},
     "output_type": "display_data"
    }
   ],
   "source": [
    "# Create a random Tensor with a range of value\n",
    "arank_2_tensor = tf.random.Generator.from_seed(42)\n",
    "arank_2_tensor = arank_2_tensor.uniform(shape=(5, 5), minval=10, maxval=200, dtype=tf.int32)\n",
    "arank_2_tensor, arank_2_tensor.shape, arank_2_tensor.ndim, tf.size(arank_2_tensor)"
   ]
  },
  {
   "cell_type": "code",
   "execution_count": 38,
   "metadata": {
    "datalore": {
     "hide_input_from_viewers": false,
     "hide_output_from_viewers": false,
     "type": "CODE"
    }
   },
   "outputs": [
    {
     "data": {
      "text/plain": [
       "<tf.Tensor: shape=(5,), dtype=int32, numpy=array([156, 107,  75, 197, 184], dtype=int32)>"
      ]
     },
     "metadata": {},
     "output_type": "display_data"
    }
   ],
   "source": [
    "# Get the last item of each of row of our rank 2 tensor\n",
    "arank_2_tensor[:, -1]"
   ]
  },
  {
   "cell_type": "code",
   "execution_count": 39,
   "metadata": {
    "datalore": {
     "hide_input_from_viewers": false,
     "hide_output_from_viewers": false,
     "type": "CODE"
    }
   },
   "outputs": [
    {
     "data": {
      "text/plain": [
       "<tf.Tensor: shape=(2, 3, 1), dtype=float32, numpy=\n",
       "array([[[1.],\n",
       "        [1.],\n",
       "        [1.]],\n",
       "\n",
       "       [[1.],\n",
       "        [1.],\n",
       "        [1.]]], dtype=float32)>"
      ]
     },
     "metadata": {},
     "output_type": "display_data"
    }
   ],
   "source": [
    "# Add in extra dimension to our rank 2 tensor\n",
    "rank_3_tensor = rank_2_tensor[..., tf.newaxis]\n",
    "rank_3_tensor"
   ]
  },
  {
   "cell_type": "code",
   "execution_count": 40,
   "metadata": {
    "datalore": {
     "hide_input_from_viewers": false,
     "hide_output_from_viewers": false,
     "type": "CODE"
    }
   },
   "outputs": [
    {
     "data": {
      "text/plain": [
       "<tf.Tensor: shape=(5, 5, 1), dtype=int32, numpy=\n",
       "array([[[133],\n",
       "        [147],\n",
       "        [126],\n",
       "        [ 98],\n",
       "        [156]],\n",
       "\n",
       "       [[ 61],\n",
       "        [151],\n",
       "        [ 97],\n",
       "        [182],\n",
       "        [107]],\n",
       "\n",
       "       [[141],\n",
       "        [ 26],\n",
       "        [ 80],\n",
       "        [123],\n",
       "        [ 75]],\n",
       "\n",
       "       [[122],\n",
       "        [ 78],\n",
       "        [ 93],\n",
       "        [ 46],\n",
       "        [197]],\n",
       "\n",
       "       [[ 83],\n",
       "        [ 59],\n",
       "        [188],\n",
       "        [ 69],\n",
       "        [184]]], dtype=int32)>"
      ]
     },
     "metadata": {},
     "output_type": "display_data"
    }
   ],
   "source": [
    "arank_2_tensor[..., tf.newaxis]"
   ]
  },
  {
   "cell_type": "code",
   "execution_count": 41,
   "metadata": {
    "datalore": {
     "hide_input_from_viewers": false,
     "hide_output_from_viewers": false,
     "type": "CODE"
    }
   },
   "outputs": [
    {
     "data": {
      "text/plain": [
       "<tf.Tensor: shape=(1, 5, 5), dtype=int32, numpy=\n",
       "array([[[133, 147, 126,  98, 156],\n",
       "        [ 61, 151,  97, 182, 107],\n",
       "        [141,  26,  80, 123,  75],\n",
       "        [122,  78,  93,  46, 197],\n",
       "        [ 83,  59, 188,  69, 184]]], dtype=int32)>"
      ]
     },
     "metadata": {},
     "output_type": "display_data"
    }
   ],
   "source": [
    "arank_2_tensor[tf.newaxis, ...]"
   ]
  },
  {
   "cell_type": "code",
   "execution_count": 42,
   "metadata": {
    "datalore": {
     "hide_input_from_viewers": false,
     "hide_output_from_viewers": false,
     "type": "CODE"
    }
   },
   "outputs": [
    {
     "data": {
      "text/plain": [
       "(<tf.Tensor: shape=(5, 1, 5), dtype=int32, numpy=\n",
       " array([[[133, 147, 126,  98, 156]],\n",
       " \n",
       "        [[ 61, 151,  97, 182, 107]],\n",
       " \n",
       "        [[141,  26,  80, 123,  75]],\n",
       " \n",
       "        [[122,  78,  93,  46, 197]],\n",
       " \n",
       "        [[ 83,  59, 188,  69, 184]]], dtype=int32)>,\n",
       " <tf.Tensor: shape=(5, 1, 5), dtype=int32, numpy=\n",
       " array([[[133, 147, 126,  98, 156]],\n",
       " \n",
       "        [[ 61, 151,  97, 182, 107]],\n",
       " \n",
       "        [[141,  26,  80, 123,  75]],\n",
       " \n",
       "        [[122,  78,  93,  46, 197]],\n",
       " \n",
       "        [[ 83,  59, 188,  69, 184]]], dtype=int32)>)"
      ]
     },
     "metadata": {},
     "output_type": "display_data"
    }
   ],
   "source": [
    "arank_2_tensor[:, tf.newaxis, :], arank_2_tensor[:, tf.newaxis]"
   ]
  },
  {
   "cell_type": "code",
   "execution_count": 43,
   "metadata": {
    "datalore": {
     "hide_input_from_viewers": false,
     "hide_output_from_viewers": false,
     "type": "CODE"
    }
   },
   "outputs": [
    {
     "data": {
      "text/plain": [
       "<tf.Tensor: shape=(5, 5, 1), dtype=int32, numpy=\n",
       "array([[[133],\n",
       "        [147],\n",
       "        [126],\n",
       "        [ 98],\n",
       "        [156]],\n",
       "\n",
       "       [[ 61],\n",
       "        [151],\n",
       "        [ 97],\n",
       "        [182],\n",
       "        [107]],\n",
       "\n",
       "       [[141],\n",
       "        [ 26],\n",
       "        [ 80],\n",
       "        [123],\n",
       "        [ 75]],\n",
       "\n",
       "       [[122],\n",
       "        [ 78],\n",
       "        [ 93],\n",
       "        [ 46],\n",
       "        [197]],\n",
       "\n",
       "       [[ 83],\n",
       "        [ 59],\n",
       "        [188],\n",
       "        [ 69],\n",
       "        [184]]], dtype=int32)>"
      ]
     },
     "metadata": {},
     "output_type": "display_data"
    }
   ],
   "source": [
    "# Alternative to add dimension\n",
    "# Add dimension to last.\n",
    "tf.expand_dims(arank_2_tensor, axis=-1)"
   ]
  },
  {
   "cell_type": "code",
   "execution_count": 44,
   "metadata": {
    "datalore": {
     "hide_input_from_viewers": false,
     "hide_output_from_viewers": false,
     "type": "CODE"
    }
   },
   "outputs": [
    {
     "data": {
      "text/plain": [
       "<tf.Tensor: shape=(1, 5, 5), dtype=int32, numpy=\n",
       "array([[[133, 147, 126,  98, 156],\n",
       "        [ 61, 151,  97, 182, 107],\n",
       "        [141,  26,  80, 123,  75],\n",
       "        [122,  78,  93,  46, 197],\n",
       "        [ 83,  59, 188,  69, 184]]], dtype=int32)>"
      ]
     },
     "metadata": {},
     "output_type": "display_data"
    }
   ],
   "source": [
    "# Add Dimension to front or first\n",
    "tf.expand_dims(arank_2_tensor, axis=0)"
   ]
  },
  {
   "cell_type": "code",
   "execution_count": 45,
   "metadata": {
    "datalore": {
     "hide_input_from_viewers": false,
     "hide_output_from_viewers": false,
     "type": "CODE"
    }
   },
   "outputs": [
    {
     "data": {
      "text/plain": [
       "<tf.Tensor: shape=(5, 1, 5), dtype=int32, numpy=\n",
       "array([[[133, 147, 126,  98, 156]],\n",
       "\n",
       "       [[ 61, 151,  97, 182, 107]],\n",
       "\n",
       "       [[141,  26,  80, 123,  75]],\n",
       "\n",
       "       [[122,  78,  93,  46, 197]],\n",
       "\n",
       "       [[ 83,  59, 188,  69, 184]]], dtype=int32)>"
      ]
     },
     "metadata": {},
     "output_type": "display_data"
    }
   ],
   "source": [
    "# Add Dimension to any position just incress axis value. Make sure that tensor has that amount of dimension\n",
    "tf.expand_dims(arank_2_tensor, axis=1)"
   ]
  },
  {
   "attachments": {},
   "cell_type": "markdown",
   "metadata": {
    "datalore": {
     "hide_input_from_viewers": false,
     "hide_output_from_viewers": false,
     "type": "MD"
    }
   },
   "source": [
    "# Manipulating Tensors (Tensors Operations)\n",
    "### Basic Operations"
   ]
  },
  {
   "cell_type": "code",
   "execution_count": 46,
   "metadata": {
    "datalore": {
     "hide_input_from_viewers": false,
     "hide_output_from_viewers": false,
     "type": "CODE"
    }
   },
   "outputs": [
    {
     "data": {
      "text/plain": [
       "(<tf.Tensor: shape=(2, 2), dtype=int32, numpy=\n",
       " array([[12, 15],\n",
       "        [16, 19]], dtype=int32)>,\n",
       " <tf.Tensor: shape=(2, 2), dtype=int32, numpy=\n",
       " array([[12, 15],\n",
       "        [16, 19]], dtype=int32)>,\n",
       " <tf.Tensor: shape=(2, 2), dtype=int32, numpy=\n",
       " array([[ 5, 10],\n",
       "        [10, 16]], dtype=int32)>)"
      ]
     },
     "metadata": {},
     "output_type": "display_data"
    }
   ],
   "source": [
    "# Add values to tensor by '+' or add function\n",
    "tensor = tf.constant([[2, 5],\n",
    "                      [6, 9]])\n",
    "tensor_0 = tf.constant([[3, 5],\n",
    "                        [4, 7]])\n",
    "tensor + 10, tf.add(tensor, 10), tf.add(tensor, tensor_0) # Same as numpy "
   ]
  },
  {
   "cell_type": "code",
   "execution_count": 47,
   "metadata": {
    "datalore": {
     "hide_input_from_viewers": false,
     "hide_output_from_viewers": false,
     "type": "CODE"
    }
   },
   "outputs": [
    {
     "data": {
      "text/plain": [
       "(<tf.Tensor: shape=(2, 2), dtype=int32, numpy=\n",
       " array([[-1,  2],\n",
       "        [ 3,  6]], dtype=int32)>,\n",
       " <tf.Tensor: shape=(2, 2), dtype=int32, numpy=\n",
       " array([[-1,  2],\n",
       "        [ 3,  6]], dtype=int32)>,\n",
       " <tf.Tensor: shape=(2, 2), dtype=int32, numpy=\n",
       " array([[-1,  0],\n",
       "        [ 2,  2]], dtype=int32)>)"
      ]
     },
     "metadata": {},
     "output_type": "display_data"
    }
   ],
   "source": [
    "tensor - 3, tf.subtract(tensor, 3), tf.subtract(tensor, tensor_0)"
   ]
  },
  {
   "cell_type": "code",
   "execution_count": 48,
   "metadata": {
    "datalore": {
     "hide_input_from_viewers": false,
     "hide_output_from_viewers": false,
     "type": "CODE"
    }
   },
   "outputs": [
    {
     "data": {
      "text/plain": [
       "(<tf.Tensor: shape=(2, 2), dtype=int32, numpy=\n",
       " array([[20, 50],\n",
       "        [60, 90]], dtype=int32)>,\n",
       " <tf.Tensor: shape=(2, 2), dtype=int32, numpy=\n",
       " array([[20, 50],\n",
       "        [60, 90]], dtype=int32)>,\n",
       " <tf.Tensor: shape=(2, 2), dtype=int32, numpy=\n",
       " array([[ 6, 25],\n",
       "        [24, 63]], dtype=int32)>,\n",
       " <tf.Tensor: shape=(2, 2), dtype=int32, numpy=\n",
       " array([[ 6, 25],\n",
       "        [24, 63]], dtype=int32)>)"
      ]
     },
     "metadata": {},
     "output_type": "display_data"
    }
   ],
   "source": [
    "# First Two Scalar multiplication to matrix\n",
    "# Last two Element wise Multiplication of Two Matrix with same shape i.e. hadamard product\n",
    "tensor * 10, tf.multiply(tensor, 10), tensor * tensor_0, tf.multiply(tensor, tensor_0)"
   ]
  },
  {
   "cell_type": "code",
   "execution_count": 49,
   "metadata": {
    "datalore": {
     "hide_input_from_viewers": false,
     "hide_output_from_viewers": false,
     "type": "CODE"
    }
   },
   "outputs": [
    {
     "data": {
      "text/plain": [
       "(<tf.Tensor: shape=(2, 3), dtype=int32, numpy=\n",
       " array([[1636, 1334, 1424],\n",
       "        [1286,  887, 1223]], dtype=int32)>,\n",
       " <tf.Tensor: shape=(2, 3), dtype=int32, numpy=\n",
       " array([[1636, 1334, 1424],\n",
       "        [1286,  887, 1223]], dtype=int32)>)"
      ]
     },
     "metadata": {},
     "output_type": "display_data"
    }
   ],
   "source": [
    "# Matrix Multiplication\n",
    "\n",
    "random_matrix_1 = tf.random.Generator.from_seed(seed=55)\n",
    "random_matrix_1 = random_matrix_1.uniform(shape=(2, 4), minval=1, maxval=30, dtype=tf.int32)\n",
    "random_matrix_2 = tf.random.Generator.from_seed(seed=55)\n",
    "random_matrix_2 = random_matrix_2.uniform(shape=(4, 3), minval=10, maxval=50, dtype=tf.int32)\n",
    "\n",
    "\n",
    "# tf.tensordot(random_matrix_1, random_matrix_2)\n",
    "tf.matmul(random_matrix_1, random_matrix_2), random_matrix_1@random_matrix_2"
   ]
  },
  {
   "cell_type": "code",
   "execution_count": 50,
   "metadata": {
    "datalore": {
     "hide_input_from_viewers": false,
     "hide_output_from_viewers": false,
     "type": "CODE"
    }
   },
   "outputs": [
    {
     "data": {
      "text/plain": [
       "<tf.Tensor: shape=(4, 4), dtype=int32, numpy=\n",
       "array([[ 0, 36, 18, 42],\n",
       "       [ 0, 48, 24, 56],\n",
       "       [ 0, 48, 24, 56],\n",
       "       [ 0, 48, 24, 56]], dtype=int32)>"
      ]
     },
     "metadata": {},
     "output_type": "display_data"
    }
   ],
   "source": [
    "number = np.random.randint(low=2, high=89)\n",
    "random_matrix_3 = tf.constant([6, 8, 8, 8])\n",
    "random_matrix_4 = tf.constant([0, 6, 3, 7])\n",
    "tf.tensordot(random_matrix_3,random_matrix_4, axes=0)"
   ]
  },
  {
   "cell_type": "code",
   "execution_count": 51,
   "metadata": {
    "datalore": {
     "hide_input_from_viewers": false,
     "hide_output_from_viewers": false,
     "type": "CODE"
    }
   },
   "outputs": [
    {
     "data": {
      "text/plain": [
       "128"
      ]
     },
     "metadata": {},
     "output_type": "display_data"
    }
   ],
   "source": [
    "# vector dot product gives a scalar right one.\n",
    "a = np.array([6, 8, 8, 8])\n",
    "b = np.array([0, 6, 3, 7])\n",
    "np.dot(a, b)"
   ]
  },
  {
   "cell_type": "code",
   "execution_count": 52,
   "metadata": {
    "datalore": {
     "hide_input_from_viewers": false,
     "hide_output_from_viewers": false,
     "type": "CODE"
    }
   },
   "outputs": [],
   "source": [
    "# 2*2 Matrix dot product is also a scalar but the numpy behave as a Matrix Multiplication. So confusing\n",
    "# a = np.array([[6, 8, 8, 8],\n",
    "#               [4, 7, 5, 8]])\n",
    "# b = np.array([[0, 6, 3, 7],\n",
    "#               [5, 2, 8, 9]])\n",
    "# np.dot(a, b)"
   ]
  },
  {
   "cell_type": "code",
   "execution_count": 53,
   "metadata": {
    "datalore": {
     "hide_input_from_viewers": false,
     "hide_output_from_viewers": false,
     "type": "CODE"
    }
   },
   "outputs": [
    {
     "data": {
      "text/plain": [
       "(<tf.Tensor: shape=(2, 3), dtype=int32, numpy=\n",
       " array([[17, 69, 81],\n",
       "        [76, 62, 84]], dtype=int32)>,\n",
       " <tf.Tensor: shape=(3, 2), dtype=int32, numpy=\n",
       " array([[17, 69],\n",
       "        [81, 76],\n",
       "        [62, 84]], dtype=int32)>,\n",
       " <tf.Tensor: shape=(3, 2), dtype=int32, numpy=\n",
       " array([[17, 76],\n",
       "        [69, 62],\n",
       "        [81, 84]], dtype=int32)>)"
      ]
     },
     "metadata": {},
     "output_type": "display_data"
    }
   ],
   "source": [
    "# Change the shape of matrix\n",
    "change_shape_matrix = tf.random.uniform(shape=(2, 3), minval=10, maxval=100, dtype=tf.int32)\n",
    "change_shape_matrix, tf.reshape(change_shape_matrix, shape=(3, 2)), tf.transpose(change_shape_matrix)\n"
   ]
  },
  {
   "attachments": {},
   "cell_type": "markdown",
   "metadata": {
    "datalore": {
     "hide_input_from_viewers": false,
     "hide_output_from_viewers": false,
     "type": "MD"
    }
   },
   "source": [
    "# Change the data type of tensor"
   ]
  },
  {
   "cell_type": "code",
   "execution_count": 54,
   "metadata": {
    "datalore": {
     "hide_input_from_viewers": false,
     "hide_output_from_viewers": false,
     "type": "CODE"
    }
   },
   "outputs": [
    {
     "data": {
      "text/plain": [
       "(tf.float32, tf.int32)"
      ]
     },
     "metadata": {},
     "output_type": "display_data"
    }
   ],
   "source": [
    "# Create a tensor with default datatype\n",
    "a = tf.constant([1.8, 7.5])\n",
    "b = tf.constant([1, 6])\n",
    "\n",
    "a.dtype, b.dtype"
   ]
  },
  {
   "cell_type": "code",
   "execution_count": 55,
   "metadata": {
    "datalore": {
     "hide_input_from_viewers": false,
     "hide_output_from_viewers": false,
     "type": "CODE"
    }
   },
   "outputs": [
    {
     "data": {
      "text/plain": [
       "<tf.Tensor: shape=(2,), dtype=float16, numpy=array([1.8, 7.5], dtype=float16)>"
      ]
     },
     "metadata": {},
     "output_type": "display_data"
    }
   ],
   "source": [
    "# Change from 32 to 16 (reduced precision)\n",
    "c = tf.cast(a, dtype=tf.float16)\n",
    "c"
   ]
  },
  {
   "cell_type": "code",
   "execution_count": 56,
   "metadata": {
    "datalore": {
     "hide_input_from_viewers": false,
     "hide_output_from_viewers": false,
     "type": "CODE"
    }
   },
   "outputs": [
    {
     "data": {
      "text/plain": [
       "(<tf.Tensor: shape=(2,), dtype=int16, numpy=array([1, 7], dtype=int16)>,\n",
       " tf.int16)"
      ]
     },
     "metadata": {},
     "output_type": "display_data"
    }
   ],
   "source": [
    "d = tf.cast(c, dtype=tf.int16)\n",
    "d, d.dtype"
   ]
  },
  {
   "attachments": {},
   "cell_type": "markdown",
   "metadata": {
    "datalore": {
     "hide_input_from_viewers": false,
     "hide_output_from_viewers": false,
     "type": "MD"
    }
   },
   "source": [
    "# Aggregating Tensors"
   ]
  },
  {
   "cell_type": "code",
   "execution_count": 57,
   "metadata": {
    "datalore": {
     "hide_input_from_viewers": false,
     "hide_output_from_viewers": false,
     "type": "CODE"
    }
   },
   "outputs": [
    {
     "data": {
      "text/plain": [
       "(<tf.Tensor: shape=(5,), dtype=int32, numpy=array([-3, -7, 10,  4, -4], dtype=int32)>,\n",
       " <tf.Tensor: shape=(5,), dtype=int32, numpy=array([ 3,  7, 10,  4,  4], dtype=int32)>)"
      ]
     },
     "metadata": {},
     "output_type": "display_data"
    }
   ],
   "source": [
    "# Get the absolute value\n",
    "a = tf.constant([-3, -7, 10, 4, -4])\n",
    "a, tf.abs(a)"
   ]
  },
  {
   "cell_type": "code",
   "execution_count": 2,
   "metadata": {
    "datalore": {
     "hide_input_from_viewers": false,
     "hide_output_from_viewers": false,
     "type": "CODE"
    }
   },
   "outputs": [],
   "source": [
    "# !pip install --upgrade tensorflow-probability\n",
    "# !pip install --upgrade tensorflow >= 2.8\n",
    "# !pip3 install --upgrade pip"
   ]
  },
  {
   "cell_type": "code",
   "execution_count": 4,
   "metadata": {
    "datalore": {
     "hide_input_from_viewers": false,
     "hide_output_from_viewers": false,
     "type": "CODE"
    }
   },
   "outputs": [
    {
     "ename": "ModuleNotFoundError",
     "evalue": "No module named 'tensorflow_probability'",
     "output_type": "error",
     "traceback": [
      "\u001B[1;31m---------------------------------------------------------------------------\u001B[0m",
      "\u001B[1;31mModuleNotFoundError\u001B[0m                       Traceback (most recent call last)",
      "\u001B[1;32mc:\\coading\\study\\DeepLearning\\Tensorflow_full\\Tensorflow Fundamentals.ipynb Cell 88'\u001B[0m in \u001B[0;36m<cell line: 1>\u001B[1;34m()\u001B[0m\n\u001B[1;32m----> <a href='vscode-notebook-cell:/c%3A/coading/study/DeepLearning/Tensorflow_full/Tensorflow%20Fundamentals.ipynb#ch0000087?line=0'>1</a>\u001B[0m \u001B[39mimport\u001B[39;00m \u001B[39mtensorflow_probability\u001B[39;00m \u001B[39mas\u001B[39;00m \u001B[39mtfp\u001B[39;00m\n\u001B[0;32m      <a href='vscode-notebook-cell:/c%3A/coading/study/DeepLearning/Tensorflow_full/Tensorflow%20Fundamentals.ipynb#ch0000087?line=1'>2</a>\u001B[0m \u001B[39m# Create a random Tensor\u001B[39;00m\n\u001B[0;32m      <a href='vscode-notebook-cell:/c%3A/coading/study/DeepLearning/Tensorflow_full/Tensorflow%20Fundamentals.ipynb#ch0000087?line=2'>3</a>\u001B[0m np\u001B[39m.\u001B[39mrandom\u001B[39m.\u001B[39mseed(\u001B[39m55\u001B[39m)\n",
      "\u001B[1;31mModuleNotFoundError\u001B[0m: No module named 'tensorflow_probability'"
     ]
    }
   ],
   "source": [
    "import tensorflow_probability as tfp\n",
    "# Create a random Tensor\n",
    "np.random.seed(55)\n",
    "# tf.random.set_seed(55) # This will not work because we are generating no's from numpy.\n",
    "a = tf.constant(np.random.randint(-60, 60, 40, dtype=np.int32))\n",
    "# We are converting int to float because reduce_std gives that error -->\n",
    "# Input must be either real or complex. Received integer type <dtype: 'int32'>.\n",
    "b = tf.cast(a, dtype=tf.float16)\n",
    "\n",
    "print(f'Tensor : {a}')\n",
    "print('***************')\n",
    "print(f'Absolute Value : {tf.abs(a)}')\n",
    "print('***************')\n",
    "print(f'Size : {tf.size(a)}')\n",
    "print('***************')\n",
    "print(f'Shape : {a.shape}')\n",
    "print('***************')\n",
    "print(f'Tensor Dimension : {a.ndim}')\n",
    "print('***************')\n",
    "print(f'Minimum value : {tf.reduce_min(a)}')\n",
    "print('***************')\n",
    "print(f'Maximum value : {tf.reduce_max(a)}')\n",
    "print('***************')\n",
    "print(f'Mean : {tf.reduce_mean(a)}')\n",
    "print('***************')\n",
    "print(f'Standared deviation : {tf.math.reduce_std(a)}')\n",
    "print('***************')\n",
    "print(f'Variance : {tfp.stats.variance(a)}')"
   ]
  },
  {
   "attachments": {},
   "cell_type": "markdown",
   "metadata": {
    "datalore": {
     "hide_input_from_viewers": false,
     "hide_output_from_viewers": false,
     "type": "MD"
    }
   },
   "source": [
    "# Find The Positional maximum and minimum"
   ]
  },
  {
   "cell_type": "code",
   "execution_count": 5,
   "metadata": {
    "datalore": {
     "hide_input_from_viewers": false,
     "hide_output_from_viewers": false,
     "type": "CODE"
    }
   },
   "outputs": [
    {
     "ename": "NameError",
     "evalue": "name 'a' is not defined",
     "output_type": "error",
     "traceback": [
      "\u001B[1;31m---------------------------------------------------------------------------\u001B[0m",
      "\u001B[1;31mNameError\u001B[0m                                 Traceback (most recent call last)",
      "\u001B[1;32mc:\\coading\\study\\DeepLearning\\Tensorflow_full\\Tensorflow Fundamentals.ipynb Cell 90'\u001B[0m in \u001B[0;36m<cell line: 1>\u001B[1;34m()\u001B[0m\n\u001B[1;32m----> <a href='vscode-notebook-cell:/c%3A/coading/study/DeepLearning/Tensorflow_full/Tensorflow%20Fundamentals.ipynb#ch0000089?line=0'>1</a>\u001B[0m a, tf\u001B[39m.\u001B[39margmax(a), tf\u001B[39m.\u001B[39margmin(a), tf\u001B[39m.\u001B[39msize(a), tf\u001B[39m.\u001B[39mstrings\u001B[39m.\u001B[39mlength(\u001B[39m'\u001B[39m\u001B[39mAjay singh\u001B[39m\u001B[39m'\u001B[39m)\n",
      "\u001B[1;31mNameError\u001B[0m: name 'a' is not defined"
     ]
    }
   ],
   "source": [
    "a, tf.argmax(a), tf.argmin(a), tf.size(a), tf.strings.length('Ajay singh')"
   ]
  },
  {
   "cell_type": "code",
   "execution_count": 63,
   "metadata": {
    "datalore": {
     "hide_input_from_viewers": false,
     "hide_output_from_viewers": false,
     "type": "CODE"
    }
   },
   "outputs": [
    {
     "data": {
      "text/plain": [
       "(<tf.Tensor: shape=(50,), dtype=float32, numpy=\n",
       " array([0.6645621 , 0.44100678, 0.3528825 , 0.46448255, 0.03366041,\n",
       "        0.68467236, 0.74011743, 0.8724445 , 0.22632635, 0.22319686,\n",
       "        0.3103881 , 0.7223358 , 0.13318717, 0.5480639 , 0.5746088 ,\n",
       "        0.8996835 , 0.00946367, 0.5212307 , 0.6345445 , 0.1993283 ,\n",
       "        0.72942245, 0.54583454, 0.10756552, 0.6767061 , 0.6602763 ,\n",
       "        0.33695042, 0.60141766, 0.21062577, 0.8527372 , 0.44062173,\n",
       "        0.9485276 , 0.23752594, 0.81179297, 0.5263394 , 0.494308  ,\n",
       "        0.21612847, 0.8457197 , 0.8718841 , 0.3083862 , 0.6868038 ,\n",
       "        0.23764038, 0.7817228 , 0.9671384 , 0.06870162, 0.79873943,\n",
       "        0.66028714, 0.5871513 , 0.16461694, 0.7381023 , 0.32054043],\n",
       "       dtype=float32)>,\n",
       " <tf.Tensor: shape=(), dtype=int64, numpy=42>,\n",
       " <tf.Tensor: shape=(), dtype=float32, numpy=0.9671384>,\n",
       " <tf.Tensor: shape=(), dtype=float32, numpy=0.9671384>,\n",
       " <tf.Tensor: shape=(), dtype=bool, numpy=True>,\n",
       " False)"
      ]
     },
     "metadata": {},
     "output_type": "display_data"
    }
   ],
   "source": [
    "# Create a Random Tensor \n",
    "tf.random.set_seed(42)\n",
    "F = tf.random.uniform(shape=[50])\n",
    "F, tf.argmax(F), F[tf.argmax(F)], tf.reduce_max(F), F[tf.argmax(F)] == tf.reduce_max(F), F[tf.argmax(F)] is tf.reduce_max(F)\n",
    "# Why it's false I do not understand"
   ]
  },
  {
   "attachments": {},
   "cell_type": "markdown",
   "metadata": {
    "datalore": {
     "hide_input_from_viewers": false,
     "hide_output_from_viewers": false,
     "type": "MD"
    }
   },
   "source": [
    "# Squeezing a tensor (Removing all single dimension)"
   ]
  },
  {
   "cell_type": "code",
   "execution_count": 64,
   "metadata": {
    "datalore": {
     "hide_input_from_viewers": false,
     "hide_output_from_viewers": false,
     "type": "CODE"
    }
   },
   "outputs": [
    {
     "data": {
      "text/plain": [
       "<tf.Tensor: shape=(1, 1, 1, 1, 50), dtype=float32, numpy=\n",
       "array([[[[[0.6645621 , 0.44100678, 0.3528825 , 0.46448255, 0.03366041,\n",
       "           0.68467236, 0.74011743, 0.8724445 , 0.22632635, 0.22319686,\n",
       "           0.3103881 , 0.7223358 , 0.13318717, 0.5480639 , 0.5746088 ,\n",
       "           0.8996835 , 0.00946367, 0.5212307 , 0.6345445 , 0.1993283 ,\n",
       "           0.72942245, 0.54583454, 0.10756552, 0.6767061 , 0.6602763 ,\n",
       "           0.33695042, 0.60141766, 0.21062577, 0.8527372 , 0.44062173,\n",
       "           0.9485276 , 0.23752594, 0.81179297, 0.5263394 , 0.494308  ,\n",
       "           0.21612847, 0.8457197 , 0.8718841 , 0.3083862 , 0.6868038 ,\n",
       "           0.23764038, 0.7817228 , 0.9671384 , 0.06870162, 0.79873943,\n",
       "           0.66028714, 0.5871513 , 0.16461694, 0.7381023 , 0.32054043]]]]],\n",
       "      dtype=float32)>"
      ]
     },
     "metadata": {},
     "output_type": "display_data"
    }
   ],
   "source": [
    "# Create a random tensor\n",
    "tf.random.set_seed(42)\n",
    "G = tf.random.uniform(shape=(1, 1, 1, 1, 50))\n",
    "G"
   ]
  },
  {
   "cell_type": "code",
   "execution_count": 65,
   "metadata": {
    "datalore": {
     "hide_input_from_viewers": false,
     "hide_output_from_viewers": false,
     "type": "CODE"
    }
   },
   "outputs": [
    {
     "data": {
      "text/plain": [
       "<tf.Tensor: shape=(50,), dtype=float32, numpy=\n",
       "array([0.6645621 , 0.44100678, 0.3528825 , 0.46448255, 0.03366041,\n",
       "       0.68467236, 0.74011743, 0.8724445 , 0.22632635, 0.22319686,\n",
       "       0.3103881 , 0.7223358 , 0.13318717, 0.5480639 , 0.5746088 ,\n",
       "       0.8996835 , 0.00946367, 0.5212307 , 0.6345445 , 0.1993283 ,\n",
       "       0.72942245, 0.54583454, 0.10756552, 0.6767061 , 0.6602763 ,\n",
       "       0.33695042, 0.60141766, 0.21062577, 0.8527372 , 0.44062173,\n",
       "       0.9485276 , 0.23752594, 0.81179297, 0.5263394 , 0.494308  ,\n",
       "       0.21612847, 0.8457197 , 0.8718841 , 0.3083862 , 0.6868038 ,\n",
       "       0.23764038, 0.7817228 , 0.9671384 , 0.06870162, 0.79873943,\n",
       "       0.66028714, 0.5871513 , 0.16461694, 0.7381023 , 0.32054043],\n",
       "      dtype=float32)>"
      ]
     },
     "metadata": {},
     "output_type": "display_data"
    }
   ],
   "source": [
    "#  To Removes dimensions of size 1 from the shape of a tensor\n",
    "tf.squeeze(G)"
   ]
  },
  {
   "attachments": {},
   "cell_type": "markdown",
   "metadata": {
    "datalore": {
     "hide_input_from_viewers": false,
     "hide_output_from_viewers": false,
     "type": "MD"
    }
   },
   "source": [
    "# One - Hot Encoding Tensors"
   ]
  },
  {
   "cell_type": "code",
   "execution_count": 111,
   "metadata": {
    "datalore": {
     "hide_input_from_viewers": false,
     "hide_output_from_viewers": false,
     "type": "CODE"
    }
   },
   "outputs": [
    {
     "data": {
      "text/plain": [
       "(<tf.Tensor: shape=(8, 5), dtype=float32, numpy=\n",
       " array([[0., 0., 0., 0., 0.],\n",
       "        [0., 0., 0., 0., 1.],\n",
       "        [0., 0., 0., 0., 0.],\n",
       "        [0., 0., 0., 1., 0.],\n",
       "        [0., 0., 0., 0., 0.],\n",
       "        [1., 0., 0., 0., 0.],\n",
       "        [0., 1., 0., 0., 0.],\n",
       "        [0., 0., 1., 0., 0.]], dtype=float32)>,\n",
       " <tf.Tensor: shape=(5, 8), dtype=float32, numpy=\n",
       " array([[0., 0., 0., 0., 0., 1., 0., 0.],\n",
       "        [0., 0., 0., 0., 0., 0., 1., 0.],\n",
       "        [0., 0., 0., 0., 0., 0., 0., 1.],\n",
       "        [0., 0., 0., 1., 0., 0., 0., 0.],\n",
       "        [0., 1., 0., 0., 0., 0., 0., 0.]], dtype=float32)>)"
      ]
     },
     "metadata": {},
     "output_type": "display_data"
    }
   ],
   "source": [
    "# Create a list of indices\n",
    "# labels = ['Cat', 'Dog', 'Snake', 'Human', 'Lion']\n",
    "labels = [0, 1, 2, 3, 4]\n",
    "labels_2 = tf.constant([5, 6, 7, 3, 1])\n",
    "\n",
    "# Check The Result Row wise Not column wise.\n",
    "tf.one_hot(labels_2, depth=8, axis=0), tf.one_hot(labels_2, depth=8, axis=-1)"
   ]
  },
  {
   "cell_type": "code",
   "execution_count": 103,
   "metadata": {
    "datalore": {
     "hide_input_from_viewers": false,
     "hide_output_from_viewers": false,
     "type": "CODE"
    }
   },
   "outputs": [
    {
     "data": {
      "text/plain": [
       "<tf.Tensor: shape=(5, 5), dtype=float32, numpy=\n",
       "array([[1.2, 0.2, 0.2, 0.2, 0.2],\n",
       "       [0.2, 1.2, 0.2, 0.2, 0.2],\n",
       "       [0.2, 0.2, 1.2, 0.2, 0.2],\n",
       "       [0.2, 0.2, 0.2, 1.2, 0.2],\n",
       "       [0.2, 0.2, 0.2, 0.2, 1.2]], dtype=float32)>"
      ]
     },
     "metadata": {},
     "output_type": "display_data"
    }
   ],
   "source": [
    "labels = [0, 1, 2, 3, 4]\n",
    "\n",
    "# tf.one_hot(labels, depth=5, on_value='X', off_value='Y')\n",
    "tf.one_hot(labels, depth=5, on_value=1.2, off_value=0.2)"
   ]
  },
  {
   "cell_type": "code",
   "execution_count": 118,
   "metadata": {
    "datalore": {
     "hide_input_from_viewers": false,
     "hide_output_from_viewers": false,
     "type": "CODE"
    }
   },
   "outputs": [
    {
     "data": {
      "text/plain": [
       "<tf.Tensor: shape=(4, 3), dtype=int32, numpy=\n",
       "array([[1, 0, 0],\n",
       "       [0, 0, 1],\n",
       "       [0, 0, 0],\n",
       "       [0, 1, 0]], dtype=int32)>"
      ]
     },
     "metadata": {},
     "output_type": "display_data"
    }
   ],
   "source": [
    "indices = [0, 2, -1, 1]\n",
    "depth = 3\n",
    "tf.one_hot(indices, depth, on_value=1, off_value=0, axis=-1)"
   ]
  },
  {
   "attachments": {},
   "cell_type": "markdown",
   "metadata": {
    "datalore": {
     "hide_input_from_viewers": false,
     "hide_output_from_viewers": false,
     "type": "MD"
    }
   },
   "source": [
    "# Squaring, Log, Square Root"
   ]
  },
  {
   "cell_type": "code",
   "execution_count": 132,
   "metadata": {
    "datalore": {
     "hide_input_from_viewers": false,
     "hide_output_from_viewers": false,
     "type": "CODE"
    }
   },
   "outputs": [
    {
     "data": {
      "text/plain": [
       "(<tf.Tensor: shape=(20,), dtype=int32, numpy=\n",
       " array([ 1,  6, 11, 16, 21, 26, 31, 36, 41, 46, 51, 56, 61, 66, 71, 76, 81,\n",
       "        86, 91, 96], dtype=int32)>,\n",
       " <tf.Tensor: shape=(20,), dtype=int32, numpy=\n",
       " array([   1,   36,  121,  256,  441,  676,  961, 1296, 1681, 2116, 2601,\n",
       "        3136, 3721, 4356, 5041, 5776, 6561, 7396, 8281, 9216], dtype=int32)>,\n",
       " <tf.Tensor: shape=(20,), dtype=float16, numpy=\n",
       " array([1.   , 2.45 , 3.316, 4.   , 4.582, 5.098, 5.566, 6.   , 6.402,\n",
       "        6.78 , 7.14 , 7.484, 7.81 , 8.125, 8.43 , 8.72 , 9.   , 9.27 ,\n",
       "        9.54 , 9.8  ], dtype=float16)>,\n",
       " <tf.Tensor: shape=(20,), dtype=float16, numpy=\n",
       " array([0.   , 1.792, 2.398, 2.773, 3.045, 3.258, 3.434, 3.584, 3.713,\n",
       "        3.828, 3.932, 4.023, 4.11 , 4.19 , 4.26 , 4.332, 4.395, 4.453,\n",
       "        4.51 , 4.562], dtype=float16)>)"
      ]
     },
     "metadata": {},
     "output_type": "display_data"
    }
   ],
   "source": [
    "# Creating a new tensor\n",
    "# How to make a tf.range function in python check documentation\n",
    "# In numpy it is np.arange\n",
    "D = tf.range(1, 100, 5, dtype=tf.int32)\n",
    "D, tf.square(D), tf.sqrt(tf.cast(D, dtype=tf.float16)), tf.math.log(tf.cast(D, dtype=tf.float16))"
   ]
  },
  {
   "cell_type": "code",
   "execution_count": 138,
   "metadata": {
    "datalore": {
     "hide_input_from_viewers": false,
     "hide_output_from_viewers": false,
     "type": "CODE"
    }
   },
   "outputs": [
    {
     "data": {
      "text/plain": [
       "(array([ 1,  6, 11, 16, 21, 26, 31, 36, 41, 46, 51, 56, 61, 66, 71, 76, 81,\n",
       "        86, 91, 96], dtype=int32),\n",
       " array([ 1,  6, 11, 16, 21, 26, 31, 36, 41, 46, 51, 56, 61, 66, 71, 76, 81,\n",
       "        86, 91, 96], dtype=int32))"
      ]
     },
     "metadata": {},
     "output_type": "display_data"
    }
   ],
   "source": [
    "# Numpy array\n",
    "D.numpy(), np.array(D) "
   ]
  },
  {
   "cell_type": "code",
   "execution_count": 143,
   "metadata": {
    "datalore": {
     "hide_input_from_viewers": false,
     "hide_output_from_viewers": false,
     "type": "CODE"
    }
   },
   "outputs": [
    {
     "data": {
      "text/plain": [
       "(tf.float64, tf.float32)"
      ]
     },
     "metadata": {},
     "output_type": "display_data"
    }
   ],
   "source": [
    "# The Default type of each are different\n",
    "numpy_J = tf.constant(np.array([3., 4., 5.]))\n",
    "tensor_J = tf.constant([3., 4., 5.])\n",
    "\n",
    "# Data type are different\n",
    "numpy_J.dtype, tensor_J.dtype"
   ]
  },
  {
   "cell_type": "code",
   "execution_count": null,
   "metadata": {
    "datalore": {
     "hide_input_from_viewers": false,
     "hide_output_from_viewers": false,
     "type": "CODE"
    }
   },
   "outputs": [],
   "source": []
  },
  {
   "attachments": {},
   "cell_type": "markdown",
   "metadata": {
    "datalore": {
     "sheet_delimiter": true
    }
   },
   "source": [
    "# Dot Product"
   ]
  },
  {
   "attachments": {},
   "cell_type": "markdown",
   "metadata": {
    "datalore": {
     "hide_input_from_viewers": false,
     "hide_output_from_viewers": false,
     "type": "MD"
    }
   },
   "source": [
    "# Dot Products"
   ]
  },
  {
   "cell_type": "code",
   "execution_count": 1,
   "metadata": {
    "datalore": {
     "hide_input_from_viewers": false,
     "hide_output_from_viewers": false,
     "type": "CODE"
    }
   },
   "outputs": [],
   "source": [
    "import numpy as np\n",
    "import torch"
   ]
  },
  {
   "cell_type": "code",
   "execution_count": 2,
   "metadata": {
    "datalore": {
     "hide_input_from_viewers": false,
     "hide_output_from_viewers": false,
     "type": "CODE"
    }
   },
   "outputs": [
    {
     "data": {
      "text/plain": [
       "(61, 61, 61)"
      ]
     },
     "metadata": {},
     "output_type": "display_data"
    }
   ],
   "source": [
    "# Dot product of vactors Numpy\n",
    "nv1 = np.array([1, 2, 3, 5])\n",
    "nv2 = np.array([3, 7, 8, 4])\n",
    "\n",
    "np.dot(nv1, nv2), np.sum(np.multiply(nv1, nv2)), np.sum(nv1*nv2)"
   ]
  },
  {
   "cell_type": "code",
   "execution_count": 3,
   "metadata": {
    "datalore": {
     "hide_input_from_viewers": false,
     "hide_output_from_viewers": false,
     "type": "CODE"
    }
   },
   "outputs": [
    {
     "data": {
      "text/plain": [
       "(181, 181)"
      ]
     },
     "metadata": {},
     "output_type": "display_data"
    }
   ],
   "source": [
    "# Dot product of Matrix Numpy\n",
    "nv1 = np.array([[1, 2, 3, 5],\n",
    "                [4, 7, 9, 0]])\n",
    "nv2 = np.array([[3, 7, 8, 4],\n",
    "                [5, 4, 8, 1]])\n",
    "\n",
    "# np.dot(nv1, nv2) # Not Working\n",
    "np.sum(np.multiply(nv1, nv2)), np.sum(nv1*nv2)"
   ]
  },
  {
   "cell_type": "code",
   "execution_count": 4,
   "metadata": {
    "datalore": {
     "hide_input_from_viewers": false,
     "hide_output_from_viewers": false,
     "type": "CODE"
    }
   },
   "outputs": [
    {
     "data": {
      "text/plain": [
       "(tensor(61), tensor(61), tensor(61))"
      ]
     },
     "metadata": {},
     "output_type": "display_data"
    }
   ],
   "source": [
    "# Dot product of vactor Pytorch\n",
    "tv1 = torch.tensor([1, 2, 3, 5])\n",
    "tv2 = torch.tensor([3, 7, 8, 4])\n",
    "\n",
    "torch.dot(tv1, tv2), torch.sum(torch.multiply(tv1, tv2)), torch.sum(tv1 * tv2)"
   ]
  },
  {
   "cell_type": "code",
   "execution_count": 5,
   "metadata": {
    "datalore": {
     "hide_input_from_viewers": false,
     "hide_output_from_viewers": false,
     "type": "CODE"
    }
   },
   "outputs": [
    {
     "data": {
      "text/plain": [
       "(tensor(181), tensor(181))"
      ]
     },
     "metadata": {},
     "output_type": "display_data"
    }
   ],
   "source": [
    "# Dot product of Matrix Pytorch\n",
    "tv1 = torch.tensor([[1, 2, 3, 5],\n",
    "                [4, 7, 9, 0]])\n",
    "tv2 = torch.tensor([[3, 7, 8, 4],\n",
    "                [5, 4, 8, 1]])\n",
    "\n",
    "# torch.dot(tv1, tv2) # Also not working\n",
    "torch.sum(torch.multiply(tv1, tv2)), torch.sum(tv1 * tv2)"
   ]
  },
  {
   "attachments": {},
   "cell_type": "markdown",
   "metadata": {
    "datalore": {
     "hide_input_from_viewers": false,
     "hide_output_from_viewers": false,
     "type": "MD"
    }
   },
   "source": [
    "# Matrix Multiplication"
   ]
  },
  {
   "cell_type": "code",
   "execution_count": 6,
   "metadata": {
    "datalore": {
     "hide_input_from_viewers": false,
     "hide_output_from_viewers": false,
     "type": "CODE"
    }
   },
   "outputs": [
    {
     "data": {
      "text/plain": [
       "(array([[-0.97326462, -0.13365031,  1.00301019],\n",
       "        [ 2.52547356,  1.06564922,  0.87697421],\n",
       "        [ 1.54466648,  1.0509429 , -0.14152641]]),\n",
       " array([[-0.97326462, -0.13365031,  1.00301019],\n",
       "        [ 2.52547356,  1.06564922,  0.87697421],\n",
       "        [ 1.54466648,  1.0509429 , -0.14152641]]),\n",
       " array([[-0.97326462, -0.13365031,  1.00301019],\n",
       "        [ 2.52547356,  1.06564922,  0.87697421],\n",
       "        [ 1.54466648,  1.0509429 , -0.14152641]]))"
      ]
     },
     "metadata": {},
     "output_type": "display_data"
    }
   ],
   "source": [
    "# Matrix multiplication in numpy\n",
    "A = np.random.randn(3, 4)\n",
    "B = np.random.randn(4, 3)\n",
    "\n",
    "A@B, np.matmul(A, B), np.dot(A, B)"
   ]
  },
  {
   "cell_type": "code",
   "execution_count": 7,
   "metadata": {
    "datalore": {
     "hide_input_from_viewers": false,
     "hide_output_from_viewers": false,
     "type": "CODE"
    }
   },
   "outputs": [
    {
     "data": {
      "text/plain": [
       "(tensor([[-1.1269, -6.4191, -3.0875],\n",
       "         [-0.2290, -2.3087, -1.0362],\n",
       "         [ 1.6605, -0.2186, -1.1507]]),\n",
       " tensor([[-1.1269, -6.4191, -3.0875],\n",
       "         [-0.2290, -2.3087, -1.0362],\n",
       "         [ 1.6605, -0.2186, -1.1507]]))"
      ]
     },
     "metadata": {},
     "output_type": "display_data"
    }
   ],
   "source": [
    "# Matrix Multiplication in pytorch\n",
    "A = torch.randn(3, 4)\n",
    "B = torch.randn(4, 3)\n",
    "A@B, torch.matmul(A, B) # torch.dot(A, B) is not working because it is a matrix multiplication.\n",
    "# but in numpy np.dot() behave different because internally for 2 or more then 2 dimension of matrix \n",
    "# it is not work as dot product and work as matrix multiplication."
   ]
  },
  {
   "cell_type": "code",
   "execution_count": 8,
   "metadata": {
    "datalore": {
     "hide_input_from_viewers": false,
     "hide_output_from_viewers": false,
     "type": "CODE"
    }
   },
   "outputs": [
    {
     "data": {
      "text/plain": [
       "tensor(7)"
      ]
     },
     "metadata": {},
     "output_type": "display_data"
    }
   ],
   "source": [
    "torch.dot(torch.tensor([2, 3]), torch.tensor([2, 1]))"
   ]
  },
  {
   "attachments": {},
   "cell_type": "markdown",
   "metadata": {
    "datalore": {
     "hide_input_from_viewers": false,
     "hide_output_from_viewers": false,
     "type": "MD"
    }
   },
   "source": [
    "# Tensordot"
   ]
  },
  {
   "attachments": {},
   "cell_type": "markdown",
   "metadata": {
    "datalore": {
     "hide_input_from_viewers": false,
     "hide_output_from_viewers": false,
     "type": "MD"
    }
   },
   "source": [
    "### Tensordot with Numpy"
   ]
  },
  {
   "cell_type": "code",
   "execution_count": 9,
   "metadata": {
    "datalore": {
     "hide_input_from_viewers": false,
     "hide_output_from_viewers": false,
     "type": "CODE"
    }
   },
   "outputs": [
    {
     "data": {
      "text/plain": [
       "(array([[32, 38],\n",
       "        [47, 56]]),\n",
       " array([[32, 38],\n",
       "        [47, 56]]),\n",
       " array([[32, 38],\n",
       "        [47, 56]]),\n",
       " array([[32, 38],\n",
       "        [47, 56]]))"
      ]
     },
     "metadata": {},
     "output_type": "display_data"
    }
   ],
   "source": [
    "X = np.array([[1, 2, 3],\n",
    "              [2, 3, 4]])\n",
    "Y = np.array([[4, 5],\n",
    "              [5, 6],\n",
    "              [6, 7]])\n",
    "\n",
    "np.dot(X, Y), np.matmul(X, Y), np.tensordot(X, Y, axes=((1), (0))), np.tensordot(X, Y, axes=1)"
   ]
  },
  {
   "cell_type": "code",
   "execution_count": 10,
   "metadata": {
    "datalore": {
     "hide_input_from_viewers": false,
     "hide_output_from_viewers": false,
     "type": "CODE"
    }
   },
   "outputs": [
    {
     "data": {
      "text/plain": [
       "(array([[ 4,  5,  6],\n",
       "        [ 8, 10, 12],\n",
       "        [12, 15, 18]]),\n",
       " array(32))"
      ]
     },
     "metadata": {},
     "output_type": "display_data"
    }
   ],
   "source": [
    "# Create a two vactor for illustration\n",
    "x = np.array([1,2,3])\n",
    "y = np.array([4,5,6])\n",
    "\n",
    "np.tensordot(x, y, axes=0), np.tensordot(x, y, axes=1)"
   ]
  },
  {
   "cell_type": "code",
   "execution_count": 11,
   "metadata": {
    "datalore": {
     "hide_input_from_viewers": false,
     "hide_output_from_viewers": false,
     "type": "CODE"
    }
   },
   "outputs": [
    {
     "data": {
      "text/plain": [
       "(array([[ 4,  5,  6],\n",
       "        [ 8, 10, 12],\n",
       "        [12, 15, 18]]),\n",
       " array([[ 4,  5,  6],\n",
       "        [ 8, 10, 12],\n",
       "        [12, 15, 18]]))"
      ]
     },
     "metadata": {},
     "output_type": "display_data"
    }
   ],
   "source": [
    "a = np.array([1,2,3]).reshape(3, 1)\n",
    "b = np.array([4,5,6]).reshape(1, 3)\n",
    "\n",
    "# In above example axis=0 feel's like it reshape the vactor and then matrix multiplication but it's not\n",
    "# there is different in calculation for axes=0 for higher dimension.\n",
    "# for vactors the answer comes same it's confusing.\n",
    "np.matmul(a, b), np.dot(a, b)"
   ]
  },
  {
   "cell_type": "code",
   "execution_count": 12,
   "metadata": {
    "datalore": {
     "hide_input_from_viewers": false,
     "hide_output_from_viewers": false,
     "type": "CODE"
    }
   },
   "outputs": [
    {
     "data": {
      "text/plain": [
       "(array([[[[ 4,  5],\n",
       "          [ 5,  6],\n",
       "          [ 6,  7]],\n",
       " \n",
       "         [[ 8, 10],\n",
       "          [10, 12],\n",
       "          [12, 14]],\n",
       " \n",
       "         [[12, 15],\n",
       "          [15, 18],\n",
       "          [18, 21]]],\n",
       " \n",
       " \n",
       "        [[[ 8, 10],\n",
       "          [10, 12],\n",
       "          [12, 14]],\n",
       " \n",
       "         [[12, 15],\n",
       "          [15, 18],\n",
       "          [18, 21]],\n",
       " \n",
       "         [[16, 20],\n",
       "          [20, 24],\n",
       "          [24, 28]]]]),\n",
       " (2, 3, 3, 2))"
      ]
     },
     "metadata": {},
     "output_type": "display_data"
    }
   ],
   "source": [
    "np.tensordot(X, Y, axes=0), np.tensordot(X, Y, axes=0).shape"
   ]
  },
  {
   "cell_type": "code",
   "execution_count": 39,
   "metadata": {
    "datalore": {
     "hide_input_from_viewers": false,
     "hide_output_from_viewers": false,
     "type": "CODE"
    }
   },
   "outputs": [
    {
     "data": {
      "text/plain": [
       "(array(32), array(32))"
      ]
     },
     "metadata": {},
     "output_type": "display_data"
    }
   ],
   "source": [
    "x = np.array([1,2,3])\n",
    "y = np.array([4,5,6])\n",
    "\n",
    "np.tensordot(x,y, axes = 1), np.tensordot(x,y, axes = (0, 0))"
   ]
  },
  {
   "cell_type": "code",
   "execution_count": 41,
   "metadata": {
    "datalore": {
     "hide_input_from_viewers": false,
     "hide_output_from_viewers": false,
     "type": "CODE"
    }
   },
   "outputs": [
    {
     "data": {
      "text/plain": [
       "(array([[1],\n",
       "        [2],\n",
       "        [3]]),\n",
       " array([[4],\n",
       "        [5],\n",
       "        [6]]),\n",
       " array([[32]]),\n",
       " array([[ 4,  5,  6],\n",
       "        [ 8, 10, 12],\n",
       "        [12, 15, 18]]))"
      ]
     },
     "metadata": {},
     "output_type": "display_data"
    }
   ],
   "source": [
    "x = np.array([1,2,3]).reshape(3, 1)\n",
    "y = np.array([4,5,6]).reshape(3, 1)\n",
    "\n",
    "x, y, np.tensordot(x, y, axes = (0, 0)), np.tensordot(x,y, axes = (1, 1))"
   ]
  },
  {
   "cell_type": "code",
   "execution_count": 42,
   "metadata": {
    "datalore": {
     "hide_input_from_viewers": false,
     "hide_output_from_viewers": false,
     "type": "CODE"
    }
   },
   "outputs": [
    {
     "data": {
      "text/plain": [
       "(array([[1, 2, 3]]),\n",
       " array([[4, 5, 6]]),\n",
       " array([[ 4,  5,  6],\n",
       "        [ 8, 10, 12],\n",
       "        [12, 15, 18]]),\n",
       " array([[32]]))"
      ]
     },
     "metadata": {},
     "output_type": "display_data"
    }
   ],
   "source": [
    "x = np.array([1,2,3]).reshape(1, 3)\n",
    "y = np.array([4,5,6]).reshape(1, 3)\n",
    "\n",
    "x, y, np.tensordot(x, y, axes = (0, 0)), np.tensordot(x,y, axes = (1, 1))"
   ]
  },
  {
   "cell_type": "code",
   "execution_count": 35,
   "metadata": {
    "datalore": {
     "hide_input_from_viewers": false,
     "hide_output_from_viewers": false,
     "type": "CODE"
    }
   },
   "outputs": [
    {
     "data": {
      "text/plain": [
       "(array([[1, 2, 3]]),\n",
       " array([[4],\n",
       "        [5],\n",
       "        [6]]),\n",
       " array([[32]]),\n",
       " array([[32]]))"
      ]
     },
     "metadata": {},
     "output_type": "display_data"
    }
   ],
   "source": [
    "x = np.array([1,2,3]).reshape(1, 3)\n",
    "y = np.array([4,5,6]).reshape(3, 1)\n",
    "\n",
    "x, y, np.tensordot(x, y, axes=(1, 0)), np.tensordot(x, y, axes=1)"
   ]
  },
  {
   "cell_type": "code",
   "execution_count": null,
   "metadata": {
    "datalore": {
     "hide_input_from_viewers": false,
     "hide_output_from_viewers": false,
     "type": "CODE"
    }
   },
   "outputs": [],
   "source": []
  }
 ],
 "metadata": {
  "datalore": {
   "base_environment": "default",
   "computation_mode": "JUPYTER",
   "package_manager": "pip",
   "packages": [],
   "version": 1
  },
  "interpreter": {
   "hash": "39e9d178b9697a44df51e2175478e1040611c8bd8e6c775ec9c6314c93d1ab12"
  },
  "kernelspec": {
   "display_name": "Python 3.9.11 ('deeplearning')",
   "language": "python",
   "name": "python3"
  },
  "language_info": {
   "codemirror_mode": {
    "name": "ipython",
    "version": 3
   },
   "file_extension": ".py",
   "mimetype": "text/x-python",
   "name": "python",
   "nbconvert_exporter": "python",
   "pygments_lexer": "ipython3",
   "version": "3.9.11"
  }
 },
 "nbformat": 4,
 "nbformat_minor": 4
}