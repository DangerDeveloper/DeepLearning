{
  "cells": [
    {
      "cell_type": "code",
      "execution_count": 1,
      "metadata": {
        "colab": {
          "base_uri": "https://localhost:8080/"
        },
        "id": "NTs47CC3h76N",
        "outputId": "a61953c6-2e8e-41ba-d388-5b5dd783ba74"
      },
      "outputs": [
        {
          "name": "stdout",
          "output_type": "stream",
          "text": [
            "2.8.0\n"
          ]
        }
      ],
      "source": [
        "import tensorflow as tf\n",
        "import matplotlib.pyplot as plt\n",
        "import numpy as np\n",
        "print(tf.__version__)"
      ]
    },
    {
      "cell_type": "code",
      "execution_count": 2,
      "metadata": {
        "colab": {
          "base_uri": "https://localhost:8080/",
          "height": 321
        },
        "id": "nFvgsVIfiKe7",
        "outputId": "655a7b01-14d4-4810-8b12-fab46db5be4a"
      },
      "outputs": [
        {
          "data": {
            "text/plain": [
              "(<matplotlib.collections.PathCollection at 0x7f0ee0138b90>,\n",
              " <tf.Tensor: shape=(8,), dtype=float64, numpy=array([-7., -4., -1.,  2.,  5.,  8., 11., 14.])>,\n",
              " <tf.Tensor: shape=(8,), dtype=float64, numpy=array([ 3.,  6.,  9., 12., 15., 18., 21., 24.])>)"
            ]
          },
          "execution_count": 2,
          "metadata": {},
          "output_type": "execute_result"
        },
        {
          "data": {
            "image/png": "[encoded data removed]",
            "text/plain": [
              "<Figure size 432x288 with 1 Axes>"
            ]
          },
          "metadata": {
            "needs_background": "light"
          },
          "output_type": "display_data"
        }
      ],
      "source": [
        "x = tf.constant([-7.0, -4.0, -1.0, 2.0, 5.0, 8.0, 11.0, 14.0], dtype=tf.float64)\n",
        "y = tf.constant([3.0, 6.0, 9.0, 12.0, 15.0, 18.0, 21.0, 24.0], dtype=tf.float64)\n",
        "\n",
        "plt.scatter(x, y), x, y"
      ]
    },
    {
      "cell_type": "code",
      "execution_count": 3,
      "metadata": {
        "id": "f1aJeMVDwHEg"
      },
      "outputs": [],
      "source": [
        "# Real Relationship\n",
        "# y = x + 10"
      ]
    },
    {
      "cell_type": "code",
      "execution_count": 4,
      "metadata": {
        "id": "Uc__Gg55zOAD"
      },
      "outputs": [],
      "source": [
        "X = np.array([-7.0,-4.0,-1.0,2.0,5.0,8.0,11.0,14.0])\n",
        "y = np.array([3.0,6.0,9.0,12.0,15.0,18.0,21.0,24.0])\n",
        "X = tf.cast(tf.constant(X), dtype = tf.float32)\n",
        "y = tf.cast(tf.constant(y), dtype = tf.float32)"
      ]
    },
    {
      "cell_type": "code",
      "execution_count": 5,
      "metadata": {
        "colab": {
          "base_uri": "https://localhost:8080/"
        },
        "id": "6Kj85SN6wJ0l",
        "outputId": "8f3da6e9-c106-42f0-e212-d144b05ac61a"
      },
      "outputs": [
        {
          "name": "stdout",
          "output_type": "stream",
          "text": [
            "Epoch 1/5\n",
            "1/1 [==============================] - 2s 2s/step - loss: 11.5048 - mae: 11.5048\n",
            "Epoch 2/5\n",
            "1/1 [==============================] - 0s 14ms/step - loss: 11.3723 - mae: 11.3723\n",
            "Epoch 3/5\n",
            "1/1 [==============================] - 0s 13ms/step - loss: 11.2398 - mae: 11.2398\n",
            "Epoch 4/5\n",
            "1/1 [==============================] - 0s 10ms/step - loss: 11.1073 - mae: 11.1073\n",
            "Epoch 5/5\n",
            "1/1 [==============================] - 0s 13ms/step - loss: 10.9748 - mae: 10.9748\n"
          ]
        },
        {
          "data": {
            "text/plain": [
              "<keras.callbacks.History at 0x7f0e75e58450>"
            ]
          },
          "execution_count": 5,
          "metadata": {},
          "output_type": "execute_result"
        }
      ],
      "source": [
        "# Create a Regression Neural Network \n",
        "# Set a rendom seed for Result reproducable\n",
        "tf.random.set_seed(42)\n",
        "\n",
        "# 1. Create a model using the sequential API \n",
        "model = tf.keras.Sequential([\n",
        "                    tf.keras.layers.Dense(1)\n",
        "                    ])\n",
        "\n",
        "# 2. Compile The model\n",
        "model.compile(loss=tf.keras.losses.mae,\n",
        "              optimizer=tf.keras.optimizers.SGD(),\n",
        "              metrics=[\"mae\"])\n",
        "\n",
        "# Fit the model\n",
        "# model.fit(X, y, epochs=5) # this will break with TensorFlow 2.7.0+\n",
        "model.fit(tf.expand_dims(X, axis=-1), y, epochs=5)"
      ]
    },
    {
      "cell_type": "code",
      "execution_count": 6,
      "metadata": {
        "colab": {
          "base_uri": "https://localhost:8080/"
        },
        "id": "smUUHxqeR-ve",
        "outputId": "24beb54c-2799-4df2-8ba3-bacc3eb5e07c"
      },
      "outputs": [
        {
          "data": {
            "text/plain": [
              "<tf.Tensor: shape=(8, 1), dtype=float32, numpy=\n",
              "array([[-7.],\n",
              "       [-4.],\n",
              "       [-1.],\n",
              "       [ 2.],\n",
              "       [ 5.],\n",
              "       [ 8.],\n",
              "       [11.],\n",
              "       [14.]], dtype=float32)>"
            ]
          },
          "execution_count": 6,
          "metadata": {},
          "output_type": "execute_result"
        }
      ],
      "source": [
        "tf.expand_dims(X, axis=-1)"
      ]
    },
    {
      "cell_type": "code",
      "execution_count": 7,
      "metadata": {
        "colab": {
          "base_uri": "https://localhost:8080/"
        },
        "id": "SnrrpeVBwMAM",
        "outputId": "cc1fa09d-ddd8-4074-bc7f-1f05396d5075"
      },
      "outputs": [
        {
          "data": {
            "text/plain": [
              "array([[12.716021]], dtype=float32)"
            ]
          },
          "execution_count": 7,
          "metadata": {},
          "output_type": "execute_result"
        }
      ],
      "source": [
        "model.predict([17.0])"
      ]
    },
    {
      "cell_type": "code",
      "execution_count": 8,
      "metadata": {
        "colab": {
          "base_uri": "https://localhost:8080/"
        },
        "id": "KM3-MEIazxuR",
        "outputId": "dedbb6fd-a455-49d3-dd24-08ff221d092f"
      },
      "outputs": [
        {
          "name": "stdout",
          "output_type": "stream",
          "text": [
            "Epoch 1/100\n",
            "1/1 [==============================] - 0s 349ms/step - loss: 11.2219 - mae: 11.2219\n",
            "Epoch 2/100\n",
            "1/1 [==============================] - 0s 9ms/step - loss: 11.0894 - mae: 11.0894\n",
            "Epoch 3/100\n",
            "1/1 [==============================] - 0s 13ms/step - loss: 10.9569 - mae: 10.9569\n",
            "Epoch 4/100\n",
            "1/1 [==============================] - 0s 9ms/step - loss: 10.8244 - mae: 10.8244\n",
            "Epoch 5/100\n",
            "1/1 [==============================] - 0s 12ms/step - loss: 10.6919 - mae: 10.6919\n",
            "Epoch 6/100\n",
            "1/1 [==============================] - 0s 10ms/step - loss: 10.5594 - mae: 10.5594\n",
            "Epoch 7/100\n",
            "1/1 [==============================] - 0s 11ms/step - loss: 10.4269 - mae: 10.4269\n",
            "Epoch 8/100\n",
            "1/1 [==============================] - 0s 11ms/step - loss: 10.2944 - mae: 10.2944\n",
            "Epoch 9/100\n",
            "1/1 [==============================] - 0s 13ms/step - loss: 10.1619 - mae: 10.1619\n",
            "Epoch 10/100\n",
            "1/1 [==============================] - 0s 9ms/step - loss: 10.0294 - mae: 10.0294\n",
            "Epoch 11/100\n",
            "1/1 [==============================] - 0s 13ms/step - loss: 9.8969 - mae: 9.8969\n",
            "Epoch 12/100\n",
            "1/1 [==============================] - 0s 11ms/step - loss: 9.7644 - mae: 9.7644\n",
            "Epoch 13/100\n",
            "1/1 [==============================] - 0s 10ms/step - loss: 9.6319 - mae: 9.6319\n",
            "Epoch 14/100\n",
            "1/1 [==============================] - 0s 9ms/step - loss: 9.4994 - mae: 9.4994\n",
            "Epoch 15/100\n",
            "1/1 [==============================] - 0s 11ms/step - loss: 9.3669 - mae: 9.3669\n",
            "Epoch 16/100\n",
            "1/1 [==============================] - 0s 11ms/step - loss: 9.2344 - mae: 9.2344\n",
            "Epoch 17/100\n",
            "1/1 [==============================] - 0s 10ms/step - loss: 9.1019 - mae: 9.1019\n",
            "Epoch 18/100\n",
            "1/1 [==============================] - 0s 14ms/step - loss: 8.9694 - mae: 8.9694\n",
            "Epoch 19/100\n",
            "1/1 [==============================] - 0s 9ms/step - loss: 8.8369 - mae: 8.8369\n",
            "Epoch 20/100\n",
            "1/1 [==============================] - 0s 10ms/step - loss: 8.7044 - mae: 8.7044\n",
            "Epoch 21/100\n",
            "1/1 [==============================] - 0s 12ms/step - loss: 8.5719 - mae: 8.5719\n",
            "Epoch 22/100\n",
            "1/1 [==============================] - 0s 14ms/step - loss: 8.4394 - mae: 8.4394\n",
            "Epoch 23/100\n",
            "1/1 [==============================] - 0s 9ms/step - loss: 8.3069 - mae: 8.3069\n",
            "Epoch 24/100\n",
            "1/1 [==============================] - 0s 10ms/step - loss: 8.1744 - mae: 8.1744\n",
            "Epoch 25/100\n",
            "1/1 [==============================] - 0s 9ms/step - loss: 8.0419 - mae: 8.0419\n",
            "Epoch 26/100\n",
            "1/1 [==============================] - 0s 11ms/step - loss: 7.9094 - mae: 7.9094\n",
            "Epoch 27/100\n",
            "1/1 [==============================] - 0s 11ms/step - loss: 7.7769 - mae: 7.7769\n",
            "Epoch 28/100\n",
            "1/1 [==============================] - 0s 14ms/step - loss: 7.6444 - mae: 7.6444\n",
            "Epoch 29/100\n",
            "1/1 [==============================] - 0s 12ms/step - loss: 7.5119 - mae: 7.5119\n",
            "Epoch 30/100\n",
            "1/1 [==============================] - 0s 13ms/step - loss: 7.3794 - mae: 7.3794\n",
            "Epoch 31/100\n",
            "1/1 [==============================] - 0s 9ms/step - loss: 7.2750 - mae: 7.2750\n",
            "Epoch 32/100\n",
            "1/1 [==============================] - 0s 11ms/step - loss: 7.2694 - mae: 7.2694\n",
            "Epoch 33/100\n",
            "1/1 [==============================] - 0s 9ms/step - loss: 7.2638 - mae: 7.2638\n",
            "Epoch 34/100\n",
            "1/1 [==============================] - 0s 13ms/step - loss: 7.2581 - mae: 7.2581\n",
            "Epoch 35/100\n",
            "1/1 [==============================] - 0s 9ms/step - loss: 7.2525 - mae: 7.2525\n",
            "Epoch 36/100\n",
            "1/1 [==============================] - 0s 10ms/step - loss: 7.2469 - mae: 7.2469\n",
            "Epoch 37/100\n",
            "1/1 [==============================] - 0s 13ms/step - loss: 7.2413 - mae: 7.2413\n",
            "Epoch 38/100\n",
            "1/1 [==============================] - 0s 10ms/step - loss: 7.2356 - mae: 7.2356\n",
            "Epoch 39/100\n",
            "1/1 [==============================] - 0s 12ms/step - loss: 7.2300 - mae: 7.2300\n",
            "Epoch 40/100\n",
            "1/1 [==============================] - 0s 12ms/step - loss: 7.2244 - mae: 7.2244\n",
            "Epoch 41/100\n",
            "1/1 [==============================] - 0s 9ms/step - loss: 7.2188 - mae: 7.2188\n",
            "Epoch 42/100\n",
            "1/1 [==============================] - 0s 11ms/step - loss: 7.2131 - mae: 7.2131\n",
            "Epoch 43/100\n",
            "1/1 [==============================] - 0s 11ms/step - loss: 7.2075 - mae: 7.2075\n",
            "Epoch 44/100\n",
            "1/1 [==============================] - 0s 8ms/step - loss: 7.2019 - mae: 7.2019\n",
            "Epoch 45/100\n",
            "1/1 [==============================] - 0s 13ms/step - loss: 7.1962 - mae: 7.1962\n",
            "Epoch 46/100\n",
            "1/1 [==============================] - 0s 9ms/step - loss: 7.1906 - mae: 7.1906\n",
            "Epoch 47/100\n",
            "1/1 [==============================] - 0s 12ms/step - loss: 7.1850 - mae: 7.1850\n",
            "Epoch 48/100\n",
            "1/1 [==============================] - 0s 14ms/step - loss: 7.1794 - mae: 7.1794\n",
            "Epoch 49/100\n",
            "1/1 [==============================] - 0s 11ms/step - loss: 7.1737 - mae: 7.1737\n",
            "Epoch 50/100\n",
            "1/1 [==============================] - 0s 12ms/step - loss: 7.1681 - mae: 7.1681\n",
            "Epoch 51/100\n",
            "1/1 [==============================] - 0s 12ms/step - loss: 7.1625 - mae: 7.1625\n",
            "Epoch 52/100\n",
            "1/1 [==============================] - 0s 9ms/step - loss: 7.1569 - mae: 7.1569\n",
            "Epoch 53/100\n",
            "1/1 [==============================] - 0s 39ms/step - loss: 7.1512 - mae: 7.1512\n",
            "Epoch 54/100\n",
            "1/1 [==============================] - 0s 21ms/step - loss: 7.1456 - mae: 7.1456\n",
            "Epoch 55/100\n",
            "1/1 [==============================] - 0s 28ms/step - loss: 7.1400 - mae: 7.1400\n",
            "Epoch 56/100\n",
            "1/1 [==============================] - 0s 23ms/step - loss: 7.1344 - mae: 7.1344\n",
            "Epoch 57/100\n",
            "1/1 [==============================] - 0s 19ms/step - loss: 7.1287 - mae: 7.1287\n",
            "Epoch 58/100\n",
            "1/1 [==============================] - 0s 14ms/step - loss: 7.1231 - mae: 7.1231\n",
            "Epoch 59/100\n",
            "1/1 [==============================] - 0s 11ms/step - loss: 7.1175 - mae: 7.1175\n",
            "Epoch 60/100\n",
            "1/1 [==============================] - 0s 19ms/step - loss: 7.1119 - mae: 7.1119\n",
            "Epoch 61/100\n",
            "1/1 [==============================] - 0s 17ms/step - loss: 7.1062 - mae: 7.1062\n",
            "Epoch 62/100\n",
            "1/1 [==============================] - 0s 19ms/step - loss: 7.1006 - mae: 7.1006\n",
            "Epoch 63/100\n",
            "1/1 [==============================] - 0s 15ms/step - loss: 7.0950 - mae: 7.0950\n",
            "Epoch 64/100\n",
            "1/1 [==============================] - 0s 24ms/step - loss: 7.0894 - mae: 7.0894\n",
            "Epoch 65/100\n",
            "1/1 [==============================] - 0s 23ms/step - loss: 7.0838 - mae: 7.0838\n",
            "Epoch 66/100\n",
            "1/1 [==============================] - 0s 17ms/step - loss: 7.0781 - mae: 7.0781\n",
            "Epoch 67/100\n",
            "1/1 [==============================] - 0s 14ms/step - loss: 7.0725 - mae: 7.0725\n",
            "Epoch 68/100\n",
            "1/1 [==============================] - 0s 23ms/step - loss: 7.0669 - mae: 7.0669\n",
            "Epoch 69/100\n",
            "1/1 [==============================] - 0s 18ms/step - loss: 7.0613 - mae: 7.0613\n",
            "Epoch 70/100\n",
            "1/1 [==============================] - 0s 16ms/step - loss: 7.0556 - mae: 7.0556\n",
            "Epoch 71/100\n",
            "1/1 [==============================] - 0s 15ms/step - loss: 7.0500 - mae: 7.0500\n",
            "Epoch 72/100\n",
            "1/1 [==============================] - 0s 11ms/step - loss: 7.0444 - mae: 7.0444\n",
            "Epoch 73/100\n",
            "1/1 [==============================] - 0s 13ms/step - loss: 7.0388 - mae: 7.0388\n",
            "Epoch 74/100\n",
            "1/1 [==============================] - 0s 24ms/step - loss: 7.0331 - mae: 7.0331\n",
            "Epoch 75/100\n",
            "1/1 [==============================] - 0s 19ms/step - loss: 7.0275 - mae: 7.0275\n",
            "Epoch 76/100\n",
            "1/1 [==============================] - 0s 16ms/step - loss: 7.0219 - mae: 7.0219\n",
            "Epoch 77/100\n",
            "1/1 [==============================] - 0s 11ms/step - loss: 7.0163 - mae: 7.0163\n",
            "Epoch 78/100\n",
            "1/1 [==============================] - 0s 28ms/step - loss: 7.0106 - mae: 7.0106\n",
            "Epoch 79/100\n",
            "1/1 [==============================] - 0s 20ms/step - loss: 7.0050 - mae: 7.0050\n",
            "Epoch 80/100\n",
            "1/1 [==============================] - 0s 12ms/step - loss: 6.9994 - mae: 6.9994\n",
            "Epoch 81/100\n",
            "1/1 [==============================] - 0s 12ms/step - loss: 6.9938 - mae: 6.9938\n",
            "Epoch 82/100\n",
            "1/1 [==============================] - 0s 26ms/step - loss: 6.9881 - mae: 6.9881\n",
            "Epoch 83/100\n",
            "1/1 [==============================] - 0s 11ms/step - loss: 6.9825 - mae: 6.9825\n",
            "Epoch 84/100\n",
            "1/1 [==============================] - 0s 19ms/step - loss: 6.9769 - mae: 6.9769\n",
            "Epoch 85/100\n",
            "1/1 [==============================] - 0s 12ms/step - loss: 6.9713 - mae: 6.9713\n",
            "Epoch 86/100\n",
            "1/1 [==============================] - 0s 17ms/step - loss: 6.9656 - mae: 6.9656\n",
            "Epoch 87/100\n",
            "1/1 [==============================] - 0s 12ms/step - loss: 6.9600 - mae: 6.9600\n",
            "Epoch 88/100\n",
            "1/1 [==============================] - 0s 12ms/step - loss: 6.9544 - mae: 6.9544\n",
            "Epoch 89/100\n",
            "1/1 [==============================] - 0s 9ms/step - loss: 6.9488 - mae: 6.9488\n",
            "Epoch 90/100\n",
            "1/1 [==============================] - 0s 10ms/step - loss: 6.9431 - mae: 6.9431\n",
            "Epoch 91/100\n",
            "1/1 [==============================] - 0s 9ms/step - loss: 6.9375 - mae: 6.9375\n",
            "Epoch 92/100\n",
            "1/1 [==============================] - 0s 13ms/step - loss: 6.9319 - mae: 6.9319\n",
            "Epoch 93/100\n",
            "1/1 [==============================] - 0s 11ms/step - loss: 6.9262 - mae: 6.9262\n",
            "Epoch 94/100\n",
            "1/1 [==============================] - 0s 12ms/step - loss: 6.9206 - mae: 6.9206\n",
            "Epoch 95/100\n",
            "1/1 [==============================] - 0s 11ms/step - loss: 6.9150 - mae: 6.9150\n",
            "Epoch 96/100\n",
            "1/1 [==============================] - 0s 46ms/step - loss: 6.9094 - mae: 6.9094\n",
            "Epoch 97/100\n",
            "1/1 [==============================] - 0s 27ms/step - loss: 6.9038 - mae: 6.9038\n",
            "Epoch 98/100\n",
            "1/1 [==============================] - 0s 25ms/step - loss: 6.8981 - mae: 6.8981\n",
            "Epoch 99/100\n",
            "1/1 [==============================] - 0s 20ms/step - loss: 6.8925 - mae: 6.8925\n",
            "Epoch 100/100\n",
            "1/1 [==============================] - 0s 15ms/step - loss: 6.8869 - mae: 6.8869\n"
          ]
        },
        {
          "data": {
            "text/plain": [
              "<keras.callbacks.History at 0x7f0e75d52190>"
            ]
          },
          "execution_count": 8,
          "metadata": {},
          "output_type": "execute_result"
        }
      ],
      "source": [
        "from tensorflow.python.eager.monitoring import Metric\n",
        "# Creating Again\n",
        "\n",
        "model = tf.keras.Sequential([\n",
        "                  tf.keras.layers.Dense(1)\n",
        "])\n",
        "\n",
        "model.compile(loss=tf.keras.losses.mae,\n",
        "              optimizer=tf.keras.optimizers.SGD(),\n",
        "              metrics=['mae'])\n",
        "\n",
        "model.fit(tf.expand_dims(X, axis=-1), y, epochs=100)"
      ]
    },
    {
      "cell_type": "code",
      "execution_count": 9,
      "metadata": {
        "colab": {
          "base_uri": "https://localhost:8080/"
        },
        "id": "Xrqthcz88yVf",
        "outputId": "82c19270-f11a-44ee-87f3-9497cd186eba"
      },
      "outputs": [
        {
          "data": {
            "text/plain": [
              "array([[29.739855]], dtype=float32)"
            ]
          },
          "execution_count": 9,
          "metadata": {},
          "output_type": "execute_result"
        }
      ],
      "source": [
        "model.predict([17.0])"
      ]
    },
    {
      "cell_type": "code",
      "execution_count": 10,
      "metadata": {
        "colab": {
          "base_uri": "https://localhost:8080/"
        },
        "id": "gIxehl_99Oa6",
        "outputId": "4ebec99a-5361-435e-9f89-3f5a5fb91995"
      },
      "outputs": [
        {
          "name": "stdout",
          "output_type": "stream",
          "text": [
            "Epoch 1/100\n",
            "1/1 [==============================] - 1s 1s/step - loss: 13.4907 - mae: 13.4907\n",
            "Epoch 2/100\n",
            "1/1 [==============================] - 0s 22ms/step - loss: 13.2385 - mae: 13.2385\n",
            "Epoch 3/100\n",
            "1/1 [==============================] - 0s 22ms/step - loss: 12.9907 - mae: 12.9907\n",
            "Epoch 4/100\n",
            "1/1 [==============================] - 0s 19ms/step - loss: 12.7622 - mae: 12.7622\n",
            "Epoch 5/100\n",
            "1/1 [==============================] - 0s 13ms/step - loss: 12.5210 - mae: 12.5210\n",
            "Epoch 6/100\n",
            "1/1 [==============================] - 0s 14ms/step - loss: 12.2441 - mae: 12.2441\n",
            "Epoch 7/100\n",
            "1/1 [==============================] - 0s 13ms/step - loss: 11.9428 - mae: 11.9428\n",
            "Epoch 8/100\n",
            "1/1 [==============================] - 0s 13ms/step - loss: 11.5775 - mae: 11.5775\n",
            "Epoch 9/100\n",
            "1/1 [==============================] - 0s 16ms/step - loss: 11.1253 - mae: 11.1253\n",
            "Epoch 10/100\n",
            "1/1 [==============================] - 0s 22ms/step - loss: 10.5147 - mae: 10.5147\n",
            "Epoch 11/100\n",
            "1/1 [==============================] - 0s 20ms/step - loss: 9.7621 - mae: 9.7621\n",
            "Epoch 12/100\n",
            "1/1 [==============================] - 0s 13ms/step - loss: 8.7788 - mae: 8.7788\n",
            "Epoch 13/100\n",
            "1/1 [==============================] - 0s 19ms/step - loss: 7.4890 - mae: 7.4890\n",
            "Epoch 14/100\n",
            "1/1 [==============================] - 0s 15ms/step - loss: 5.7548 - mae: 5.7548\n",
            "Epoch 15/100\n",
            "1/1 [==============================] - 0s 15ms/step - loss: 3.8833 - mae: 3.8833\n",
            "Epoch 16/100\n",
            "1/1 [==============================] - 0s 15ms/step - loss: 3.9809 - mae: 3.9809\n",
            "Epoch 17/100\n",
            "1/1 [==============================] - 0s 19ms/step - loss: 3.8269 - mae: 3.8269\n",
            "Epoch 18/100\n",
            "1/1 [==============================] - 0s 14ms/step - loss: 3.9926 - mae: 3.9926\n",
            "Epoch 19/100\n",
            "1/1 [==============================] - 0s 23ms/step - loss: 3.7824 - mae: 3.7824\n",
            "Epoch 20/100\n",
            "1/1 [==============================] - 0s 14ms/step - loss: 4.0001 - mae: 4.0001\n",
            "Epoch 21/100\n",
            "1/1 [==============================] - 0s 15ms/step - loss: 3.8314 - mae: 3.8314\n",
            "Epoch 22/100\n",
            "1/1 [==============================] - 0s 38ms/step - loss: 3.9085 - mae: 3.9085\n",
            "Epoch 23/100\n",
            "1/1 [==============================] - 0s 14ms/step - loss: 3.8461 - mae: 3.8461\n",
            "Epoch 24/100\n",
            "1/1 [==============================] - 0s 13ms/step - loss: 3.8482 - mae: 3.8482\n",
            "Epoch 25/100\n",
            "1/1 [==============================] - 0s 21ms/step - loss: 3.8621 - mae: 3.8621\n",
            "Epoch 26/100\n",
            "1/1 [==============================] - 0s 9ms/step - loss: 3.7859 - mae: 3.7859\n",
            "Epoch 27/100\n",
            "1/1 [==============================] - 0s 19ms/step - loss: 3.8797 - mae: 3.8797\n",
            "Epoch 28/100\n",
            "1/1 [==============================] - 0s 16ms/step - loss: 3.7209 - mae: 3.7209\n",
            "Epoch 29/100\n",
            "1/1 [==============================] - 0s 20ms/step - loss: 3.8978 - mae: 3.8978\n",
            "Epoch 30/100\n",
            "1/1 [==============================] - 0s 13ms/step - loss: 3.6972 - mae: 3.6972\n",
            "Epoch 31/100\n",
            "1/1 [==============================] - 0s 14ms/step - loss: 3.8496 - mae: 3.8496\n",
            "Epoch 32/100\n",
            "1/1 [==============================] - 0s 13ms/step - loss: 3.7490 - mae: 3.7490\n",
            "Epoch 33/100\n",
            "1/1 [==============================] - 0s 17ms/step - loss: 3.7832 - mae: 3.7832\n",
            "Epoch 34/100\n",
            "1/1 [==============================] - 0s 13ms/step - loss: 3.7684 - mae: 3.7684\n",
            "Epoch 35/100\n",
            "1/1 [==============================] - 0s 12ms/step - loss: 3.7148 - mae: 3.7148\n",
            "Epoch 36/100\n",
            "1/1 [==============================] - 0s 14ms/step - loss: 3.7900 - mae: 3.7900\n",
            "Epoch 37/100\n",
            "1/1 [==============================] - 0s 14ms/step - loss: 3.6440 - mae: 3.6440\n",
            "Epoch 38/100\n",
            "1/1 [==============================] - 0s 13ms/step - loss: 3.8126 - mae: 3.8126\n",
            "Epoch 39/100\n",
            "1/1 [==============================] - 0s 12ms/step - loss: 3.6139 - mae: 3.6139\n",
            "Epoch 40/100\n",
            "1/1 [==============================] - 0s 14ms/step - loss: 3.8033 - mae: 3.8033\n",
            "Epoch 41/100\n",
            "1/1 [==============================] - 0s 13ms/step - loss: 3.6707 - mae: 3.6707\n",
            "Epoch 42/100\n",
            "1/1 [==============================] - 0s 17ms/step - loss: 3.6967 - mae: 3.6967\n",
            "Epoch 43/100\n",
            "1/1 [==============================] - 0s 13ms/step - loss: 3.6933 - mae: 3.6933\n",
            "Epoch 44/100\n",
            "1/1 [==============================] - 0s 13ms/step - loss: 3.6220 - mae: 3.6220\n",
            "Epoch 45/100\n",
            "1/1 [==============================] - 0s 12ms/step - loss: 3.7180 - mae: 3.7180\n",
            "Epoch 46/100\n",
            "1/1 [==============================] - 0s 39ms/step - loss: 3.5452 - mae: 3.5452\n",
            "Epoch 47/100\n",
            "1/1 [==============================] - 0s 13ms/step - loss: 3.7445 - mae: 3.7445\n",
            "Epoch 48/100\n",
            "1/1 [==============================] - 0s 22ms/step - loss: 3.5492 - mae: 3.5492\n",
            "Epoch 49/100\n",
            "1/1 [==============================] - 0s 24ms/step - loss: 3.6862 - mae: 3.6862\n",
            "Epoch 50/100\n",
            "1/1 [==============================] - 0s 16ms/step - loss: 3.6089 - mae: 3.6089\n",
            "Epoch 51/100\n",
            "1/1 [==============================] - 0s 19ms/step - loss: 3.5849 - mae: 3.5849\n",
            "Epoch 52/100\n",
            "1/1 [==============================] - 0s 25ms/step - loss: 3.6349 - mae: 3.6349\n",
            "Epoch 53/100\n",
            "1/1 [==============================] - 0s 19ms/step - loss: 3.5024 - mae: 3.5024\n",
            "Epoch 54/100\n",
            "1/1 [==============================] - 0s 19ms/step - loss: 3.6629 - mae: 3.6629\n",
            "Epoch 55/100\n",
            "1/1 [==============================] - 0s 13ms/step - loss: 3.4735 - mae: 3.4735\n",
            "Epoch 56/100\n",
            "1/1 [==============================] - 0s 13ms/step - loss: 3.6235 - mae: 3.6235\n",
            "Epoch 57/100\n",
            "1/1 [==============================] - 0s 17ms/step - loss: 3.5020 - mae: 3.5020\n",
            "Epoch 58/100\n",
            "1/1 [==============================] - 0s 13ms/step - loss: 3.5392 - mae: 3.5392\n",
            "Epoch 59/100\n",
            "1/1 [==============================] - 0s 14ms/step - loss: 3.5315 - mae: 3.5315\n",
            "Epoch 60/100\n",
            "1/1 [==============================] - 0s 14ms/step - loss: 3.4623 - mae: 3.4623\n",
            "Epoch 61/100\n",
            "1/1 [==============================] - 0s 18ms/step - loss: 3.5967 - mae: 3.5967\n",
            "Epoch 62/100\n",
            "1/1 [==============================] - 0s 14ms/step - loss: 3.4064 - mae: 3.4064\n",
            "Epoch 63/100\n",
            "1/1 [==============================] - 0s 14ms/step - loss: 3.5572 - mae: 3.5572\n",
            "Epoch 64/100\n",
            "1/1 [==============================] - 0s 13ms/step - loss: 3.4352 - mae: 3.4352\n",
            "Epoch 65/100\n",
            "1/1 [==============================] - 0s 17ms/step - loss: 3.4674 - mae: 3.4674\n",
            "Epoch 66/100\n",
            "1/1 [==============================] - 0s 14ms/step - loss: 3.4661 - mae: 3.4661\n",
            "Epoch 67/100\n",
            "1/1 [==============================] - 0s 18ms/step - loss: 3.3744 - mae: 3.3744\n",
            "Epoch 68/100\n",
            "1/1 [==============================] - 0s 14ms/step - loss: 3.4994 - mae: 3.4994\n",
            "Epoch 69/100\n",
            "1/1 [==============================] - 0s 25ms/step - loss: 3.3147 - mae: 3.3147\n",
            "Epoch 70/100\n",
            "1/1 [==============================] - 0s 40ms/step - loss: 3.5032 - mae: 3.5032\n",
            "Epoch 71/100\n",
            "1/1 [==============================] - 0s 38ms/step - loss: 3.3792 - mae: 3.3792\n",
            "Epoch 72/100\n",
            "1/1 [==============================] - 0s 20ms/step - loss: 3.3767 - mae: 3.3767\n",
            "Epoch 73/100\n",
            "1/1 [==============================] - 0s 18ms/step - loss: 3.4111 - mae: 3.4111\n",
            "Epoch 74/100\n",
            "1/1 [==============================] - 0s 17ms/step - loss: 3.2761 - mae: 3.2761\n",
            "Epoch 75/100\n",
            "1/1 [==============================] - 0s 16ms/step - loss: 3.4457 - mae: 3.4457\n",
            "Epoch 76/100\n",
            "1/1 [==============================] - 0s 16ms/step - loss: 3.2591 - mae: 3.2591\n",
            "Epoch 77/100\n",
            "1/1 [==============================] - 0s 29ms/step - loss: 3.3784 - mae: 3.3784\n",
            "Epoch 78/100\n",
            "1/1 [==============================] - 0s 17ms/step - loss: 3.2930 - mae: 3.2930\n",
            "Epoch 79/100\n",
            "1/1 [==============================] - 0s 13ms/step - loss: 3.2739 - mae: 3.2739\n",
            "Epoch 80/100\n",
            "1/1 [==============================] - 0s 21ms/step - loss: 3.3287 - mae: 3.3287\n",
            "Epoch 81/100\n",
            "1/1 [==============================] - 0s 14ms/step - loss: 3.1830 - mae: 3.1830\n",
            "Epoch 82/100\n",
            "1/1 [==============================] - 0s 16ms/step - loss: 3.4010 - mae: 3.4010\n",
            "Epoch 83/100\n",
            "1/1 [==============================] - 0s 18ms/step - loss: 3.2124 - mae: 3.2124\n",
            "Epoch 84/100\n",
            "1/1 [==============================] - 0s 21ms/step - loss: 3.2554 - mae: 3.2554\n",
            "Epoch 85/100\n",
            "1/1 [==============================] - 0s 24ms/step - loss: 3.2469 - mae: 3.2469\n",
            "Epoch 86/100\n",
            "1/1 [==============================] - 0s 20ms/step - loss: 3.1423 - mae: 3.1423\n",
            "Epoch 87/100\n",
            "1/1 [==============================] - 0s 23ms/step - loss: 3.2844 - mae: 3.2844\n",
            "Epoch 88/100\n",
            "1/1 [==============================] - 0s 24ms/step - loss: 3.1031 - mae: 3.1031\n",
            "Epoch 89/100\n",
            "1/1 [==============================] - 0s 20ms/step - loss: 3.2316 - mae: 3.2316\n",
            "Epoch 90/100\n",
            "1/1 [==============================] - 0s 28ms/step - loss: 3.1390 - mae: 3.1390\n",
            "Epoch 91/100\n",
            "1/1 [==============================] - 0s 12ms/step - loss: 3.1289 - mae: 3.1289\n",
            "Epoch 92/100\n",
            "1/1 [==============================] - 0s 17ms/step - loss: 3.2144 - mae: 3.2144\n",
            "Epoch 93/100\n",
            "1/1 [==============================] - 0s 18ms/step - loss: 3.0339 - mae: 3.0339\n",
            "Epoch 94/100\n",
            "1/1 [==============================] - 0s 14ms/step - loss: 3.1918 - mae: 3.1918\n",
            "Epoch 95/100\n",
            "1/1 [==============================] - 0s 11ms/step - loss: 3.0682 - mae: 3.0682\n",
            "Epoch 96/100\n",
            "1/1 [==============================] - 0s 19ms/step - loss: 3.0671 - mae: 3.0671\n",
            "Epoch 97/100\n",
            "1/1 [==============================] - 0s 12ms/step - loss: 3.1048 - mae: 3.1048\n",
            "Epoch 98/100\n",
            "1/1 [==============================] - 0s 25ms/step - loss: 2.9369 - mae: 2.9369\n",
            "Epoch 99/100\n",
            "1/1 [==============================] - 0s 17ms/step - loss: 3.1478 - mae: 3.1478\n",
            "Epoch 100/100\n",
            "1/1 [==============================] - 0s 11ms/step - loss: 2.9634 - mae: 2.9634\n"
          ]
        },
        {
          "data": {
            "text/plain": [
              "<keras.callbacks.History at 0x7f0e75c4a750>"
            ]
          },
          "execution_count": 10,
          "metadata": {},
          "output_type": "execute_result"
        }
      ],
      "source": [
        "# Make Better\n",
        "\n",
        "model = tf.keras.Sequential([\n",
        "                  tf.keras.layers.Dense(1000, activation='relu'),\n",
        "                  tf.keras.layers.Dense(100, activation='relu'),\n",
        "                  tf.keras.layers.Dense(100, activation='relu'),\n",
        "                  tf.keras.layers.Dense(1)\n",
        "])\n",
        "\n",
        "model.compile(loss=tf.keras.losses.mae,\n",
        "              optimizer=tf.keras.optimizers.SGD(learning_rate=0.01),\n",
        "              metrics=['mae'])\n",
        "\n",
        "model.fit(tf.expand_dims(X, axis=-1), y, epochs=100)"
      ]
    },
    {
      "cell_type": "code",
      "execution_count": 11,
      "metadata": {
        "colab": {
          "base_uri": "https://localhost:8080/"
        },
        "id": "Vl4QVb08-Se_",
        "outputId": "030929ce-666d-4d51-b92b-24ca4b14eb79"
      },
      "outputs": [
        {
          "name": "stdout",
          "output_type": "stream",
          "text": [
            "Epoch 1/100\n",
            "1/1 [==============================] - 1s 1s/step - loss: 13.1820 - mae: 13.1820\n",
            "Epoch 2/100\n",
            "1/1 [==============================] - 0s 15ms/step - loss: 12.5071 - mae: 12.5071\n",
            "Epoch 3/100\n",
            "1/1 [==============================] - 0s 15ms/step - loss: 11.8292 - mae: 11.8292\n",
            "Epoch 4/100\n",
            "1/1 [==============================] - 0s 19ms/step - loss: 11.1466 - mae: 11.1466\n",
            "Epoch 5/100\n",
            "1/1 [==============================] - 0s 13ms/step - loss: 10.4568 - mae: 10.4568\n",
            "Epoch 6/100\n",
            "1/1 [==============================] - 0s 14ms/step - loss: 9.7567 - mae: 9.7567\n",
            "Epoch 7/100\n",
            "1/1 [==============================] - 0s 14ms/step - loss: 9.0433 - mae: 9.0433\n",
            "Epoch 8/100\n",
            "1/1 [==============================] - 0s 19ms/step - loss: 8.3135 - mae: 8.3135\n",
            "Epoch 9/100\n",
            "1/1 [==============================] - 0s 18ms/step - loss: 7.5644 - mae: 7.5644\n",
            "Epoch 10/100\n",
            "1/1 [==============================] - 0s 13ms/step - loss: 6.7934 - mae: 6.7934\n",
            "Epoch 11/100\n",
            "1/1 [==============================] - 0s 18ms/step - loss: 6.7656 - mae: 6.7656\n",
            "Epoch 12/100\n",
            "1/1 [==============================] - 0s 25ms/step - loss: 7.0966 - mae: 7.0966\n",
            "Epoch 13/100\n",
            "1/1 [==============================] - 0s 19ms/step - loss: 7.3117 - mae: 7.3117\n",
            "Epoch 14/100\n",
            "1/1 [==============================] - 0s 20ms/step - loss: 7.5635 - mae: 7.5635\n",
            "Epoch 15/100\n",
            "1/1 [==============================] - 0s 13ms/step - loss: 7.5899 - mae: 7.5899\n",
            "Epoch 16/100\n",
            "1/1 [==============================] - 0s 17ms/step - loss: 7.4377 - mae: 7.4377\n",
            "Epoch 17/100\n",
            "1/1 [==============================] - 0s 14ms/step - loss: 7.1514 - mae: 7.1514\n",
            "Epoch 18/100\n",
            "1/1 [==============================] - 0s 13ms/step - loss: 6.8489 - mae: 6.8489\n",
            "Epoch 19/100\n",
            "1/1 [==============================] - 0s 14ms/step - loss: 6.5847 - mae: 6.5847\n",
            "Epoch 20/100\n",
            "1/1 [==============================] - 0s 14ms/step - loss: 6.3075 - mae: 6.3075\n",
            "Epoch 21/100\n",
            "1/1 [==============================] - 0s 46ms/step - loss: 6.0570 - mae: 6.0570\n",
            "Epoch 22/100\n",
            "1/1 [==============================] - 0s 32ms/step - loss: 6.0103 - mae: 6.0103\n",
            "Epoch 23/100\n",
            "1/1 [==============================] - 0s 10ms/step - loss: 5.9640 - mae: 5.9640\n",
            "Epoch 24/100\n",
            "1/1 [==============================] - 0s 17ms/step - loss: 6.0338 - mae: 6.0338\n",
            "Epoch 25/100\n",
            "1/1 [==============================] - 0s 11ms/step - loss: 6.0047 - mae: 6.0047\n",
            "Epoch 26/100\n",
            "1/1 [==============================] - 0s 15ms/step - loss: 5.8893 - mae: 5.8893\n",
            "Epoch 27/100\n",
            "1/1 [==============================] - 0s 15ms/step - loss: 5.6969 - mae: 5.6969\n",
            "Epoch 28/100\n",
            "1/1 [==============================] - 0s 12ms/step - loss: 5.5612 - mae: 5.5612\n",
            "Epoch 29/100\n",
            "1/1 [==============================] - 0s 11ms/step - loss: 5.4614 - mae: 5.4614\n",
            "Epoch 30/100\n",
            "1/1 [==============================] - 0s 10ms/step - loss: 5.3592 - mae: 5.3592\n",
            "Epoch 31/100\n",
            "1/1 [==============================] - 0s 13ms/step - loss: 5.3427 - mae: 5.3427\n",
            "Epoch 32/100\n",
            "1/1 [==============================] - 0s 10ms/step - loss: 5.3192 - mae: 5.3192\n",
            "Epoch 33/100\n",
            "1/1 [==============================] - 0s 23ms/step - loss: 5.2553 - mae: 5.2553\n",
            "Epoch 34/100\n",
            "1/1 [==============================] - 0s 14ms/step - loss: 5.1546 - mae: 5.1546\n",
            "Epoch 35/100\n",
            "1/1 [==============================] - 0s 14ms/step - loss: 5.0203 - mae: 5.0203\n",
            "Epoch 36/100\n",
            "1/1 [==============================] - 0s 18ms/step - loss: 4.8557 - mae: 4.8557\n",
            "Epoch 37/100\n",
            "1/1 [==============================] - 0s 13ms/step - loss: 4.7115 - mae: 4.7115\n",
            "Epoch 38/100\n",
            "1/1 [==============================] - 0s 14ms/step - loss: 4.6231 - mae: 4.6231\n",
            "Epoch 39/100\n",
            "1/1 [==============================] - 0s 15ms/step - loss: 4.5284 - mae: 4.5284\n",
            "Epoch 40/100\n",
            "1/1 [==============================] - 0s 11ms/step - loss: 4.4272 - mae: 4.4272\n",
            "Epoch 41/100\n",
            "1/1 [==============================] - 0s 11ms/step - loss: 4.3363 - mae: 4.3363\n",
            "Epoch 42/100\n",
            "1/1 [==============================] - 0s 21ms/step - loss: 4.1965 - mae: 4.1965\n",
            "Epoch 43/100\n",
            "1/1 [==============================] - 0s 20ms/step - loss: 4.0674 - mae: 4.0674\n",
            "Epoch 44/100\n",
            "1/1 [==============================] - 0s 14ms/step - loss: 3.9322 - mae: 3.9322\n",
            "Epoch 45/100\n",
            "1/1 [==============================] - 0s 12ms/step - loss: 3.7910 - mae: 3.7910\n",
            "Epoch 46/100\n",
            "1/1 [==============================] - 0s 15ms/step - loss: 3.6434 - mae: 3.6434\n",
            "Epoch 47/100\n",
            "1/1 [==============================] - 0s 16ms/step - loss: 3.4893 - mae: 3.4893\n",
            "Epoch 48/100\n",
            "1/1 [==============================] - 0s 25ms/step - loss: 3.3355 - mae: 3.3355\n",
            "Epoch 49/100\n",
            "1/1 [==============================] - 0s 20ms/step - loss: 3.1889 - mae: 3.1889\n",
            "Epoch 50/100\n",
            "1/1 [==============================] - 0s 18ms/step - loss: 3.0178 - mae: 3.0178\n",
            "Epoch 51/100\n",
            "1/1 [==============================] - 0s 17ms/step - loss: 2.8554 - mae: 2.8554\n",
            "Epoch 52/100\n",
            "1/1 [==============================] - 0s 24ms/step - loss: 2.6842 - mae: 2.6842\n",
            "Epoch 53/100\n",
            "1/1 [==============================] - 0s 22ms/step - loss: 2.5043 - mae: 2.5043\n",
            "Epoch 54/100\n",
            "1/1 [==============================] - 0s 29ms/step - loss: 2.3155 - mae: 2.3155\n",
            "Epoch 55/100\n",
            "1/1 [==============================] - 0s 15ms/step - loss: 2.1177 - mae: 2.1177\n",
            "Epoch 56/100\n",
            "1/1 [==============================] - 0s 32ms/step - loss: 1.9108 - mae: 1.9108\n",
            "Epoch 57/100\n",
            "1/1 [==============================] - 0s 15ms/step - loss: 1.7148 - mae: 1.7148\n",
            "Epoch 58/100\n",
            "1/1 [==============================] - 0s 19ms/step - loss: 1.4818 - mae: 1.4818\n",
            "Epoch 59/100\n",
            "1/1 [==============================] - 0s 15ms/step - loss: 1.2584 - mae: 1.2584\n",
            "Epoch 60/100\n",
            "1/1 [==============================] - 0s 15ms/step - loss: 1.0246 - mae: 1.0246\n",
            "Epoch 61/100\n",
            "1/1 [==============================] - 0s 20ms/step - loss: 0.7804 - mae: 0.7804\n",
            "Epoch 62/100\n",
            "1/1 [==============================] - 0s 32ms/step - loss: 0.5257 - mae: 0.5257\n",
            "Epoch 63/100\n",
            "1/1 [==============================] - 0s 18ms/step - loss: 0.2711 - mae: 0.2711\n",
            "Epoch 64/100\n",
            "1/1 [==============================] - 0s 21ms/step - loss: 0.1086 - mae: 0.1086\n",
            "Epoch 65/100\n",
            "1/1 [==============================] - 0s 28ms/step - loss: 0.3867 - mae: 0.3867\n",
            "Epoch 66/100\n",
            "1/1 [==============================] - 0s 21ms/step - loss: 0.5759 - mae: 0.5759\n",
            "Epoch 67/100\n",
            "1/1 [==============================] - 0s 21ms/step - loss: 0.5445 - mae: 0.5445\n",
            "Epoch 68/100\n",
            "1/1 [==============================] - 0s 11ms/step - loss: 0.6765 - mae: 0.6765\n",
            "Epoch 69/100\n",
            "1/1 [==============================] - 0s 15ms/step - loss: 0.7468 - mae: 0.7468\n",
            "Epoch 70/100\n",
            "1/1 [==============================] - 0s 15ms/step - loss: 0.6518 - mae: 0.6518\n",
            "Epoch 71/100\n",
            "1/1 [==============================] - 0s 27ms/step - loss: 0.6901 - mae: 0.6901\n",
            "Epoch 72/100\n",
            "1/1 [==============================] - 0s 24ms/step - loss: 0.5737 - mae: 0.5737\n",
            "Epoch 73/100\n",
            "1/1 [==============================] - 0s 18ms/step - loss: 0.5909 - mae: 0.5909\n",
            "Epoch 74/100\n",
            "1/1 [==============================] - 0s 16ms/step - loss: 0.5200 - mae: 0.5200\n",
            "Epoch 75/100\n",
            "1/1 [==============================] - 0s 25ms/step - loss: 0.2703 - mae: 0.2703\n",
            "Epoch 76/100\n",
            "1/1 [==============================] - 0s 19ms/step - loss: 0.2916 - mae: 0.2916\n",
            "Epoch 77/100\n",
            "1/1 [==============================] - 0s 24ms/step - loss: 0.2609 - mae: 0.2609\n",
            "Epoch 78/100\n",
            "1/1 [==============================] - 0s 18ms/step - loss: 0.1684 - mae: 0.1684\n",
            "Epoch 79/100\n",
            "1/1 [==============================] - 0s 19ms/step - loss: 0.2978 - mae: 0.2978\n",
            "Epoch 80/100\n",
            "1/1 [==============================] - 0s 20ms/step - loss: 0.2602 - mae: 0.2602\n",
            "Epoch 81/100\n",
            "1/1 [==============================] - 0s 28ms/step - loss: 0.3303 - mae: 0.3303\n",
            "Epoch 82/100\n",
            "1/1 [==============================] - 0s 12ms/step - loss: 0.3078 - mae: 0.3078\n",
            "Epoch 83/100\n",
            "1/1 [==============================] - 0s 13ms/step - loss: 0.2239 - mae: 0.2239\n",
            "Epoch 84/100\n",
            "1/1 [==============================] - 0s 15ms/step - loss: 0.2146 - mae: 0.2146\n",
            "Epoch 85/100\n",
            "1/1 [==============================] - 0s 15ms/step - loss: 0.0628 - mae: 0.0628\n",
            "Epoch 86/100\n",
            "1/1 [==============================] - 0s 19ms/step - loss: 0.2863 - mae: 0.2863\n",
            "Epoch 87/100\n",
            "1/1 [==============================] - 0s 11ms/step - loss: 0.2859 - mae: 0.2859\n",
            "Epoch 88/100\n",
            "1/1 [==============================] - 0s 20ms/step - loss: 0.1762 - mae: 0.1762\n",
            "Epoch 89/100\n",
            "1/1 [==============================] - 0s 11ms/step - loss: 0.3690 - mae: 0.3690\n",
            "Epoch 90/100\n",
            "1/1 [==============================] - 0s 12ms/step - loss: 0.3559 - mae: 0.3559\n",
            "Epoch 91/100\n",
            "1/1 [==============================] - 0s 10ms/step - loss: 0.2033 - mae: 0.2033\n",
            "Epoch 92/100\n",
            "1/1 [==============================] - 0s 19ms/step - loss: 0.2077 - mae: 0.2077\n",
            "Epoch 93/100\n",
            "1/1 [==============================] - 0s 16ms/step - loss: 0.1150 - mae: 0.1150\n",
            "Epoch 94/100\n",
            "1/1 [==============================] - 0s 13ms/step - loss: 0.0533 - mae: 0.0533\n",
            "Epoch 95/100\n",
            "1/1 [==============================] - 0s 10ms/step - loss: 0.0985 - mae: 0.0985\n",
            "Epoch 96/100\n",
            "1/1 [==============================] - 0s 13ms/step - loss: 0.1127 - mae: 0.1127\n",
            "Epoch 97/100\n",
            "1/1 [==============================] - 0s 11ms/step - loss: 0.1851 - mae: 0.1851\n",
            "Epoch 98/100\n",
            "1/1 [==============================] - 0s 12ms/step - loss: 0.1399 - mae: 0.1399\n",
            "Epoch 99/100\n",
            "1/1 [==============================] - 0s 18ms/step - loss: 0.1490 - mae: 0.1490\n",
            "Epoch 100/100\n",
            "1/1 [==============================] - 0s 10ms/step - loss: 0.0978 - mae: 0.0978\n"
          ]
        },
        {
          "data": {
            "text/plain": [
              "<keras.callbacks.History at 0x7f0e75b9b290>"
            ]
          },
          "execution_count": 11,
          "metadata": {},
          "output_type": "execute_result"
        }
      ],
      "source": [
        "# Creating another one\n",
        "\n",
        "tf.random.set_seed(42)\n",
        "model = tf.keras.Sequential([\n",
        "    tf.keras.layers.Dense(50, activation=None),\n",
        "    tf.keras.layers.Dense(1)\n",
        "])\n",
        "\n",
        "model.compile(loss=tf.keras.losses.mae,\n",
        "              optimizer=tf.keras.optimizers.Adam(learning_rate=0.01, decay=0.002),\n",
        "              metrics=['mae'])\n",
        "\n",
        "model.fit(tf.expand_dims(X, axis=-1), y, epochs=100)"
      ]
    },
    {
      "cell_type": "code",
      "execution_count": 12,
      "metadata": {
        "colab": {
          "base_uri": "https://localhost:8080/"
        },
        "id": "kaxDh_aQNr0p",
        "outputId": "86816b3c-c68b-4d9b-b8a2-2b7ed519d80f"
      },
      "outputs": [
        {
          "data": {
            "text/plain": [
              "array([[49.889637]], dtype=float32)"
            ]
          },
          "execution_count": 12,
          "metadata": {},
          "output_type": "execute_result"
        }
      ],
      "source": [
        "model.predict([40.0])"
      ]
    },
    {
      "cell_type": "code",
      "execution_count": 13,
      "metadata": {
        "colab": {
          "base_uri": "https://localhost:8080/"
        },
        "id": "JHV-pPS-NxwO",
        "outputId": "f7cfba1e-89b1-47a5-91ee-f9bffb6f1ed5"
      },
      "outputs": [
        {
          "data": {
            "text/plain": [
              "<tf.Tensor: shape=(50,), dtype=int32, numpy=\n",
              "array([-100,  -96,  -92,  -88,  -84,  -80,  -76,  -72,  -68,  -64,  -60,\n",
              "        -56,  -52,  -48,  -44,  -40,  -36,  -32,  -28,  -24,  -20,  -16,\n",
              "        -12,   -8,   -4,    0,    4,    8,   12,   16,   20,   24,   28,\n",
              "         32,   36,   40,   44,   48,   52,   56,   60,   64,   68,   72,\n",
              "         76,   80,   84,   88,   92,   96], dtype=int32)>"
            ]
          },
          "execution_count": 13,
          "metadata": {},
          "output_type": "execute_result"
        }
      ],
      "source": [
        "# Make a bigger Data Set\n",
        "\n",
        "X = tf.range(-100, 100, 4)\n",
        "X"
      ]
    },
    {
      "cell_type": "code",
      "execution_count": 14,
      "metadata": {
        "colab": {
          "base_uri": "https://localhost:8080/"
        },
        "id": "DqexB80WPff9",
        "outputId": "e4cb1847-0a44-49e8-edff-d645434492db"
      },
      "outputs": [
        {
          "data": {
            "text/plain": [
              "<tf.Tensor: shape=(50,), dtype=int32, numpy=\n",
              "array([-90, -86, -82, -78, -74, -70, -66, -62, -58, -54, -50, -46, -42,\n",
              "       -38, -34, -30, -26, -22, -18, -14, -10,  -6,  -2,   2,   6,  10,\n",
              "        14,  18,  22,  26,  30,  34,  38,  42,  46,  50,  54,  58,  62,\n",
              "        66,  70,  74,  78,  82,  86,  90,  94,  98, 102, 106], dtype=int32)>"
            ]
          },
          "execution_count": 14,
          "metadata": {},
          "output_type": "execute_result"
        }
      ],
      "source": [
        "y = X + 10\n",
        "y"
      ]
    },
    {
      "cell_type": "code",
      "execution_count": 15,
      "metadata": {
        "colab": {
          "base_uri": "https://localhost:8080/"
        },
        "id": "LJ8ZHwQMSqBj",
        "outputId": "74dc7b9a-db7d-4687-d7c1-3aaf1aecc9fc"
      },
      "outputs": [
        {
          "data": {
            "text/plain": [
              "<tf.Tensor: shape=(50, 1), dtype=int32, numpy=\n",
              "array([[-100],\n",
              "       [ -96],\n",
              "       [ -92],\n",
              "       [ -88],\n",
              "       [ -84],\n",
              "       [ -80],\n",
              "       [ -76],\n",
              "       [ -72],\n",
              "       [ -68],\n",
              "       [ -64],\n",
              "       [ -60],\n",
              "       [ -56],\n",
              "       [ -52],\n",
              "       [ -48],\n",
              "       [ -44],\n",
              "       [ -40],\n",
              "       [ -36],\n",
              "       [ -32],\n",
              "       [ -28],\n",
              "       [ -24],\n",
              "       [ -20],\n",
              "       [ -16],\n",
              "       [ -12],\n",
              "       [  -8],\n",
              "       [  -4],\n",
              "       [   0],\n",
              "       [   4],\n",
              "       [   8],\n",
              "       [  12],\n",
              "       [  16],\n",
              "       [  20],\n",
              "       [  24],\n",
              "       [  28],\n",
              "       [  32],\n",
              "       [  36],\n",
              "       [  40],\n",
              "       [  44],\n",
              "       [  48],\n",
              "       [  52],\n",
              "       [  56],\n",
              "       [  60],\n",
              "       [  64],\n",
              "       [  68],\n",
              "       [  72],\n",
              "       [  76],\n",
              "       [  80],\n",
              "       [  84],\n",
              "       [  88],\n",
              "       [  92],\n",
              "       [  96]], dtype=int32)>"
            ]
          },
          "execution_count": 15,
          "metadata": {},
          "output_type": "execute_result"
        }
      ],
      "source": [
        "X = tf.expand_dims(X, axis=-1)\n",
        "X"
      ]
    },
    {
      "cell_type": "code",
      "execution_count": 16,
      "metadata": {
        "colab": {
          "base_uri": "https://localhost:8080/"
        },
        "id": "mrJyFtXoPlRr",
        "outputId": "8bd3bbf8-9633-4176-87e2-9e32fb4560ec"
      },
      "outputs": [
        {
          "name": "stdout",
          "output_type": "stream",
          "text": [
            "Epoch 1/5\n",
            "2/2 [==============================] - 1s 13ms/step - loss: 43.1089 - mae: 43.1089\n",
            "Epoch 2/5\n",
            "2/2 [==============================] - 0s 10ms/step - loss: 28.2287 - mae: 28.2287\n",
            "Epoch 3/5\n",
            "2/2 [==============================] - 0s 14ms/step - loss: 48.1164 - mae: 48.1164\n",
            "Epoch 4/5\n",
            "2/2 [==============================] - 0s 10ms/step - loss: 10.5299 - mae: 10.5299\n",
            "Epoch 5/5\n",
            "2/2 [==============================] - 0s 10ms/step - loss: 23.6934 - mae: 23.6934\n"
          ]
        },
        {
          "data": {
            "text/plain": [
              "<keras.callbacks.History at 0x7f0e752001d0>"
            ]
          },
          "execution_count": 16,
          "metadata": {},
          "output_type": "execute_result"
        }
      ],
      "source": [
        "# Create a neural network\n",
        "\n",
        "model = tf.keras.Sequential([\n",
        "              tf.keras.layers.Dense(100, activation=None),\n",
        "              tf.keras.layers.Dense(1)\n",
        "])\n",
        "\n",
        "model.compile(loss=tf.keras.losses.mae,\n",
        "              optimizer=tf.keras.optimizers.SGD(),\n",
        "              metrics=['mae'])\n",
        "\n",
        "model.fit(X, y, epochs=5)\n",
        "\n",
        "# model.fit(tf.expand_dims(X, axis=-1), y, epochs=5)"
      ]
    },
    {
      "cell_type": "code",
      "execution_count": 17,
      "metadata": {
        "colab": {
          "base_uri": "https://localhost:8080/"
        },
        "id": "zoIViQCqQDeu",
        "outputId": "c871ff7a-52fa-4e39-c6b3-d71061a44055"
      },
      "outputs": [
        {
          "data": {
            "text/plain": [
              "array([[6.584521]], dtype=float32)"
            ]
          },
          "execution_count": 17,
          "metadata": {},
          "output_type": "execute_result"
        }
      ],
      "source": [
        "model.predict([17])"
      ]
    },
    {
      "cell_type": "code",
      "execution_count": 18,
      "metadata": {
        "id": "XtJKbKImQ461"
      },
      "outputs": [],
      "source": [
        "# Visualized a Data"
      ]
    },
    {
      "cell_type": "code",
      "execution_count": 19,
      "metadata": {
        "id": "X_m_6p48Seil"
      },
      "outputs": [],
      "source": [
        "X_train = X[:40]\n",
        "X_test = X[40:]\n",
        "\n",
        "y_train = y[:40]\n",
        "y_test = y[40:]"
      ]
    },
    {
      "cell_type": "code",
      "execution_count": 20,
      "metadata": {
        "colab": {
          "base_uri": "https://localhost:8080/"
        },
        "id": "6Gv43dqKWcmQ",
        "outputId": "11d6ee91-dbc7-4f62-ef04-7205aa55b6d8"
      },
      "outputs": [
        {
          "data": {
            "text/plain": [
              "(TensorShape([40, 1]),\n",
              " TensorShape([10, 1]),\n",
              " TensorShape([40]),\n",
              " TensorShape([10]))"
            ]
          },
          "execution_count": 20,
          "metadata": {},
          "output_type": "execute_result"
        }
      ],
      "source": [
        "X_train.shape, X_test.shape, y_train.shape, y_test.shape"
      ]
    },
    {
      "cell_type": "code",
      "execution_count": 21,
      "metadata": {
        "colab": {
          "base_uri": "https://localhost:8080/",
          "height": 265
        },
        "id": "FeJkOtvoWeQz",
        "outputId": "f81c9021-3c3b-487c-d310-7c23b392a18e"
      },
      "outputs": [
        {
          "data": {
            "image/png": "[encoded data removed]",
            "text/plain": [
              "<Figure size 432x288 with 1 Axes>"
            ]
          },
          "metadata": {
            "needs_background": "light"
          },
          "output_type": "display_data"
        }
      ],
      "source": [
        "plt.scatter(X_train, y_train, c='red', label='Traning Data')\n",
        "plt.scatter(X_test, y_test, c='blue', label='Test Data')\n",
        "plt.legend();"
      ]
    },
    {
      "cell_type": "code",
      "execution_count": 22,
      "metadata": {
        "id": "8RLzHI59Za6L"
      },
      "outputs": [],
      "source": [
        "tf.random.set_seed(42)\n",
        "\n",
        "model = tf.keras.Sequential([\n",
        "                tf.keras.layers.Dense(1)\n",
        "])\n",
        "\n",
        "model.compile(loss=tf.keras.losses.mae,\n",
        "              optimizer=tf.keras.optimizers.SGD(),\n",
        "              metrics=['mae'])\n",
        "\n",
        "# model.fit(X, Y, epochs=50)"
      ]
    },
    {
      "cell_type": "code",
      "execution_count": 23,
      "metadata": {
        "colab": {
          "base_uri": "https://localhost:8080/",
          "height": 286
        },
        "id": "YFWtQzzpajDC",
        "outputId": "40aa6065-e57a-4420-fbd6-2600fccc782e"
      },
      "outputs": [
        {
          "ename": "ValueError",
          "evalue": "ignored",
          "output_type": "error",
          "traceback": [
            "\u001b[0;31m---------------------------------------------------------------------------\u001b[0m",
            "\u001b[0;31mValueError\u001b[0m                                Traceback (most recent call last)",
            "\u001b[0;32m<ipython-input-23-5f15418b3570>\u001b[0m in \u001b[0;36m<module>\u001b[0;34m()\u001b[0m\n\u001b[0;32m----> 1\u001b[0;31m \u001b[0mmodel\u001b[0m\u001b[0;34m.\u001b[0m\u001b[0msummary\u001b[0m\u001b[0;34m(\u001b[0m\u001b[0;34m)\u001b[0m\u001b[0;34m\u001b[0m\u001b[0;34m\u001b[0m\u001b[0m\n\u001b[0m",
            "\u001b[0;32m/usr/local/lib/python3.7/dist-packages/keras/engine/training.py\u001b[0m in \u001b[0;36msummary\u001b[0;34m(self, line_length, positions, print_fn, expand_nested, show_trainable)\u001b[0m\n\u001b[1;32m   2774\u001b[0m     \u001b[0;32mif\u001b[0m \u001b[0;32mnot\u001b[0m \u001b[0mself\u001b[0m\u001b[0;34m.\u001b[0m\u001b[0mbuilt\u001b[0m\u001b[0;34m:\u001b[0m\u001b[0;34m\u001b[0m\u001b[0;34m\u001b[0m\u001b[0m\n\u001b[1;32m   2775\u001b[0m       raise ValueError(\n\u001b[0;32m-> 2776\u001b[0;31m           \u001b[0;34m'This model has not yet been built. '\u001b[0m\u001b[0;34m\u001b[0m\u001b[0;34m\u001b[0m\u001b[0m\n\u001b[0m\u001b[1;32m   2777\u001b[0m           \u001b[0;34m'Build the model first by calling `build()` or by calling '\u001b[0m\u001b[0;34m\u001b[0m\u001b[0;34m\u001b[0m\u001b[0m\n\u001b[1;32m   2778\u001b[0m           'the model on a batch of data.')\n",
            "\u001b[0;31mValueError\u001b[0m: This model has not yet been built. Build the model first by calling `build()` or by calling the model on a batch of data."
          ]
        }
      ],
      "source": [
        "model.summary()"
      ]
    },
    {
      "cell_type": "code",
      "execution_count": 24,
      "metadata": {
        "id": "dmKQfoI-bK4_"
      },
      "outputs": [],
      "source": [
        "tf.random.set_seed(42)\n",
        "\n",
        "model = tf.keras.Sequential([\n",
        "                  tf.keras.layers.Dense(100, input_shape=[1]),\n",
        "                  tf.keras.layers.Dense(10, input_shape=[1])\n",
        "])\n",
        "\n",
        "model.compile(loss=tf.keras.losses.mae,\n",
        "              optimizer= tf.keras.optimizers.Adam(),\n",
        "              metrics=['mae'])"
      ]
    },
    {
      "cell_type": "code",
      "execution_count": 25,
      "metadata": {
        "colab": {
          "base_uri": "https://localhost:8080/"
        },
        "id": "dewoxS9Gb_fC",
        "outputId": "e78e87f3-fbc6-42de-861a-8c612313642e"
      },
      "outputs": [
        {
          "name": "stdout",
          "output_type": "stream",
          "text": [
            "Model: \"sequential_6\"\n",
            "_________________________________________________________________\n",
            " Layer (type)                Output Shape              Param #   \n",
            "=================================================================\n",
            " dense_11 (Dense)            (None, 100)               200       \n",
            "                                                                 \n",
            " dense_12 (Dense)            (None, 10)                1010      \n",
            "                                                                 \n",
            "=================================================================\n",
            "Total params: 1,210\n",
            "Trainable params: 1,210\n",
            "Non-trainable params: 0\n",
            "_________________________________________________________________\n"
          ]
        }
      ],
      "source": [
        "# input has one i.e. x is single thus 100 percepton takes x thus w=100, b=100 thus param = 200 on first layer\n",
        "# In second layer 100 input goes to all 10 perceptron thus each perceptron has w=100 and b=1 there are total 10 perceptron\n",
        "# thus w=1000 b=10 thus in second layer param=1010, now the whole model hase total params=1210 i.e w=1100 and b=110.\n",
        "# All are need to train thus it is in trainable params.\n",
        "# Non Trainable params when we use someone else already trained model\n",
        "model.summary()"
      ]
    },
    {
      "cell_type": "code",
      "execution_count": 26,
      "metadata": {
        "id": "34nh2l5OcB_u"
      },
      "outputs": [],
      "source": [
        "# model.fit(X_train, y_train, epochs=100, verbose=1)"
      ]
    },
    {
      "cell_type": "code",
      "execution_count": 27,
      "metadata": {
        "id": "WvlAtH8ls9v0"
      },
      "outputs": [],
      "source": [
        "# Visualize our model"
      ]
    },
    {
      "cell_type": "code",
      "execution_count": 28,
      "metadata": {
        "colab": {
          "base_uri": "https://localhost:8080/"
        },
        "id": "vI3vtcAmk5Jm",
        "outputId": "5a5e87e4-ae95-4595-abfa-a66a2c930634"
      },
      "outputs": [
        {
          "data": {
            "text/plain": [
              "<keras.callbacks.History at 0x7f0e74feb690>"
            ]
          },
          "execution_count": 28,
          "metadata": {},
          "output_type": "execute_result"
        }
      ],
      "source": [
        "tf.random.set_seed(42)\n",
        "\n",
        "model = tf.keras.Sequential([\n",
        "                  tf.keras.layers.Dense(20, input_shape=[1], name='Hidden_1'),\n",
        "                  tf.keras.layers.Dense(10, input_shape=[1], name='Hidden_2'),\n",
        "                  tf.keras.layers.Dense(1, input_shape=[1], name='Output')\n",
        "], name='Checking_my_plot_model')\n",
        "\n",
        "model.compile(loss=tf.keras.losses.mae,\n",
        "              optimizer= tf.keras.optimizers.Adam(learning_rate=0.01),\n",
        "              metrics=['mae'])\n",
        "\n",
        "model.fit(X_train, y_train, epochs=200, verbose=0)"
      ]
    },
    {
      "cell_type": "code",
      "execution_count": 29,
      "metadata": {
        "colab": {
          "base_uri": "https://localhost:8080/"
        },
        "id": "6wl43gP8oJh3",
        "outputId": "92add912-9ae3-4b9a-9efe-0a2556ed800d"
      },
      "outputs": [
        {
          "name": "stdout",
          "output_type": "stream",
          "text": [
            "Model: \"Checking_my_plot_model\"\n",
            "_________________________________________________________________\n",
            " Layer (type)                Output Shape              Param #   \n",
            "=================================================================\n",
            " Hidden_1 (Dense)            (None, 20)                40        \n",
            "                                                                 \n",
            " Hidden_2 (Dense)            (None, 10)                210       \n",
            "                                                                 \n",
            " Output (Dense)              (None, 1)                 11        \n",
            "                                                                 \n",
            "=================================================================\n",
            "Total params: 261\n",
            "Trainable params: 261\n",
            "Non-trainable params: 0\n",
            "_________________________________________________________________\n"
          ]
        }
      ],
      "source": [
        "model.summary()"
      ]
    },
    {
      "cell_type": "code",
      "execution_count": 30,
      "metadata": {
        "colab": {
          "base_uri": "https://localhost:8080/",
          "height": 422
        },
        "id": "xRYaZDf-hncl",
        "outputId": "47413f64-1f97-435a-e214-800d5b0db2db"
      },
      "outputs": [
        {
          "data": {
            "image/png": "[encoded data removed]",
            "text/plain": [
              "<IPython.core.display.Image object>"
            ]
          },
          "execution_count": 30,
          "metadata": {},
          "output_type": "execute_result"
        }
      ],
      "source": [
        "\n",
        "# Plot Model\n",
        "from tensorflow.keras.utils import plot_model\n",
        "\n",
        "plot_model(model=model, show_shapes=True)"
      ]
    },
    {
      "cell_type": "markdown",
      "metadata": {
        "id": "GS5LdX65te-B"
      },
      "source": [
        "Visualize Our model's Prediction"
      ]
    },
    {
      "cell_type": "code",
      "execution_count": 31,
      "metadata": {
        "colab": {
          "base_uri": "https://localhost:8080/"
        },
        "id": "jhIoJdVXkWwK",
        "outputId": "3ec42526-ea90-4f48-fca0-d6ffc91cf0e3"
      },
      "outputs": [
        {
          "name": "stdout",
          "output_type": "stream",
          "text": [
            "WARNING:tensorflow:5 out of the last 5 calls to <function Model.make_predict_function.<locals>.predict_function at 0x7f0e75171ef0> triggered tf.function retracing. Tracing is expensive and the excessive number of tracings could be due to (1) creating @tf.function repeatedly in a loop, (2) passing tensors with different shapes, (3) passing Python objects instead of tensors. For (1), please define your @tf.function outside of the loop. For (2), @tf.function has experimental_relax_shapes=True option that relaxes argument shapes that can avoid unnecessary retracing. For (3), please refer to https://www.tensorflow.org/guide/function#controlling_retracing and https://www.tensorflow.org/api_docs/python/tf/function for  more details.\n"
          ]
        },
        {
          "data": {
            "text/plain": [
              "(<tf.Tensor: shape=(10, 1), dtype=float32, numpy=\n",
              " array([[ 67.892456],\n",
              "        [ 71.78572 ],\n",
              "        [ 75.678986],\n",
              "        [ 79.57225 ],\n",
              "        [ 83.465515],\n",
              "        [ 87.35878 ],\n",
              "        [ 91.25203 ],\n",
              "        [ 95.1453  ],\n",
              "        [ 99.03857 ],\n",
              "        [102.931816]], dtype=float32)>,\n",
              " <tf.Tensor: shape=(10,), dtype=int32, numpy=array([ 70,  74,  78,  82,  86,  90,  94,  98, 102, 106], dtype=int32)>)"
            ]
          },
          "execution_count": 31,
          "metadata": {},
          "output_type": "execute_result"
        }
      ],
      "source": [
        "# Make some prediction\n",
        "y_pred = model.predict(X_test)\n",
        "y_pred = tf.constant(y_pred)\n",
        "y_pred, y_test"
      ]
    },
    {
      "cell_type": "code",
      "execution_count": 32,
      "metadata": {
        "id": "5zDR2_JTt2HY"
      },
      "outputs": [],
      "source": [
        "#  Create a ploting function\n",
        "def plot_predictions(train_data=X_train,\n",
        "                     train_labels=y_train,\n",
        "                     test_data=X_test,\n",
        "                     test_labels=y_test,\n",
        "                     predictions=y_pred):\n",
        "  \"\"\"\n",
        "  Ploting Traning data, test data and compare predictions to ground truth labels.\n",
        "  \"\"\"\n",
        "\n",
        "  plt.figure(figsize=(10, 8))\n",
        "  # Plot Traning data into blue\n",
        "  plt.scatter(train_data, train_labels, c='blue', label='Traning Data')\n",
        "  # Plot Testing data into green\n",
        "  plt.scatter(test_data, test_labels, c='green', label='Testing Data')\n",
        "  # Plot Models's predictions in red\n",
        "  plt.scatter(test_data, predictions, c='red', label='Prediction')\n",
        "  plt.legend();"
      ]
    },
    {
      "cell_type": "code",
      "execution_count": 33,
      "metadata": {
        "colab": {
          "base_uri": "https://localhost:8080/",
          "height": 483
        },
        "id": "1KiXiJgtylku",
        "outputId": "299aea71-697e-4341-d1ec-f09820a7018b"
      },
      "outputs": [
        {
          "data": {
            "image/png": "[encoded data removed]",
            "text/plain": [
              "<Figure size 720x576 with 1 Axes>"
            ]
          },
          "metadata": {
            "needs_background": "light"
          },
          "output_type": "display_data"
        }
      ],
      "source": [
        "plot_predictions(train_data=X_train,\n",
        "                     train_labels=y_train,\n",
        "                     test_data=X_test,\n",
        "                     test_labels=y_test,\n",
        "                     predictions=y_pred)"
      ]
    },
    {
      "cell_type": "markdown",
      "metadata": {
        "id": "tr35ccr_zbLI"
      },
      "source": [
        "# Regression Evaluation Metrics"
      ]
    },
    {
      "cell_type": "code",
      "execution_count": 34,
      "metadata": {
        "colab": {
          "base_uri": "https://localhost:8080/"
        },
        "id": "dvy6V9O_yxh9",
        "outputId": "26fc1172-a990-4cf9-e9f6-6f5707f5a26a"
      },
      "outputs": [
        {
          "name": "stdout",
          "output_type": "stream",
          "text": [
            "1/1 [==============================] - 0s 152ms/step - loss: 2.5879 - mae: 2.5879\n"
          ]
        },
        {
          "data": {
            "text/plain": [
              "[2.587857723236084, 2.587857723236084]"
            ]
          },
          "execution_count": 34,
          "metadata": {},
          "output_type": "execute_result"
        }
      ],
      "source": [
        "model.evaluate(X_test, y_test)"
      ]
    },
    {
      "cell_type": "code",
      "execution_count": 35,
      "metadata": {
        "colab": {
          "base_uri": "https://localhost:8080/"
        },
        "id": "TTUPlf7k2sTE",
        "outputId": "21e3ceec-85c7-4633-a68a-ce13deb572d1"
      },
      "outputs": [
        {
          "data": {
            "text/plain": [
              "<tf.Tensor: shape=(10,), dtype=float32, numpy=\n",
              "array([20.107544, 16.571423, 13.792608, 11.7711  , 10.506897, 10.      ,\n",
              "       10.250406, 11.258121, 13.02314 , 15.545453], dtype=float32)>"
            ]
          },
          "execution_count": 35,
          "metadata": {},
          "output_type": "execute_result"
        }
      ],
      "source": [
        "tf.keras.losses.MAE(y_test, y_pred)\n",
        "# Right now it is wrong because y_test and y_pred is in different dimension"
      ]
    },
    {
      "cell_type": "code",
      "execution_count": 36,
      "metadata": {
        "id": "4qgym8CU3Wsh"
      },
      "outputs": [],
      "source": [
        "# tf.keras.losses.mean_absolute_error(y_test, y_pred)"
      ]
    },
    {
      "cell_type": "code",
      "execution_count": 37,
      "metadata": {
        "id": "42CKPEv93jk1"
      },
      "outputs": [],
      "source": [
        "# tf.metrics.mean_absolute_error(y_test, y_pred)"
      ]
    },
    {
      "cell_type": "code",
      "execution_count": 38,
      "metadata": {
        "id": "T12-VGEt3qhV"
      },
      "outputs": [],
      "source": [
        "# tf.metrics.MAE(y_test, y_pred)"
      ]
    },
    {
      "cell_type": "code",
      "execution_count": 39,
      "metadata": {
        "colab": {
          "base_uri": "https://localhost:8080/"
        },
        "id": "wnW_kvnW3syC",
        "outputId": "9b3af6f7-555d-44d2-bee2-5079e473eef4"
      },
      "outputs": [
        {
          "data": {
            "text/plain": [
              "(<tf.Tensor: shape=(10,), dtype=int32, numpy=array([ 70,  74,  78,  82,  86,  90,  94,  98, 102, 106], dtype=int32)>,\n",
              " <tf.Tensor: shape=(10, 1), dtype=float32, numpy=\n",
              " array([[ 67.892456],\n",
              "        [ 71.78572 ],\n",
              "        [ 75.678986],\n",
              "        [ 79.57225 ],\n",
              "        [ 83.465515],\n",
              "        [ 87.35878 ],\n",
              "        [ 91.25203 ],\n",
              "        [ 95.1453  ],\n",
              "        [ 99.03857 ],\n",
              "        [102.931816]], dtype=float32)>)"
            ]
          },
          "execution_count": 39,
          "metadata": {},
          "output_type": "execute_result"
        }
      ],
      "source": [
        "y_test, y_pred"
      ]
    },
    {
      "cell_type": "code",
      "execution_count": 40,
      "metadata": {
        "colab": {
          "base_uri": "https://localhost:8080/"
        },
        "id": "CSU3EyyQ7jRt",
        "outputId": "6813219e-160f-48ee-e299-5c3ac0a2768b"
      },
      "outputs": [
        {
          "data": {
            "text/plain": [
              "(<tf.Tensor: shape=(10,), dtype=float32, numpy=\n",
              " array([ 67.892456,  71.78572 ,  75.678986,  79.57225 ,  83.465515,\n",
              "         87.35878 ,  91.25203 ,  95.1453  ,  99.03857 , 102.931816],\n",
              "       dtype=float32)>,\n",
              " <tf.Tensor: shape=(10,), dtype=int32, numpy=array([ 70,  74,  78,  82,  86,  90,  94,  98, 102, 106], dtype=int32)>)"
            ]
          },
          "execution_count": 40,
          "metadata": {},
          "output_type": "execute_result"
        }
      ],
      "source": [
        "y_pred = tf.squeeze(y_pred)\n",
        "y_pred, y_test"
      ]
    },
    {
      "cell_type": "code",
      "execution_count": 41,
      "metadata": {
        "colab": {
          "base_uri": "https://localhost:8080/"
        },
        "id": "8jqJdGM6725y",
        "outputId": "674ff9b9-527a-4936-86ca-f351e8d42252"
      },
      "outputs": [
        {
          "data": {
            "text/plain": [
              "<tf.Tensor: shape=(), dtype=float32, numpy=2.5878577>"
            ]
          },
          "execution_count": 41,
          "metadata": {},
          "output_type": "execute_result"
        }
      ],
      "source": [
        "tf.metrics.MAE(y_test, y_pred)"
      ]
    },
    {
      "cell_type": "markdown",
      "metadata": {
        "id": "rtY8XUwY9PnX"
      },
      "source": [
        "# Experiment for improve our model"
      ]
    },
    {
      "cell_type": "code",
      "execution_count": 42,
      "metadata": {
        "id": "op8DNFj98Aot"
      },
      "outputs": [],
      "source": [
        "# By Try different model hyperparameter"
      ]
    },
    {
      "cell_type": "markdown",
      "metadata": {
        "id": "gAj5vonWNL2d"
      },
      "source": [
        "# Saving a model"
      ]
    },
    {
      "cell_type": "code",
      "execution_count": 43,
      "metadata": {
        "colab": {
          "base_uri": "https://localhost:8080/"
        },
        "id": "ROCoXoFjNWwX",
        "outputId": "d0e0f882-c688-4fcb-f946-14b9ab459b89"
      },
      "outputs": [
        {
          "name": "stderr",
          "output_type": "stream",
          "text": [
            "WARNING:absl:Function `_wrapped_model` contains input name(s) Hidden_1_input with unsupported characters which will be renamed to hidden_1_input in the SavedModel.\n"
          ]
        },
        {
          "name": "stdout",
          "output_type": "stream",
          "text": [
            "INFO:tensorflow:Assets written to: as_default_type/assets\n"
          ]
        },
        {
          "name": "stderr",
          "output_type": "stream",
          "text": [
            "INFO:tensorflow:Assets written to: as_default_type/assets\n"
          ]
        }
      ],
      "source": [
        "model.save('as_default_type')"
      ]
    },
    {
      "cell_type": "code",
      "execution_count": 44,
      "metadata": {
        "id": "RJPte7ReNg9c"
      },
      "outputs": [],
      "source": [
        "model.save('model_HDF5_format.h5')"
      ]
    },
    {
      "cell_type": "markdown",
      "metadata": {
        "id": "aZ2Mq64EOxCS"
      },
      "source": [
        "# Loading a Model"
      ]
    },
    {
      "cell_type": "code",
      "execution_count": 45,
      "metadata": {
        "colab": {
          "base_uri": "https://localhost:8080/"
        },
        "id": "GsT5h8XmODiA",
        "outputId": "209c742e-4b79-40a3-a18f-12ea25dae117"
      },
      "outputs": [
        {
          "name": "stdout",
          "output_type": "stream",
          "text": [
            "Model: \"Checking_my_plot_model\"\n",
            "_________________________________________________________________\n",
            " Layer (type)                Output Shape              Param #   \n",
            "=================================================================\n",
            " Hidden_1 (Dense)            (None, 20)                40        \n",
            "                                                                 \n",
            " Hidden_2 (Dense)            (None, 10)                210       \n",
            "                                                                 \n",
            " Output (Dense)              (None, 1)                 11        \n",
            "                                                                 \n",
            "=================================================================\n",
            "Total params: 261\n",
            "Trainable params: 261\n",
            "Non-trainable params: 0\n",
            "_________________________________________________________________\n"
          ]
        }
      ],
      "source": [
        "as_default_type = tf.keras.models.load_model('as_default_type')\n",
        "as_default_type.summary()"
      ]
    },
    {
      "cell_type": "code",
      "execution_count": 46,
      "metadata": {
        "colab": {
          "base_uri": "https://localhost:8080/"
        },
        "id": "vQcQ18DaPE5Z",
        "outputId": "bd193b5e-dc1f-449b-b65d-880df4e2e1a0"
      },
      "outputs": [
        {
          "name": "stdout",
          "output_type": "stream",
          "text": [
            "Model: \"Checking_my_plot_model\"\n",
            "_________________________________________________________________\n",
            " Layer (type)                Output Shape              Param #   \n",
            "=================================================================\n",
            " Hidden_1 (Dense)            (None, 20)                40        \n",
            "                                                                 \n",
            " Hidden_2 (Dense)            (None, 10)                210       \n",
            "                                                                 \n",
            " Output (Dense)              (None, 1)                 11        \n",
            "                                                                 \n",
            "=================================================================\n",
            "Total params: 261\n",
            "Trainable params: 261\n",
            "Non-trainable params: 0\n",
            "_________________________________________________________________\n"
          ]
        }
      ],
      "source": [
        "model.summary()"
      ]
    },
    {
      "cell_type": "code",
      "execution_count": 47,
      "metadata": {
        "colab": {
          "base_uri": "https://localhost:8080/"
        },
        "id": "tVERZjvqSTpu",
        "outputId": "b8dd5791-96cf-4118-a678-a22ba39bc993"
      },
      "outputs": [
        {
          "name": "stdout",
          "output_type": "stream",
          "text": [
            "Model: \"Checking_my_plot_model\"\n",
            "_________________________________________________________________\n",
            " Layer (type)                Output Shape              Param #   \n",
            "=================================================================\n",
            " Hidden_1 (Dense)            (None, 20)                40        \n",
            "                                                                 \n",
            " Hidden_2 (Dense)            (None, 10)                210       \n",
            "                                                                 \n",
            " Output (Dense)              (None, 1)                 11        \n",
            "                                                                 \n",
            "=================================================================\n",
            "Total params: 261\n",
            "Trainable params: 261\n",
            "Non-trainable params: 0\n",
            "_________________________________________________________________\n"
          ]
        }
      ],
      "source": [
        "model_HDF5_format = tf.keras.models.load_model('model_HDF5_format.h5')\n",
        "model_HDF5_format.summary()"
      ]
    },
    {
      "cell_type": "code",
      "execution_count": 48,
      "metadata": {
        "colab": {
          "base_uri": "https://localhost:8080/"
        },
        "id": "wDl2O3_rPUA-",
        "outputId": "6db2adcc-ef29-4eb5-fa19-7ecfa8cad42e"
      },
      "outputs": [
        {
          "name": "stdout",
          "output_type": "stream",
          "text": [
            "WARNING:tensorflow:6 out of the last 7 calls to <function Model.make_predict_function.<locals>.predict_function at 0x7f0e74edb680> triggered tf.function retracing. Tracing is expensive and the excessive number of tracings could be due to (1) creating @tf.function repeatedly in a loop, (2) passing tensors with different shapes, (3) passing Python objects instead of tensors. For (1), please define your @tf.function outside of the loop. For (2), @tf.function has experimental_relax_shapes=True option that relaxes argument shapes that can avoid unnecessary retracing. For (3), please refer to https://www.tensorflow.org/guide/function#controlling_retracing and https://www.tensorflow.org/api_docs/python/tf/function for  more details.\n"
          ]
        },
        {
          "name": "stderr",
          "output_type": "stream",
          "text": [
            "WARNING:tensorflow:6 out of the last 7 calls to <function Model.make_predict_function.<locals>.predict_function at 0x7f0e74edb680> triggered tf.function retracing. Tracing is expensive and the excessive number of tracings could be due to (1) creating @tf.function repeatedly in a loop, (2) passing tensors with different shapes, (3) passing Python objects instead of tensors. For (1), please define your @tf.function outside of the loop. For (2), @tf.function has experimental_relax_shapes=True option that relaxes argument shapes that can avoid unnecessary retracing. For (3), please refer to https://www.tensorflow.org/guide/function#controlling_retracing and https://www.tensorflow.org/api_docs/python/tf/function for  more details.\n"
          ]
        },
        {
          "data": {
            "text/plain": [
              "(array([[ True],\n",
              "        [ True],\n",
              "        [ True],\n",
              "        [ True],\n",
              "        [ True],\n",
              "        [ True],\n",
              "        [ True],\n",
              "        [ True],\n",
              "        [ True],\n",
              "        [ True]]), array([[ True],\n",
              "        [ True],\n",
              "        [ True],\n",
              "        [ True],\n",
              "        [ True],\n",
              "        [ True],\n",
              "        [ True],\n",
              "        [ True],\n",
              "        [ True],\n",
              "        [ True]]))"
            ]
          },
          "execution_count": 48,
          "metadata": {},
          "output_type": "execute_result"
        }
      ],
      "source": [
        "model_pred = model.predict(X_test)\n",
        "as_default_type_pred = as_default_type.predict(X_test)\n",
        "model_HDF5_format_pred = model_HDF5_format.predict(X_test)\n",
        "model_pred == as_default_type_pred, model_pred == model_HDF5_format_pred"
      ]
    },
    {
      "cell_type": "code",
      "execution_count": 49,
      "metadata": {
        "id": "NXJjzuDMR3lD"
      },
      "outputs": [],
      "source": [
        "# Downloading a file from google colab\n",
        "# from google.colab import files\n",
        "# files.download('/content/model_HDF5_format.h5')"
      ]
    },
    {
      "cell_type": "code",
      "execution_count": 50,
      "metadata": {
        "id": "pJKeB_ElTimz"
      },
      "outputs": [],
      "source": [
        "# Save a file from google colab to google drive\n",
        "# !cp from/file/present/path to/drive/path"
      ]
    },
    {
      "cell_type": "markdown",
      "metadata": {
        "id": "TGbkSiVJUvUf"
      },
      "source": [
        "# A Large Example"
      ]
    },
    {
      "cell_type": "code",
      "execution_count": 51,
      "metadata": {
        "id": "fpSxXX3EUgYF"
      },
      "outputs": [],
      "source": [
        "import numpy as np\n",
        "import pandas as pd\n",
        "import tensorflow as tf\n",
        "import matplotlib.pyplot as plt"
      ]
    },
    {
      "cell_type": "code",
      "execution_count": 57,
      "metadata": {
        "colab": {
          "base_uri": "https://localhost:8080/",
          "height": 206
        },
        "id": "PdDTNoMhepKb",
        "outputId": "b2b1baf5-dc4b-4c83-af62-82efe72a0cf4"
      },
      "outputs": [
        {
          "data": {
            "text/html": [
              "\n",
              "  <div id=\"df-4eb968b1-9538-4768-8efe-6c7780580275\">\n",
              "    <div class=\"colab-df-container\">\n",
              "      <div>\n",
              "<style scoped>\n",
              "    .dataframe tbody tr th:only-of-type {\n",
              "        vertical-align: middle;\n",
              "    }\n",
              "\n",
              "    .dataframe tbody tr th {\n",
              "        vertical-align: top;\n",
              "    }\n",
              "\n",
              "    .dataframe thead th {\n",
              "        text-align: right;\n",
              "    }\n",
              "</style>\n",
              "<table border=\"1\" class=\"dataframe\">\n",
              "  <thead>\n",
              "    <tr style=\"text-align: right;\">\n",
              "      <th></th>\n",
              "      <th>age</th>\n",
              "      <th>sex</th>\n",
              "      <th>bmi</th>\n",
              "      <th>children</th>\n",
              "      <th>smoker</th>\n",
              "      <th>region</th>\n",
              "      <th>charges</th>\n",
              "    </tr>\n",
              "  </thead>\n",
              "  <tbody>\n",
              "    <tr>\n",
              "      <th>0</th>\n",
              "      <td>19</td>\n",
              "      <td>female</td>\n",
              "      <td>27.900</td>\n",
              "      <td>0</td>\n",
              "      <td>yes</td>\n",
              "      <td>southwest</td>\n",
              "      <td>16884.92400</td>\n",
              "    </tr>\n",
              "    <tr>\n",
              "      <th>1</th>\n",
              "      <td>18</td>\n",
              "      <td>male</td>\n",
              "      <td>33.770</td>\n",
              "      <td>1</td>\n",
              "      <td>no</td>\n",
              "      <td>southeast</td>\n",
              "      <td>1725.55230</td>\n",
              "    </tr>\n",
              "    <tr>\n",
              "      <th>2</th>\n",
              "      <td>28</td>\n",
              "      <td>male</td>\n",
              "      <td>33.000</td>\n",
              "      <td>3</td>\n",
              "      <td>no</td>\n",
              "      <td>southeast</td>\n",
              "      <td>4449.46200</td>\n",
              "    </tr>\n",
              "    <tr>\n",
              "      <th>3</th>\n",
              "      <td>33</td>\n",
              "      <td>male</td>\n",
              "      <td>22.705</td>\n",
              "      <td>0</td>\n",
              "      <td>no</td>\n",
              "      <td>northwest</td>\n",
              "      <td>21984.47061</td>\n",
              "    </tr>\n",
              "    <tr>\n",
              "      <th>4</th>\n",
              "      <td>32</td>\n",
              "      <td>male</td>\n",
              "      <td>28.880</td>\n",
              "      <td>0</td>\n",
              "      <td>no</td>\n",
              "      <td>northwest</td>\n",
              "      <td>3866.85520</td>\n",
              "    </tr>\n",
              "  </tbody>\n",
              "</table>\n",
              "</div>\n",
              "      <button class=\"colab-df-convert\" onclick=\"convertToInteractive('df-4eb968b1-9538-4768-8efe-6c7780580275')\"\n",
              "              title=\"Convert this dataframe to an interactive table.\"\n",
              "              style=\"display:none;\">\n",
              "        \n",
              "  <svg xmlns=\"http://www.w3.org/2000/svg\" height=\"24px\"viewBox=\"0 0 24 24\"\n",
              "       width=\"24px\">\n",
              "    <path d=\"M0 0h24v24H0V0z\" fill=\"none\"/>\n",
              "    <path d=\"M18.56 5.44l.94 2.06.94-2.06 2.06-.94-2.06-.94-.94-2.06-.94 2.06-2.06.94zm-11 1L8.5 8.5l.94-2.06 2.06-.94-2.06-.94L8.5 2.5l-.94 2.06-2.06.94zm10 10l.94 2.06.94-2.06 2.06-.94-2.06-.94-.94-2.06-.94 2.06-2.06.94z\"/><path d=\"M17.41 7.96l-1.37-1.37c-.4-.4-.92-.59-1.43-.59-.52 0-1.04.2-1.43.59L10.3 9.45l-7.72 7.72c-.78.78-.78 2.05 0 2.83L4 21.41c.39.39.9.59 1.41.59.51 0 1.02-.2 1.41-.59l7.78-7.78 2.81-2.81c.8-.78.8-2.07 0-2.86zM5.41 20L4 18.59l7.72-7.72 1.47 1.35L5.41 20z\"/>\n",
              "  </svg>\n",
              "      </button>\n",
              "      \n",
              "  <style>\n",
              "    .colab-df-container {\n",
              "      display:flex;\n",
              "      flex-wrap:wrap;\n",
              "      gap: 12px;\n",
              "    }\n",
              "\n",
              "    .colab-df-convert {\n",
              "      background-color: #E8F0FE;\n",
              "      border: none;\n",
              "      border-radius: 50%;\n",
              "      cursor: pointer;\n",
              "      display: none;\n",
              "      fill: #1967D2;\n",
              "      height: 32px;\n",
              "      padding: 0 0 0 0;\n",
              "      width: 32px;\n",
              "    }\n",
              "\n",
              "    .colab-df-convert:hover {\n",
              "      background-color: #E2EBFA;\n",
              "      box-shadow: 0px 1px 2px rgba(60, 64, 67, 0.3), 0px 1px 3px 1px rgba(60, 64, 67, 0.15);\n",
              "      fill: #174EA6;\n",
              "    }\n",
              "\n",
              "    [theme=dark] .colab-df-convert {\n",
              "      background-color: #3B4455;\n",
              "      fill: #D2E3FC;\n",
              "    }\n",
              "\n",
              "    [theme=dark] .colab-df-convert:hover {\n",
              "      background-color: #434B5C;\n",
              "      box-shadow: 0px 1px 3px 1px rgba(0, 0, 0, 0.15);\n",
              "      filter: drop-shadow(0px 1px 2px rgba(0, 0, 0, 0.3));\n",
              "      fill: #FFFFFF;\n",
              "    }\n",
              "  </style>\n",
              "\n",
              "      <script>\n",
              "        const buttonEl =\n",
              "          document.querySelector('#df-4eb968b1-9538-4768-8efe-6c7780580275 button.colab-df-convert');\n",
              "        buttonEl.style.display =\n",
              "          google.colab.kernel.accessAllowed ? 'block' : 'none';\n",
              "\n",
              "        async function convertToInteractive(key) {\n",
              "          const element = document.querySelector('#df-4eb968b1-9538-4768-8efe-6c7780580275');\n",
              "          const dataTable =\n",
              "            await google.colab.kernel.invokeFunction('convertToInteractive',\n",
              "                                                     [key], {});\n",
              "          if (!dataTable) return;\n",
              "\n",
              "          const docLinkHtml = 'Like what you see? Visit the ' +\n",
              "            '<a target=\"_blank\" href=https://colab.research.google.com/notebooks/data_table.ipynb>data table notebook</a>'\n",
              "            + ' to learn more about interactive tables.';\n",
              "          element.innerHTML = '';\n",
              "          dataTable['output_type'] = 'display_data';\n",
              "          await google.colab.output.renderOutput(dataTable, element);\n",
              "          const docLink = document.createElement('div');\n",
              "          docLink.innerHTML = docLinkHtml;\n",
              "          element.appendChild(docLink);\n",
              "        }\n",
              "      </script>\n",
              "    </div>\n",
              "  </div>\n",
              "  "
            ],
            "text/plain": [
              "   age     sex     bmi  children smoker     region      charges\n",
              "0   19  female  27.900         0    yes  southwest  16884.92400\n",
              "1   18    male  33.770         1     no  southeast   1725.55230\n",
              "2   28    male  33.000         3     no  southeast   4449.46200\n",
              "3   33    male  22.705         0     no  northwest  21984.47061\n",
              "4   32    male  28.880         0     no  northwest   3866.85520"
            ]
          },
          "execution_count": 57,
          "metadata": {},
          "output_type": "execute_result"
        }
      ],
      "source": [
        "insurance = pd.read_csv('https://raw.githubusercontent.com/stedy/Machine-Learning-with-R-datasets/master/insurance.csv')\n",
        "insurance.head()"
      ]
    },
    {
      "cell_type": "code",
      "execution_count": 58,
      "metadata": {
        "colab": {
          "base_uri": "https://localhost:8080/",
          "height": 250
        },
        "id": "4DzNcr-Ce0rX",
        "outputId": "e6a76270-2889-41e2-8ef8-5f2b18af16a6"
      },
      "outputs": [
        {
          "data": {
            "text/html": [
              "\n",
              "  <div id=\"df-d1f2fe9b-6a45-42a8-bf0c-eb97aadc4e89\">\n",
              "    <div class=\"colab-df-container\">\n",
              "      <div>\n",
              "<style scoped>\n",
              "    .dataframe tbody tr th:only-of-type {\n",
              "        vertical-align: middle;\n",
              "    }\n",
              "\n",
              "    .dataframe tbody tr th {\n",
              "        vertical-align: top;\n",
              "    }\n",
              "\n",
              "    .dataframe thead th {\n",
              "        text-align: right;\n",
              "    }\n",
              "</style>\n",
              "<table border=\"1\" class=\"dataframe\">\n",
              "  <thead>\n",
              "    <tr style=\"text-align: right;\">\n",
              "      <th></th>\n",
              "      <th>age</th>\n",
              "      <th>bmi</th>\n",
              "      <th>children</th>\n",
              "      <th>charges</th>\n",
              "      <th>sex_female</th>\n",
              "      <th>sex_male</th>\n",
              "      <th>smoker_no</th>\n",
              "      <th>smoker_yes</th>\n",
              "      <th>region_northeast</th>\n",
              "      <th>region_northwest</th>\n",
              "      <th>region_southeast</th>\n",
              "      <th>region_southwest</th>\n",
              "    </tr>\n",
              "  </thead>\n",
              "  <tbody>\n",
              "    <tr>\n",
              "      <th>0</th>\n",
              "      <td>19</td>\n",
              "      <td>27.900</td>\n",
              "      <td>0</td>\n",
              "      <td>16884.92400</td>\n",
              "      <td>1</td>\n",
              "      <td>0</td>\n",
              "      <td>0</td>\n",
              "      <td>1</td>\n",
              "      <td>0</td>\n",
              "      <td>0</td>\n",
              "      <td>0</td>\n",
              "      <td>1</td>\n",
              "    </tr>\n",
              "    <tr>\n",
              "      <th>1</th>\n",
              "      <td>18</td>\n",
              "      <td>33.770</td>\n",
              "      <td>1</td>\n",
              "      <td>1725.55230</td>\n",
              "      <td>0</td>\n",
              "      <td>1</td>\n",
              "      <td>1</td>\n",
              "      <td>0</td>\n",
              "      <td>0</td>\n",
              "      <td>0</td>\n",
              "      <td>1</td>\n",
              "      <td>0</td>\n",
              "    </tr>\n",
              "    <tr>\n",
              "      <th>2</th>\n",
              "      <td>28</td>\n",
              "      <td>33.000</td>\n",
              "      <td>3</td>\n",
              "      <td>4449.46200</td>\n",
              "      <td>0</td>\n",
              "      <td>1</td>\n",
              "      <td>1</td>\n",
              "      <td>0</td>\n",
              "      <td>0</td>\n",
              "      <td>0</td>\n",
              "      <td>1</td>\n",
              "      <td>0</td>\n",
              "    </tr>\n",
              "    <tr>\n",
              "      <th>3</th>\n",
              "      <td>33</td>\n",
              "      <td>22.705</td>\n",
              "      <td>0</td>\n",
              "      <td>21984.47061</td>\n",
              "      <td>0</td>\n",
              "      <td>1</td>\n",
              "      <td>1</td>\n",
              "      <td>0</td>\n",
              "      <td>0</td>\n",
              "      <td>1</td>\n",
              "      <td>0</td>\n",
              "      <td>0</td>\n",
              "    </tr>\n",
              "    <tr>\n",
              "      <th>4</th>\n",
              "      <td>32</td>\n",
              "      <td>28.880</td>\n",
              "      <td>0</td>\n",
              "      <td>3866.85520</td>\n",
              "      <td>0</td>\n",
              "      <td>1</td>\n",
              "      <td>1</td>\n",
              "      <td>0</td>\n",
              "      <td>0</td>\n",
              "      <td>1</td>\n",
              "      <td>0</td>\n",
              "      <td>0</td>\n",
              "    </tr>\n",
              "  </tbody>\n",
              "</table>\n",
              "</div>\n",
              "      <button class=\"colab-df-convert\" onclick=\"convertToInteractive('df-d1f2fe9b-6a45-42a8-bf0c-eb97aadc4e89')\"\n",
              "              title=\"Convert this dataframe to an interactive table.\"\n",
              "              style=\"display:none;\">\n",
              "        \n",
              "  <svg xmlns=\"http://www.w3.org/2000/svg\" height=\"24px\"viewBox=\"0 0 24 24\"\n",
              "       width=\"24px\">\n",
              "    <path d=\"M0 0h24v24H0V0z\" fill=\"none\"/>\n",
              "    <path d=\"M18.56 5.44l.94 2.06.94-2.06 2.06-.94-2.06-.94-.94-2.06-.94 2.06-2.06.94zm-11 1L8.5 8.5l.94-2.06 2.06-.94-2.06-.94L8.5 2.5l-.94 2.06-2.06.94zm10 10l.94 2.06.94-2.06 2.06-.94-2.06-.94-.94-2.06-.94 2.06-2.06.94z\"/><path d=\"M17.41 7.96l-1.37-1.37c-.4-.4-.92-.59-1.43-.59-.52 0-1.04.2-1.43.59L10.3 9.45l-7.72 7.72c-.78.78-.78 2.05 0 2.83L4 21.41c.39.39.9.59 1.41.59.51 0 1.02-.2 1.41-.59l7.78-7.78 2.81-2.81c.8-.78.8-2.07 0-2.86zM5.41 20L4 18.59l7.72-7.72 1.47 1.35L5.41 20z\"/>\n",
              "  </svg>\n",
              "      </button>\n",
              "      \n",
              "  <style>\n",
              "    .colab-df-container {\n",
              "      display:flex;\n",
              "      flex-wrap:wrap;\n",
              "      gap: 12px;\n",
              "    }\n",
              "\n",
              "    .colab-df-convert {\n",
              "      background-color: #E8F0FE;\n",
              "      border: none;\n",
              "      border-radius: 50%;\n",
              "      cursor: pointer;\n",
              "      display: none;\n",
              "      fill: #1967D2;\n",
              "      height: 32px;\n",
              "      padding: 0 0 0 0;\n",
              "      width: 32px;\n",
              "    }\n",
              "\n",
              "    .colab-df-convert:hover {\n",
              "      background-color: #E2EBFA;\n",
              "      box-shadow: 0px 1px 2px rgba(60, 64, 67, 0.3), 0px 1px 3px 1px rgba(60, 64, 67, 0.15);\n",
              "      fill: #174EA6;\n",
              "    }\n",
              "\n",
              "    [theme=dark] .colab-df-convert {\n",
              "      background-color: #3B4455;\n",
              "      fill: #D2E3FC;\n",
              "    }\n",
              "\n",
              "    [theme=dark] .colab-df-convert:hover {\n",
              "      background-color: #434B5C;\n",
              "      box-shadow: 0px 1px 3px 1px rgba(0, 0, 0, 0.15);\n",
              "      filter: drop-shadow(0px 1px 2px rgba(0, 0, 0, 0.3));\n",
              "      fill: #FFFFFF;\n",
              "    }\n",
              "  </style>\n",
              "\n",
              "      <script>\n",
              "        const buttonEl =\n",
              "          document.querySelector('#df-d1f2fe9b-6a45-42a8-bf0c-eb97aadc4e89 button.colab-df-convert');\n",
              "        buttonEl.style.display =\n",
              "          google.colab.kernel.accessAllowed ? 'block' : 'none';\n",
              "\n",
              "        async function convertToInteractive(key) {\n",
              "          const element = document.querySelector('#df-d1f2fe9b-6a45-42a8-bf0c-eb97aadc4e89');\n",
              "          const dataTable =\n",
              "            await google.colab.kernel.invokeFunction('convertToInteractive',\n",
              "                                                     [key], {});\n",
              "          if (!dataTable) return;\n",
              "\n",
              "          const docLinkHtml = 'Like what you see? Visit the ' +\n",
              "            '<a target=\"_blank\" href=https://colab.research.google.com/notebooks/data_table.ipynb>data table notebook</a>'\n",
              "            + ' to learn more about interactive tables.';\n",
              "          element.innerHTML = '';\n",
              "          dataTable['output_type'] = 'display_data';\n",
              "          await google.colab.output.renderOutput(dataTable, element);\n",
              "          const docLink = document.createElement('div');\n",
              "          docLink.innerHTML = docLinkHtml;\n",
              "          element.appendChild(docLink);\n",
              "        }\n",
              "      </script>\n",
              "    </div>\n",
              "  </div>\n",
              "  "
            ],
            "text/plain": [
              "   age     bmi  children      charges  sex_female  sex_male  smoker_no  \\\n",
              "0   19  27.900         0  16884.92400           1         0          0   \n",
              "1   18  33.770         1   1725.55230           0         1          1   \n",
              "2   28  33.000         3   4449.46200           0         1          1   \n",
              "3   33  22.705         0  21984.47061           0         1          1   \n",
              "4   32  28.880         0   3866.85520           0         1          1   \n",
              "\n",
              "   smoker_yes  region_northeast  region_northwest  region_southeast  \\\n",
              "0           1                 0                 0                 0   \n",
              "1           0                 0                 0                 1   \n",
              "2           0                 0                 0                 1   \n",
              "3           0                 0                 1                 0   \n",
              "4           0                 0                 1                 0   \n",
              "\n",
              "   region_southwest  \n",
              "0                 1  \n",
              "1                 0  \n",
              "2                 0  \n",
              "3                 0  \n",
              "4                 0  "
            ]
          },
          "execution_count": 58,
          "metadata": {},
          "output_type": "execute_result"
        }
      ],
      "source": [
        "# For onehot encoding\n",
        "insurance_one_hot = pd.get_dummies(insurance)\n",
        "insurance_one_hot.head()"
      ]
    },
    {
      "cell_type": "code",
      "execution_count": 75,
      "metadata": {
        "id": "iKX_ACXUmNKv"
      },
      "outputs": [],
      "source": [
        "# Create X and Y values (features and label)\n",
        "X = insurance_one_hot.drop('charges', axis=1)\n",
        "y = insurance_one_hot['charges']"
      ]
    },
    {
      "cell_type": "code",
      "execution_count": 79,
      "metadata": {
        "id": "oruCDIEle7x0"
      },
      "outputs": [],
      "source": [
        "# Split the data\n",
        "from sklearn.model_selection import train_test_split\n",
        "X_train, X_test, y_train, y_test = train_test_split(X, y, test_size=0.2, random_state=42)"
      ]
    },
    {
      "cell_type": "code",
      "execution_count": 144,
      "metadata": {
        "colab": {
          "base_uri": "https://localhost:8080/"
        },
        "id": "Pc-iTMXEnXFI",
        "outputId": "30d6df9f-7fc2-457c-b998-623fb5bd3674"
      },
      "outputs": [
        {
          "name": "stdout",
          "output_type": "stream",
          "text": [
            "Epoch 1/60\n",
            "34/34 [==============================] - 1s 7ms/step - loss: 12816.3330 - mse: 307646176.0000\n",
            "Epoch 2/60\n",
            "34/34 [==============================] - 0s 7ms/step - loss: 8797.4238 - mse: 194962624.0000\n",
            "Epoch 3/60\n",
            "34/34 [==============================] - 0s 7ms/step - loss: 7482.1543 - mse: 154182368.0000\n",
            "Epoch 4/60\n",
            "34/34 [==============================] - 0s 7ms/step - loss: 7303.7705 - mse: 154232736.0000\n",
            "Epoch 5/60\n",
            "34/34 [==============================] - 0s 7ms/step - loss: 7205.8774 - mse: 151217936.0000\n",
            "Epoch 6/60\n",
            "34/34 [==============================] - 0s 7ms/step - loss: 7092.2412 - mse: 154556512.0000\n",
            "Epoch 7/60\n",
            "34/34 [==============================] - 0s 7ms/step - loss: 6970.3857 - mse: 154610032.0000\n",
            "Epoch 8/60\n",
            "34/34 [==============================] - 0s 6ms/step - loss: 6819.3428 - mse: 154829504.0000\n",
            "Epoch 9/60\n",
            "34/34 [==============================] - 0s 7ms/step - loss: 6648.7095 - mse: 155460928.0000\n",
            "Epoch 10/60\n",
            "34/34 [==============================] - 0s 8ms/step - loss: 6510.0083 - mse: 155973680.0000\n",
            "Epoch 11/60\n",
            "34/34 [==============================] - 0s 8ms/step - loss: 6459.5635 - mse: 153229360.0000\n",
            "Epoch 12/60\n",
            "34/34 [==============================] - 0s 8ms/step - loss: 6383.2163 - mse: 151281536.0000\n",
            "Epoch 13/60\n",
            "34/34 [==============================] - 0s 7ms/step - loss: 6280.4995 - mse: 149505552.0000\n",
            "Epoch 14/60\n",
            "34/34 [==============================] - 0s 7ms/step - loss: 6205.2051 - mse: 146651120.0000\n",
            "Epoch 15/60\n",
            "34/34 [==============================] - 0s 8ms/step - loss: 6124.9004 - mse: 142375888.0000\n",
            "Epoch 16/60\n",
            "34/34 [==============================] - 0s 7ms/step - loss: 5997.9741 - mse: 138871072.0000\n",
            "Epoch 17/60\n",
            "34/34 [==============================] - 0s 10ms/step - loss: 5874.3877 - mse: 133623648.0000\n",
            "Epoch 18/60\n",
            "34/34 [==============================] - 0s 12ms/step - loss: 5722.0703 - mse: 127569784.0000\n",
            "Epoch 19/60\n",
            "34/34 [==============================] - 0s 8ms/step - loss: 5523.5181 - mse: 119696056.0000\n",
            "Epoch 20/60\n",
            "34/34 [==============================] - 0s 4ms/step - loss: 5282.8433 - mse: 110403904.0000\n",
            "Epoch 21/60\n",
            "34/34 [==============================] - 0s 4ms/step - loss: 4951.7534 - mse: 98768512.0000\n",
            "Epoch 22/60\n",
            "34/34 [==============================] - 0s 4ms/step - loss: 4538.1260 - mse: 84814352.0000\n",
            "Epoch 23/60\n",
            "34/34 [==============================] - 0s 4ms/step - loss: 4175.0903 - mse: 70633016.0000\n",
            "Epoch 24/60\n",
            "34/34 [==============================] - 0s 4ms/step - loss: 3913.9226 - mse: 61107020.0000\n",
            "Epoch 25/60\n",
            "34/34 [==============================] - 0s 4ms/step - loss: 3848.1135 - mse: 56865184.0000\n",
            "Epoch 26/60\n",
            "34/34 [==============================] - 0s 4ms/step - loss: 3815.3833 - mse: 55965872.0000\n",
            "Epoch 27/60\n",
            "34/34 [==============================] - 0s 4ms/step - loss: 3857.2664 - mse: 55221168.0000\n",
            "Epoch 28/60\n",
            "34/34 [==============================] - 0s 4ms/step - loss: 3906.3423 - mse: 54194644.0000\n",
            "Epoch 29/60\n",
            "34/34 [==============================] - 0s 4ms/step - loss: 3778.6638 - mse: 54603868.0000\n",
            "Epoch 30/60\n",
            "34/34 [==============================] - 0s 4ms/step - loss: 3768.2273 - mse: 54234696.0000\n",
            "Epoch 31/60\n",
            "34/34 [==============================] - 0s 4ms/step - loss: 3757.0596 - mse: 53276860.0000\n",
            "Epoch 32/60\n",
            "34/34 [==============================] - 0s 4ms/step - loss: 3781.1606 - mse: 52758428.0000\n",
            "Epoch 33/60\n",
            "34/34 [==============================] - 0s 4ms/step - loss: 3747.1880 - mse: 52437268.0000\n",
            "Epoch 34/60\n",
            "34/34 [==============================] - 0s 4ms/step - loss: 3785.5454 - mse: 52106972.0000\n",
            "Epoch 35/60\n",
            "34/34 [==============================] - 0s 4ms/step - loss: 3718.8313 - mse: 51302556.0000\n",
            "Epoch 36/60\n",
            "34/34 [==============================] - 0s 4ms/step - loss: 3712.7637 - mse: 50659452.0000\n",
            "Epoch 37/60\n",
            "34/34 [==============================] - 0s 4ms/step - loss: 3707.2341 - mse: 49858948.0000\n",
            "Epoch 38/60\n",
            "34/34 [==============================] - 0s 4ms/step - loss: 3720.1882 - mse: 49337700.0000\n",
            "Epoch 39/60\n",
            "34/34 [==============================] - 0s 4ms/step - loss: 3734.1816 - mse: 47731892.0000\n",
            "Epoch 40/60\n",
            "34/34 [==============================] - 0s 4ms/step - loss: 3694.3000 - mse: 47359020.0000\n",
            "Epoch 41/60\n",
            "34/34 [==============================] - 0s 4ms/step - loss: 3767.8777 - mse: 47185708.0000\n",
            "Epoch 42/60\n",
            "34/34 [==============================] - 0s 4ms/step - loss: 3742.8613 - mse: 46700848.0000\n",
            "Epoch 43/60\n",
            "34/34 [==============================] - 0s 4ms/step - loss: 3703.7004 - mse: 46141924.0000\n",
            "Epoch 44/60\n",
            "34/34 [==============================] - 0s 4ms/step - loss: 3696.8674 - mse: 45415308.0000\n",
            "Epoch 45/60\n",
            "34/34 [==============================] - 0s 4ms/step - loss: 3705.9617 - mse: 45111972.0000\n",
            "Epoch 46/60\n",
            "34/34 [==============================] - 0s 4ms/step - loss: 3677.1509 - mse: 44588800.0000\n",
            "Epoch 47/60\n",
            "34/34 [==============================] - 0s 4ms/step - loss: 3690.9775 - mse: 43617552.0000\n",
            "Epoch 48/60\n",
            "34/34 [==============================] - 0s 4ms/step - loss: 3645.2825 - mse: 43604024.0000\n",
            "Epoch 49/60\n",
            "34/34 [==============================] - 0s 4ms/step - loss: 3638.8010 - mse: 43325884.0000\n",
            "Epoch 50/60\n",
            "34/34 [==============================] - 0s 4ms/step - loss: 3653.4167 - mse: 42801060.0000\n",
            "Epoch 51/60\n",
            "34/34 [==============================] - 0s 4ms/step - loss: 3630.6753 - mse: 41880988.0000\n",
            "Epoch 52/60\n",
            "34/34 [==============================] - 0s 4ms/step - loss: 3600.2607 - mse: 41703796.0000\n",
            "Epoch 53/60\n",
            "34/34 [==============================] - 0s 4ms/step - loss: 3614.5454 - mse: 41438048.0000\n",
            "Epoch 54/60\n",
            "34/34 [==============================] - 0s 4ms/step - loss: 3623.9719 - mse: 41451320.0000\n",
            "Epoch 55/60\n",
            "34/34 [==============================] - 0s 4ms/step - loss: 3637.6504 - mse: 41431708.0000\n",
            "Epoch 56/60\n",
            "34/34 [==============================] - 0s 4ms/step - loss: 3575.1201 - mse: 41416624.0000\n",
            "Epoch 57/60\n",
            "34/34 [==============================] - 0s 4ms/step - loss: 3570.9788 - mse: 41544380.0000\n",
            "Epoch 58/60\n",
            "34/34 [==============================] - 0s 4ms/step - loss: 3587.0952 - mse: 41830840.0000\n",
            "Epoch 59/60\n",
            "34/34 [==============================] - 0s 4ms/step - loss: 3562.6431 - mse: 42320156.0000\n",
            "Epoch 60/60\n",
            "34/34 [==============================] - 0s 4ms/step - loss: 3577.3052 - mse: 42335076.0000\n"
          ]
        }
      ],
      "source": [
        "# Build a neural Network\n",
        "\n",
        "# I don't know which seed to impliment tenser or numpy\n",
        "# tf.random.set_seed(42)\n",
        "# np.random.seed(42)\n",
        "\n",
        "model = tf.keras.Sequential([\n",
        "                tf.keras.layers.Dense(20),\n",
        "                tf.keras.layers.Dense(10),\n",
        "                tf.keras.layers.Dense(1)\n",
        "])\n",
        "\n",
        "model.compile(loss=tf.keras.losses.mae,\n",
        "              optimizer=tf.keras.optimizers.Adam(learning_rate=0.01),\n",
        "              metrics=['mse'])\n",
        "\n",
        "history = model.fit(X_train, y_train, epochs=60)"
      ]
    },
    {
      "cell_type": "code",
      "execution_count": 145,
      "metadata": {
        "colab": {
          "base_uri": "https://localhost:8080/"
        },
        "id": "W8aoVG9onzyc",
        "outputId": "beaf9876-6dee-496a-bff3-0eef118f60e0"
      },
      "outputs": [
        {
          "name": "stdout",
          "output_type": "stream",
          "text": [
            "9/9 [==============================] - 0s 4ms/step - loss: 3275.4097 - mse: 36963192.0000\n"
          ]
        },
        {
          "data": {
            "text/plain": [
              "[3275.40966796875, 36963192.0]"
            ]
          },
          "execution_count": 145,
          "metadata": {},
          "output_type": "execute_result"
        }
      ],
      "source": [
        "model.evaluate(X_test, y_test)"
      ]
    },
    {
      "cell_type": "code",
      "execution_count": 146,
      "metadata": {
        "id": "S13uLhhdo8i6"
      },
      "outputs": [],
      "source": [
        "# model.predict(X_test)"
      ]
    },
    {
      "cell_type": "code",
      "execution_count": 147,
      "metadata": {
        "colab": {
          "base_uri": "https://localhost:8080/",
          "height": 290
        },
        "id": "OAkkti2bq5-G",
        "outputId": "63799505-7dfc-4059-c206-b1610c9ab738"
      },
      "outputs": [
        {
          "data": {
            "image/png": "[encoded data removed]",
            "text/plain": [
              "<Figure size 432x288 with 1 Axes>"
            ]
          },
          "metadata": {
            "needs_background": "light"
          },
          "output_type": "display_data"
        }
      ],
      "source": [
        "# Plot histroy (Also known as loss curve or traning curve)\n",
        "# Check Early Stop callback in tenserflow\n",
        "\n",
        "pd.DataFrame(history.history).plot()\n",
        "plt.ylabel('loss')\n",
        "plt.xlabel('epochs');"
      ]
    },
    {
      "cell_type": "markdown",
      "metadata": {
        "id": "WQNwLBO22I3s"
      },
      "source": [
        "# Preprocessing data (Normalization and standardization)"
      ]
    },
    {
      "cell_type": "code",
      "execution_count": 148,
      "metadata": {
        "id": "qnfu4yqry_pO"
      },
      "outputs": [],
      "source": [
        "# Feature Scaling\n",
        "# Scale or Normalisation --> convert into 0 to 1 --> minmaxscaler --> use as default scaler in NN\n",
        "# Standardization --> Removes the mean and divides each value by std --> StandardScaler --> Transform a feature to have close to normal distribution(this reduce\n",
        "# the effect of outliers)\n"
      ]
    },
    {
      "cell_type": "code",
      "execution_count": 162,
      "metadata": {
        "colab": {
          "base_uri": "https://localhost:8080/",
          "height": 206
        },
        "id": "mJ6iYQMrEeqz",
        "outputId": "936170d0-cc54-4584-adc4-df11f34a0d7f"
      },
      "outputs": [
        {
          "data": {
            "text/html": [
              "\n",
              "  <div id=\"df-1826a46d-2c0b-44f4-9007-a3cc5139f58b\">\n",
              "    <div class=\"colab-df-container\">\n",
              "      <div>\n",
              "<style scoped>\n",
              "    .dataframe tbody tr th:only-of-type {\n",
              "        vertical-align: middle;\n",
              "    }\n",
              "\n",
              "    .dataframe tbody tr th {\n",
              "        vertical-align: top;\n",
              "    }\n",
              "\n",
              "    .dataframe thead th {\n",
              "        text-align: right;\n",
              "    }\n",
              "</style>\n",
              "<table border=\"1\" class=\"dataframe\">\n",
              "  <thead>\n",
              "    <tr style=\"text-align: right;\">\n",
              "      <th></th>\n",
              "      <th>age</th>\n",
              "      <th>sex</th>\n",
              "      <th>bmi</th>\n",
              "      <th>children</th>\n",
              "      <th>smoker</th>\n",
              "      <th>region</th>\n",
              "      <th>charges</th>\n",
              "    </tr>\n",
              "  </thead>\n",
              "  <tbody>\n",
              "    <tr>\n",
              "      <th>0</th>\n",
              "      <td>19</td>\n",
              "      <td>female</td>\n",
              "      <td>27.900</td>\n",
              "      <td>0</td>\n",
              "      <td>yes</td>\n",
              "      <td>southwest</td>\n",
              "      <td>16884.92400</td>\n",
              "    </tr>\n",
              "    <tr>\n",
              "      <th>1</th>\n",
              "      <td>18</td>\n",
              "      <td>male</td>\n",
              "      <td>33.770</td>\n",
              "      <td>1</td>\n",
              "      <td>no</td>\n",
              "      <td>southeast</td>\n",
              "      <td>1725.55230</td>\n",
              "    </tr>\n",
              "    <tr>\n",
              "      <th>2</th>\n",
              "      <td>28</td>\n",
              "      <td>male</td>\n",
              "      <td>33.000</td>\n",
              "      <td>3</td>\n",
              "      <td>no</td>\n",
              "      <td>southeast</td>\n",
              "      <td>4449.46200</td>\n",
              "    </tr>\n",
              "    <tr>\n",
              "      <th>3</th>\n",
              "      <td>33</td>\n",
              "      <td>male</td>\n",
              "      <td>22.705</td>\n",
              "      <td>0</td>\n",
              "      <td>no</td>\n",
              "      <td>northwest</td>\n",
              "      <td>21984.47061</td>\n",
              "    </tr>\n",
              "    <tr>\n",
              "      <th>4</th>\n",
              "      <td>32</td>\n",
              "      <td>male</td>\n",
              "      <td>28.880</td>\n",
              "      <td>0</td>\n",
              "      <td>no</td>\n",
              "      <td>northwest</td>\n",
              "      <td>3866.85520</td>\n",
              "    </tr>\n",
              "  </tbody>\n",
              "</table>\n",
              "</div>\n",
              "      <button class=\"colab-df-convert\" onclick=\"convertToInteractive('df-1826a46d-2c0b-44f4-9007-a3cc5139f58b')\"\n",
              "              title=\"Convert this dataframe to an interactive table.\"\n",
              "              style=\"display:none;\">\n",
              "        \n",
              "  <svg xmlns=\"http://www.w3.org/2000/svg\" height=\"24px\"viewBox=\"0 0 24 24\"\n",
              "       width=\"24px\">\n",
              "    <path d=\"M0 0h24v24H0V0z\" fill=\"none\"/>\n",
              "    <path d=\"M18.56 5.44l.94 2.06.94-2.06 2.06-.94-2.06-.94-.94-2.06-.94 2.06-2.06.94zm-11 1L8.5 8.5l.94-2.06 2.06-.94-2.06-.94L8.5 2.5l-.94 2.06-2.06.94zm10 10l.94 2.06.94-2.06 2.06-.94-2.06-.94-.94-2.06-.94 2.06-2.06.94z\"/><path d=\"M17.41 7.96l-1.37-1.37c-.4-.4-.92-.59-1.43-.59-.52 0-1.04.2-1.43.59L10.3 9.45l-7.72 7.72c-.78.78-.78 2.05 0 2.83L4 21.41c.39.39.9.59 1.41.59.51 0 1.02-.2 1.41-.59l7.78-7.78 2.81-2.81c.8-.78.8-2.07 0-2.86zM5.41 20L4 18.59l7.72-7.72 1.47 1.35L5.41 20z\"/>\n",
              "  </svg>\n",
              "      </button>\n",
              "      \n",
              "  <style>\n",
              "    .colab-df-container {\n",
              "      display:flex;\n",
              "      flex-wrap:wrap;\n",
              "      gap: 12px;\n",
              "    }\n",
              "\n",
              "    .colab-df-convert {\n",
              "      background-color: #E8F0FE;\n",
              "      border: none;\n",
              "      border-radius: 50%;\n",
              "      cursor: pointer;\n",
              "      display: none;\n",
              "      fill: #1967D2;\n",
              "      height: 32px;\n",
              "      padding: 0 0 0 0;\n",
              "      width: 32px;\n",
              "    }\n",
              "\n",
              "    .colab-df-convert:hover {\n",
              "      background-color: #E2EBFA;\n",
              "      box-shadow: 0px 1px 2px rgba(60, 64, 67, 0.3), 0px 1px 3px 1px rgba(60, 64, 67, 0.15);\n",
              "      fill: #174EA6;\n",
              "    }\n",
              "\n",
              "    [theme=dark] .colab-df-convert {\n",
              "      background-color: #3B4455;\n",
              "      fill: #D2E3FC;\n",
              "    }\n",
              "\n",
              "    [theme=dark] .colab-df-convert:hover {\n",
              "      background-color: #434B5C;\n",
              "      box-shadow: 0px 1px 3px 1px rgba(0, 0, 0, 0.15);\n",
              "      filter: drop-shadow(0px 1px 2px rgba(0, 0, 0, 0.3));\n",
              "      fill: #FFFFFF;\n",
              "    }\n",
              "  </style>\n",
              "\n",
              "      <script>\n",
              "        const buttonEl =\n",
              "          document.querySelector('#df-1826a46d-2c0b-44f4-9007-a3cc5139f58b button.colab-df-convert');\n",
              "        buttonEl.style.display =\n",
              "          google.colab.kernel.accessAllowed ? 'block' : 'none';\n",
              "\n",
              "        async function convertToInteractive(key) {\n",
              "          const element = document.querySelector('#df-1826a46d-2c0b-44f4-9007-a3cc5139f58b');\n",
              "          const dataTable =\n",
              "            await google.colab.kernel.invokeFunction('convertToInteractive',\n",
              "                                                     [key], {});\n",
              "          if (!dataTable) return;\n",
              "\n",
              "          const docLinkHtml = 'Like what you see? Visit the ' +\n",
              "            '<a target=\"_blank\" href=https://colab.research.google.com/notebooks/data_table.ipynb>data table notebook</a>'\n",
              "            + ' to learn more about interactive tables.';\n",
              "          element.innerHTML = '';\n",
              "          dataTable['output_type'] = 'display_data';\n",
              "          await google.colab.output.renderOutput(dataTable, element);\n",
              "          const docLink = document.createElement('div');\n",
              "          docLink.innerHTML = docLinkHtml;\n",
              "          element.appendChild(docLink);\n",
              "        }\n",
              "      </script>\n",
              "    </div>\n",
              "  </div>\n",
              "  "
            ],
            "text/plain": [
              "   age     sex     bmi  children smoker     region      charges\n",
              "0   19  female  27.900         0    yes  southwest  16884.92400\n",
              "1   18    male  33.770         1     no  southeast   1725.55230\n",
              "2   28    male  33.000         3     no  southeast   4449.46200\n",
              "3   33    male  22.705         0     no  northwest  21984.47061\n",
              "4   32    male  28.880         0     no  northwest   3866.85520"
            ]
          },
          "execution_count": 162,
          "metadata": {},
          "output_type": "execute_result"
        }
      ],
      "source": [
        "import pandas as pd\n",
        "import numpy as np\n",
        "import matplotlib.pyplot as plt\n",
        "import tensorflow as tf\n",
        "\n",
        "insurance = pd.read_csv('https://raw.githubusercontent.com/stedy/Machine-Learning-with-R-datasets/master/insurance.csv')\n",
        "insurance.head()"
      ]
    },
    {
      "cell_type": "code",
      "execution_count": 163,
      "metadata": {
        "id": "4tVhWwkFNY5j"
      },
      "outputs": [],
      "source": [
        "# Don't forget that testing data points represent real-world data.\n",
        "# Feature normalization (or data standardization) of the explanatory (or predictor) variables is a technique used to center\n",
        "# and normalise the data by subtracting the mean and dividing by the variance. If you take the mean\n",
        "# and variance of the whole dataset you'll be introducing future information into the training explanatory variables (i.e. the mean and variance).\n",
        "\n",
        "# Therefore, you should perform feature normalisation over the training data.\n",
        "# Then perform normalisation on testing instances as well, but this time using the mean\n",
        "# and variance of training explanatory variables. In this way, we can test \n",
        "# and evaluate whether our model can generalize well to new, unseen data points\n",
        "# https://stackoverflow.com/questions/49444262/normalize-data-before-or-after-split-of-training-and-testing-data\n",
        "# https://towardsdatascience.com/feature-scaling-and-normalisation-in-a-nutshell-5319af86f89b\n",
        "# https://devskrol.com/2022/01/30/5-most-important-data-pre-processing-techniques-feature-scaling-part-iv/"
      ]
    },
    {
      "cell_type": "code",
      "execution_count": 164,
      "metadata": {
        "id": "EdnP6jYRErUW"
      },
      "outputs": [],
      "source": [
        "from sklearn.compose import make_column_transformer # https://stackoverflow.com/questions/65183489/what-is-the-difference-between-columntransformer-and-make-columntransformer#:~:text=There%20is%20no%20such%20major,a%20tuple%20without%20a%20name.\n",
        "from sklearn.preprocessing import OneHotEncoder, MinMaxScaler\n",
        "from sklearn.model_selection import train_test_split\n",
        "\n",
        "# Create a column transformer\n",
        "ct = make_column_transformer(\n",
        "    (MinMaxScaler(), ['age', 'bmi', 'children']),\n",
        "    (OneHotEncoder(handle_unknown='ignore'), ['sex', 'smoker', 'region'])\n",
        ")\n",
        "\n",
        "# Create X and y\n",
        "X = insurance.drop('charges', axis=1)\n",
        "y = insurance['charges']\n",
        "\n",
        "# split the data\n",
        "X_train, X_test, y_train, y_test = train_test_split(X, y, test_size=0.2, random_state=42)\n",
        "\n",
        "# Fit the columan transfemer\n",
        "# I didn't understand is it not wised toward traning set why we only pass X_train not X_test\n",
        "ct.fit(X_train)\n",
        "\n",
        "# Perform transformation\n",
        "X_train_normal = ct.transform(X_train)\n",
        "X_test_normal = ct.transform(X_test)"
      ]
    },
    {
      "cell_type": "code",
      "execution_count": 165,
      "metadata": {
        "colab": {
          "base_uri": "https://localhost:8080/"
        },
        "id": "ZD9vgcZJFZJr",
        "outputId": "efeb4b7f-8e12-4cd6-bc86-e975cff2854f"
      },
      "outputs": [
        {
          "data": {
            "text/plain": [
              "(array([0.60869565, 0.10734463, 0.4       , 1.        , 0.        ,\n",
              "        1.        , 0.        , 0.        , 1.        , 0.        ,\n",
              "        0.        ]), (1070, 11))"
            ]
          },
          "execution_count": 165,
          "metadata": {},
          "output_type": "execute_result"
        }
      ],
      "source": [
        "X_train_normal[0], X_train_normal.shape"
      ]
    },
    {
      "cell_type": "code",
      "execution_count": 169,
      "metadata": {
        "colab": {
          "base_uri": "https://localhost:8080/"
        },
        "id": "XIPhWj1WHrH6",
        "outputId": "40f6498d-f09b-4779-b043-55d51b5d2f1d"
      },
      "outputs": [
        {
          "data": {
            "text/plain": [
              "(array([0.58695652, 0.24791499, 0.4       , 1.        , 0.        ,\n",
              "        1.        , 0.        , 1.        , 0.        , 0.        ,\n",
              "        0.        ]), (268, 11))"
            ]
          },
          "execution_count": 169,
          "metadata": {},
          "output_type": "execute_result"
        }
      ],
      "source": [
        "X_test_normal[0], X_test_normal.shape"
      ]
    },
    {
      "cell_type": "code",
      "execution_count": 168,
      "metadata": {
        "id": "uBKYKWM-H2ys"
      },
      "outputs": [],
      "source": [
        "# pd.DataFrame(X_test_normal)"
      ]
    },
    {
      "cell_type": "code",
      "execution_count": 180,
      "metadata": {
        "colab": {
          "base_uri": "https://localhost:8080/"
        },
        "id": "krdmY2x-SItq",
        "outputId": "0c9d9464-9ee8-4c90-c296-e5e054d59abb"
      },
      "outputs": [
        {
          "name": "stdout",
          "output_type": "stream",
          "text": [
            "Epoch 1/200\n",
            "34/34 [==============================] - 1s 6ms/step - loss: 13345.5420 - mse: 322436352.0000\n",
            "Epoch 2/200\n",
            "34/34 [==============================] - 0s 7ms/step - loss: 13344.4180 - mse: 322406080.0000\n",
            "Epoch 3/200\n",
            "34/34 [==============================] - 0s 6ms/step - loss: 13343.0654 - mse: 322369344.0000\n",
            "Epoch 4/200\n",
            "34/34 [==============================] - 0s 5ms/step - loss: 13341.2930 - mse: 322321440.0000\n",
            "Epoch 5/200\n",
            "34/34 [==============================] - 0s 6ms/step - loss: 13338.9922 - mse: 322259424.0000\n",
            "Epoch 6/200\n",
            "34/34 [==============================] - 0s 6ms/step - loss: 13336.1191 - mse: 322181248.0000\n",
            "Epoch 7/200\n",
            "34/34 [==============================] - 0s 7ms/step - loss: 13332.6582 - mse: 322087456.0000\n",
            "Epoch 8/200\n",
            "34/34 [==============================] - 0s 7ms/step - loss: 13328.6084 - mse: 321978016.0000\n",
            "Epoch 9/200\n",
            "34/34 [==============================] - 0s 8ms/step - loss: 13323.9697 - mse: 321851648.0000\n",
            "Epoch 10/200\n",
            "34/34 [==============================] - 0s 6ms/step - loss: 13318.7500 - mse: 321711360.0000\n",
            "Epoch 11/200\n",
            "34/34 [==============================] - 0s 7ms/step - loss: 13312.9512 - mse: 321553856.0000\n",
            "Epoch 12/200\n",
            "34/34 [==============================] - 0s 6ms/step - loss: 13306.5771 - mse: 321378592.0000\n",
            "Epoch 13/200\n",
            "34/34 [==============================] - 0s 8ms/step - loss: 13299.6543 - mse: 321192896.0000\n",
            "Epoch 14/200\n",
            "34/34 [==============================] - 0s 8ms/step - loss: 13292.1621 - mse: 320988480.0000\n",
            "Epoch 15/200\n",
            "34/34 [==============================] - 0s 9ms/step - loss: 13284.1348 - mse: 320772768.0000\n",
            "Epoch 16/200\n",
            "34/34 [==============================] - 0s 8ms/step - loss: 13275.5449 - mse: 320537568.0000\n",
            "Epoch 17/200\n",
            "34/34 [==============================] - 0s 8ms/step - loss: 13266.4131 - mse: 320289280.0000\n",
            "Epoch 18/200\n",
            "34/34 [==============================] - 0s 7ms/step - loss: 13256.7021 - mse: 320026784.0000\n",
            "Epoch 19/200\n",
            "34/34 [==============================] - 0s 6ms/step - loss: 13246.3916 - mse: 319748512.0000\n",
            "Epoch 20/200\n",
            "34/34 [==============================] - 0s 6ms/step - loss: 13235.4678 - mse: 319451072.0000\n",
            "Epoch 21/200\n",
            "34/34 [==============================] - 0s 7ms/step - loss: 13223.9414 - mse: 319135168.0000\n",
            "Epoch 22/200\n",
            "34/34 [==============================] - 0s 7ms/step - loss: 13211.8203 - mse: 318809632.0000\n",
            "Epoch 23/200\n",
            "34/34 [==============================] - 0s 6ms/step - loss: 13199.1484 - mse: 318475040.0000\n",
            "Epoch 24/200\n",
            "34/34 [==============================] - 0s 7ms/step - loss: 13185.9180 - mse: 318112800.0000\n",
            "Epoch 25/200\n",
            "34/34 [==============================] - 0s 11ms/step - loss: 13172.1689 - mse: 317753312.0000\n",
            "Epoch 26/200\n",
            "34/34 [==============================] - 0s 11ms/step - loss: 13157.8770 - mse: 317358080.0000\n",
            "Epoch 27/200\n",
            "34/34 [==============================] - 0s 11ms/step - loss: 13143.0889 - mse: 316965312.0000\n",
            "Epoch 28/200\n",
            "34/34 [==============================] - 0s 8ms/step - loss: 13127.7949 - mse: 316559040.0000\n",
            "Epoch 29/200\n",
            "34/34 [==============================] - 0s 4ms/step - loss: 13112.0146 - mse: 316130912.0000\n",
            "Epoch 30/200\n",
            "34/34 [==============================] - 0s 4ms/step - loss: 13095.7461 - mse: 315696672.0000\n",
            "Epoch 31/200\n",
            "34/34 [==============================] - 0s 4ms/step - loss: 13078.9932 - mse: 315251200.0000\n",
            "Epoch 32/200\n",
            "34/34 [==============================] - 0s 4ms/step - loss: 13061.7715 - mse: 314791776.0000\n",
            "Epoch 33/200\n",
            "34/34 [==============================] - 0s 4ms/step - loss: 13044.0596 - mse: 314317952.0000\n",
            "Epoch 34/200\n",
            "34/34 [==============================] - 0s 4ms/step - loss: 13025.9395 - mse: 313835232.0000\n",
            "Epoch 35/200\n",
            "34/34 [==============================] - 0s 4ms/step - loss: 13007.3242 - mse: 313340864.0000\n",
            "Epoch 36/200\n",
            "34/34 [==============================] - 0s 4ms/step - loss: 12988.2705 - mse: 312834336.0000\n",
            "Epoch 37/200\n",
            "34/34 [==============================] - 0s 4ms/step - loss: 12968.7764 - mse: 312318336.0000\n",
            "Epoch 38/200\n",
            "34/34 [==============================] - 0s 4ms/step - loss: 12948.8213 - mse: 311788480.0000\n",
            "Epoch 39/200\n",
            "34/34 [==============================] - 0s 4ms/step - loss: 12928.4326 - mse: 311253024.0000\n",
            "Epoch 40/200\n",
            "34/34 [==============================] - 0s 4ms/step - loss: 12907.6055 - mse: 310701600.0000\n",
            "Epoch 41/200\n",
            "34/34 [==============================] - 0s 4ms/step - loss: 12886.3584 - mse: 310140928.0000\n",
            "Epoch 42/200\n",
            "34/34 [==============================] - 0s 4ms/step - loss: 12864.6699 - mse: 309562880.0000\n",
            "Epoch 43/200\n",
            "34/34 [==============================] - 0s 4ms/step - loss: 12842.5820 - mse: 308993152.0000\n",
            "Epoch 44/200\n",
            "34/34 [==============================] - 0s 4ms/step - loss: 12820.0547 - mse: 308392224.0000\n",
            "Epoch 45/200\n",
            "34/34 [==============================] - 0s 4ms/step - loss: 12797.1318 - mse: 307795328.0000\n",
            "Epoch 46/200\n",
            "34/34 [==============================] - 0s 4ms/step - loss: 12773.7783 - mse: 307180832.0000\n",
            "Epoch 47/200\n",
            "34/34 [==============================] - 0s 4ms/step - loss: 12750.0713 - mse: 306577856.0000\n",
            "Epoch 48/200\n",
            "34/34 [==============================] - 0s 4ms/step - loss: 12725.9062 - mse: 305943488.0000\n",
            "Epoch 49/200\n",
            "34/34 [==============================] - 0s 4ms/step - loss: 12701.3584 - mse: 305302912.0000\n",
            "Epoch 50/200\n",
            "34/34 [==============================] - 0s 4ms/step - loss: 12676.4189 - mse: 304657760.0000\n",
            "Epoch 51/200\n",
            "34/34 [==============================] - 0s 4ms/step - loss: 12651.1123 - mse: 304011104.0000\n",
            "Epoch 52/200\n",
            "34/34 [==============================] - 0s 4ms/step - loss: 12625.3789 - mse: 303342240.0000\n",
            "Epoch 53/200\n",
            "34/34 [==============================] - 0s 4ms/step - loss: 12599.2793 - mse: 302657600.0000\n",
            "Epoch 54/200\n",
            "34/34 [==============================] - 0s 4ms/step - loss: 12572.7939 - mse: 301991744.0000\n",
            "Epoch 55/200\n",
            "34/34 [==============================] - 0s 4ms/step - loss: 12545.9414 - mse: 301288480.0000\n",
            "Epoch 56/200\n",
            "34/34 [==============================] - 0s 4ms/step - loss: 12518.7021 - mse: 300596960.0000\n",
            "Epoch 57/200\n",
            "34/34 [==============================] - 0s 5ms/step - loss: 12491.0684 - mse: 299895840.0000\n",
            "Epoch 58/200\n",
            "34/34 [==============================] - 0s 4ms/step - loss: 12463.0869 - mse: 299179936.0000\n",
            "Epoch 59/200\n",
            "34/34 [==============================] - 0s 4ms/step - loss: 12434.7051 - mse: 298449312.0000\n",
            "Epoch 60/200\n",
            "34/34 [==============================] - 0s 4ms/step - loss: 12405.9893 - mse: 297726176.0000\n",
            "Epoch 61/200\n",
            "34/34 [==============================] - 0s 4ms/step - loss: 12376.9102 - mse: 297003520.0000\n",
            "Epoch 62/200\n",
            "34/34 [==============================] - 0s 4ms/step - loss: 12347.4688 - mse: 296248384.0000\n",
            "Epoch 63/200\n",
            "34/34 [==============================] - 0s 4ms/step - loss: 12317.6826 - mse: 295495456.0000\n",
            "Epoch 64/200\n",
            "34/34 [==============================] - 0s 6ms/step - loss: 12287.5264 - mse: 294728544.0000\n",
            "Epoch 65/200\n",
            "34/34 [==============================] - 0s 4ms/step - loss: 12257.0479 - mse: 293975968.0000\n",
            "Epoch 66/200\n",
            "34/34 [==============================] - 0s 4ms/step - loss: 12226.1846 - mse: 293196512.0000\n",
            "Epoch 67/200\n",
            "34/34 [==============================] - 0s 4ms/step - loss: 12194.9893 - mse: 292424384.0000\n",
            "Epoch 68/200\n",
            "34/34 [==============================] - 0s 4ms/step - loss: 12163.4893 - mse: 291634560.0000\n",
            "Epoch 69/200\n",
            "34/34 [==============================] - 0s 4ms/step - loss: 12131.7080 - mse: 290851808.0000\n",
            "Epoch 70/200\n",
            "34/34 [==============================] - 0s 4ms/step - loss: 12099.6465 - mse: 290036896.0000\n",
            "Epoch 71/200\n",
            "34/34 [==============================] - 0s 4ms/step - loss: 12067.3818 - mse: 289249120.0000\n",
            "Epoch 72/200\n",
            "34/34 [==============================] - 0s 4ms/step - loss: 12035.0244 - mse: 288442144.0000\n",
            "Epoch 73/200\n",
            "34/34 [==============================] - 0s 4ms/step - loss: 12002.5459 - mse: 287644768.0000\n",
            "Epoch 74/200\n",
            "34/34 [==============================] - 0s 4ms/step - loss: 11969.7832 - mse: 286821440.0000\n",
            "Epoch 75/200\n",
            "34/34 [==============================] - 0s 4ms/step - loss: 11936.7803 - mse: 286013664.0000\n",
            "Epoch 76/200\n",
            "34/34 [==============================] - 0s 4ms/step - loss: 11903.5742 - mse: 285176736.0000\n",
            "Epoch 77/200\n",
            "34/34 [==============================] - 0s 4ms/step - loss: 11870.2520 - mse: 284362048.0000\n",
            "Epoch 78/200\n",
            "34/34 [==============================] - 0s 4ms/step - loss: 11836.7412 - mse: 283508256.0000\n",
            "Epoch 79/200\n",
            "34/34 [==============================] - 0s 4ms/step - loss: 11803.0967 - mse: 282670336.0000\n",
            "Epoch 80/200\n",
            "34/34 [==============================] - 0s 4ms/step - loss: 11769.2539 - mse: 281828160.0000\n",
            "Epoch 81/200\n",
            "34/34 [==============================] - 0s 4ms/step - loss: 11735.0381 - mse: 280992544.0000\n",
            "Epoch 82/200\n",
            "34/34 [==============================] - 0s 4ms/step - loss: 11700.5938 - mse: 280172000.0000\n",
            "Epoch 83/200\n",
            "34/34 [==============================] - 0s 4ms/step - loss: 11665.6709 - mse: 279290848.0000\n",
            "Epoch 84/200\n",
            "34/34 [==============================] - 0s 4ms/step - loss: 11630.5977 - mse: 278426432.0000\n",
            "Epoch 85/200\n",
            "34/34 [==============================] - 0s 4ms/step - loss: 11595.2891 - mse: 277553824.0000\n",
            "Epoch 86/200\n",
            "34/34 [==============================] - 0s 4ms/step - loss: 11559.7021 - mse: 276700576.0000\n",
            "Epoch 87/200\n",
            "34/34 [==============================] - 0s 4ms/step - loss: 11524.4453 - mse: 275822592.0000\n",
            "Epoch 88/200\n",
            "34/34 [==============================] - 0s 4ms/step - loss: 11489.1865 - mse: 274971776.0000\n",
            "Epoch 89/200\n",
            "34/34 [==============================] - 0s 4ms/step - loss: 11454.0830 - mse: 274098368.0000\n",
            "Epoch 90/200\n",
            "34/34 [==============================] - 0s 4ms/step - loss: 11419.0811 - mse: 273242080.0000\n",
            "Epoch 91/200\n",
            "34/34 [==============================] - 0s 4ms/step - loss: 11384.2568 - mse: 272364384.0000\n",
            "Epoch 92/200\n",
            "34/34 [==============================] - 0s 4ms/step - loss: 11349.4561 - mse: 271494880.0000\n",
            "Epoch 93/200\n",
            "34/34 [==============================] - 0s 4ms/step - loss: 11315.0107 - mse: 270620224.0000\n",
            "Epoch 94/200\n",
            "34/34 [==============================] - 0s 4ms/step - loss: 11280.7832 - mse: 269753056.0000\n",
            "Epoch 95/200\n",
            "34/34 [==============================] - 0s 4ms/step - loss: 11246.7803 - mse: 268906912.0000\n",
            "Epoch 96/200\n",
            "34/34 [==============================] - 0s 4ms/step - loss: 11213.0537 - mse: 268043040.0000\n",
            "Epoch 97/200\n",
            "34/34 [==============================] - 0s 4ms/step - loss: 11179.3262 - mse: 267168352.0000\n",
            "Epoch 98/200\n",
            "34/34 [==============================] - 0s 4ms/step - loss: 11145.6699 - mse: 266303936.0000\n",
            "Epoch 99/200\n",
            "34/34 [==============================] - 0s 4ms/step - loss: 11111.7803 - mse: 265436240.0000\n",
            "Epoch 100/200\n",
            "34/34 [==============================] - 0s 4ms/step - loss: 11078.1582 - mse: 264572576.0000\n",
            "Epoch 101/200\n",
            "34/34 [==============================] - 0s 4ms/step - loss: 11044.4238 - mse: 263705840.0000\n",
            "Epoch 102/200\n",
            "34/34 [==============================] - 0s 4ms/step - loss: 11010.6484 - mse: 262839936.0000\n",
            "Epoch 103/200\n",
            "34/34 [==============================] - 0s 4ms/step - loss: 10977.2363 - mse: 261964976.0000\n",
            "Epoch 104/200\n",
            "34/34 [==============================] - 0s 4ms/step - loss: 10943.9756 - mse: 261114992.0000\n",
            "Epoch 105/200\n",
            "34/34 [==============================] - 0s 5ms/step - loss: 10910.9580 - mse: 260231760.0000\n",
            "Epoch 106/200\n",
            "34/34 [==============================] - 0s 4ms/step - loss: 10878.2402 - mse: 259377280.0000\n",
            "Epoch 107/200\n",
            "34/34 [==============================] - 0s 4ms/step - loss: 10845.8271 - mse: 258519120.0000\n",
            "Epoch 108/200\n",
            "34/34 [==============================] - 0s 4ms/step - loss: 10813.7910 - mse: 257654880.0000\n",
            "Epoch 109/200\n",
            "34/34 [==============================] - 0s 4ms/step - loss: 10781.7021 - mse: 256809584.0000\n",
            "Epoch 110/200\n",
            "34/34 [==============================] - 0s 4ms/step - loss: 10749.6074 - mse: 255947648.0000\n",
            "Epoch 111/200\n",
            "34/34 [==============================] - 0s 4ms/step - loss: 10717.5117 - mse: 255082496.0000\n",
            "Epoch 112/200\n",
            "34/34 [==============================] - 0s 4ms/step - loss: 10685.5498 - mse: 254215680.0000\n",
            "Epoch 113/200\n",
            "34/34 [==============================] - 0s 4ms/step - loss: 10653.5137 - mse: 253356848.0000\n",
            "Epoch 114/200\n",
            "34/34 [==============================] - 0s 4ms/step - loss: 10621.5859 - mse: 252505280.0000\n",
            "Epoch 115/200\n",
            "34/34 [==============================] - 0s 4ms/step - loss: 10589.7354 - mse: 251630976.0000\n",
            "Epoch 116/200\n",
            "34/34 [==============================] - 0s 4ms/step - loss: 10557.9854 - mse: 250783824.0000\n",
            "Epoch 117/200\n",
            "34/34 [==============================] - 0s 4ms/step - loss: 10526.0117 - mse: 249900992.0000\n",
            "Epoch 118/200\n",
            "34/34 [==============================] - 0s 4ms/step - loss: 10493.8193 - mse: 249028704.0000\n",
            "Epoch 119/200\n",
            "34/34 [==============================] - 0s 4ms/step - loss: 10461.2852 - mse: 248160624.0000\n",
            "Epoch 120/200\n",
            "34/34 [==============================] - 0s 4ms/step - loss: 10428.8496 - mse: 247292224.0000\n",
            "Epoch 121/200\n",
            "34/34 [==============================] - 0s 4ms/step - loss: 10396.6133 - mse: 246411568.0000\n",
            "Epoch 122/200\n",
            "34/34 [==============================] - 0s 4ms/step - loss: 10364.4678 - mse: 245528192.0000\n",
            "Epoch 123/200\n",
            "34/34 [==============================] - 0s 4ms/step - loss: 10332.2705 - mse: 244656640.0000\n",
            "Epoch 124/200\n",
            "34/34 [==============================] - 0s 4ms/step - loss: 10300.7012 - mse: 243793808.0000\n",
            "Epoch 125/200\n",
            "34/34 [==============================] - 0s 4ms/step - loss: 10269.1055 - mse: 242936528.0000\n",
            "Epoch 126/200\n",
            "34/34 [==============================] - 0s 4ms/step - loss: 10237.1523 - mse: 242058784.0000\n",
            "Epoch 127/200\n",
            "34/34 [==============================] - 0s 4ms/step - loss: 10205.6211 - mse: 241196608.0000\n",
            "Epoch 128/200\n",
            "34/34 [==============================] - 0s 4ms/step - loss: 10173.7939 - mse: 240313072.0000\n",
            "Epoch 129/200\n",
            "34/34 [==============================] - 0s 4ms/step - loss: 10142.4521 - mse: 239455968.0000\n",
            "Epoch 130/200\n",
            "34/34 [==============================] - 0s 4ms/step - loss: 10111.5625 - mse: 238603968.0000\n",
            "Epoch 131/200\n",
            "34/34 [==============================] - 0s 4ms/step - loss: 10080.6904 - mse: 237728816.0000\n",
            "Epoch 132/200\n",
            "34/34 [==============================] - 0s 4ms/step - loss: 10050.2148 - mse: 236880496.0000\n",
            "Epoch 133/200\n",
            "34/34 [==============================] - 0s 5ms/step - loss: 10019.5127 - mse: 236009600.0000\n",
            "Epoch 134/200\n",
            "34/34 [==============================] - 0s 4ms/step - loss: 9988.5967 - mse: 235152128.0000\n",
            "Epoch 135/200\n",
            "34/34 [==============================] - 0s 4ms/step - loss: 9958.2559 - mse: 234310288.0000\n",
            "Epoch 136/200\n",
            "34/34 [==============================] - 0s 4ms/step - loss: 9928.0791 - mse: 233435536.0000\n",
            "Epoch 137/200\n",
            "34/34 [==============================] - 0s 4ms/step - loss: 9897.7568 - mse: 232592304.0000\n",
            "Epoch 138/200\n",
            "34/34 [==============================] - 0s 4ms/step - loss: 9868.0410 - mse: 231740960.0000\n",
            "Epoch 139/200\n",
            "34/34 [==============================] - 0s 4ms/step - loss: 9838.0791 - mse: 230885072.0000\n",
            "Epoch 140/200\n",
            "34/34 [==============================] - 0s 4ms/step - loss: 9808.0967 - mse: 230049008.0000\n",
            "Epoch 141/200\n",
            "34/34 [==============================] - 0s 4ms/step - loss: 9778.0977 - mse: 229193920.0000\n",
            "Epoch 142/200\n",
            "34/34 [==============================] - 0s 4ms/step - loss: 9748.3350 - mse: 228342544.0000\n",
            "Epoch 143/200\n",
            "34/34 [==============================] - 0s 4ms/step - loss: 9718.8613 - mse: 227494288.0000\n",
            "Epoch 144/200\n",
            "34/34 [==============================] - 0s 4ms/step - loss: 9689.2764 - mse: 226654864.0000\n",
            "Epoch 145/200\n",
            "34/34 [==============================] - 0s 4ms/step - loss: 9660.0459 - mse: 225811696.0000\n",
            "Epoch 146/200\n",
            "34/34 [==============================] - 0s 4ms/step - loss: 9630.5908 - mse: 224961616.0000\n",
            "Epoch 147/200\n",
            "34/34 [==============================] - 0s 4ms/step - loss: 9601.9775 - mse: 224125376.0000\n",
            "Epoch 148/200\n",
            "34/34 [==============================] - 0s 4ms/step - loss: 9573.5820 - mse: 223284512.0000\n",
            "Epoch 149/200\n",
            "34/34 [==============================] - 0s 4ms/step - loss: 9545.6826 - mse: 222471744.0000\n",
            "Epoch 150/200\n",
            "34/34 [==============================] - 0s 4ms/step - loss: 9517.8643 - mse: 221664960.0000\n",
            "Epoch 151/200\n",
            "34/34 [==============================] - 0s 4ms/step - loss: 9490.4932 - mse: 220844528.0000\n",
            "Epoch 152/200\n",
            "34/34 [==============================] - 0s 5ms/step - loss: 9462.9385 - mse: 220008096.0000\n",
            "Epoch 153/200\n",
            "34/34 [==============================] - 0s 4ms/step - loss: 9435.5938 - mse: 219186512.0000\n",
            "Epoch 154/200\n",
            "34/34 [==============================] - 0s 4ms/step - loss: 9408.7871 - mse: 218410672.0000\n",
            "Epoch 155/200\n",
            "34/34 [==============================] - 0s 4ms/step - loss: 9382.1963 - mse: 217570368.0000\n",
            "Epoch 156/200\n",
            "34/34 [==============================] - 0s 4ms/step - loss: 9355.7939 - mse: 216781024.0000\n",
            "Epoch 157/200\n",
            "34/34 [==============================] - 0s 4ms/step - loss: 9329.7061 - mse: 215991776.0000\n",
            "Epoch 158/200\n",
            "34/34 [==============================] - 0s 4ms/step - loss: 9304.3096 - mse: 215195024.0000\n",
            "Epoch 159/200\n",
            "34/34 [==============================] - 0s 5ms/step - loss: 9279.3779 - mse: 214421488.0000\n",
            "Epoch 160/200\n",
            "34/34 [==============================] - 0s 4ms/step - loss: 9255.0225 - mse: 213648784.0000\n",
            "Epoch 161/200\n",
            "34/34 [==============================] - 0s 4ms/step - loss: 9230.7715 - mse: 212880048.0000\n",
            "Epoch 162/200\n",
            "34/34 [==============================] - 0s 4ms/step - loss: 9206.4834 - mse: 212129888.0000\n",
            "Epoch 163/200\n",
            "34/34 [==============================] - 0s 4ms/step - loss: 9182.1846 - mse: 211342832.0000\n",
            "Epoch 164/200\n",
            "34/34 [==============================] - 0s 4ms/step - loss: 9158.1396 - mse: 210580880.0000\n",
            "Epoch 165/200\n",
            "34/34 [==============================] - 0s 4ms/step - loss: 9133.8145 - mse: 209830672.0000\n",
            "Epoch 166/200\n",
            "34/34 [==============================] - 0s 4ms/step - loss: 9109.4512 - mse: 209065424.0000\n",
            "Epoch 167/200\n",
            "34/34 [==============================] - 0s 4ms/step - loss: 9085.4766 - mse: 208290624.0000\n",
            "Epoch 168/200\n",
            "34/34 [==============================] - 0s 4ms/step - loss: 9061.0791 - mse: 207529136.0000\n",
            "Epoch 169/200\n",
            "34/34 [==============================] - 0s 4ms/step - loss: 9037.6074 - mse: 206754144.0000\n",
            "Epoch 170/200\n",
            "34/34 [==============================] - 0s 4ms/step - loss: 9013.8271 - mse: 206026128.0000\n",
            "Epoch 171/200\n",
            "34/34 [==============================] - 0s 4ms/step - loss: 8991.4307 - mse: 205260512.0000\n",
            "Epoch 172/200\n",
            "34/34 [==============================] - 0s 4ms/step - loss: 8969.1689 - mse: 204539008.0000\n",
            "Epoch 173/200\n",
            "34/34 [==============================] - 0s 4ms/step - loss: 8946.8525 - mse: 203808416.0000\n",
            "Epoch 174/200\n",
            "34/34 [==============================] - 0s 4ms/step - loss: 8925.3926 - mse: 203081904.0000\n",
            "Epoch 175/200\n",
            "34/34 [==============================] - 0s 4ms/step - loss: 8903.7402 - mse: 202367760.0000\n",
            "Epoch 176/200\n",
            "34/34 [==============================] - 0s 4ms/step - loss: 8882.6191 - mse: 201653184.0000\n",
            "Epoch 177/200\n",
            "34/34 [==============================] - 0s 4ms/step - loss: 8861.5547 - mse: 200930016.0000\n",
            "Epoch 178/200\n",
            "34/34 [==============================] - 0s 4ms/step - loss: 8840.3955 - mse: 200207952.0000\n",
            "Epoch 179/200\n",
            "34/34 [==============================] - 0s 5ms/step - loss: 8820.1719 - mse: 199497296.0000\n",
            "Epoch 180/200\n",
            "34/34 [==============================] - 0s 4ms/step - loss: 8800.0654 - mse: 198816240.0000\n",
            "Epoch 181/200\n",
            "34/34 [==============================] - 0s 4ms/step - loss: 8780.3896 - mse: 198115936.0000\n",
            "Epoch 182/200\n",
            "34/34 [==============================] - 0s 4ms/step - loss: 8761.3730 - mse: 197439920.0000\n",
            "Epoch 183/200\n",
            "34/34 [==============================] - 0s 4ms/step - loss: 8742.0615 - mse: 196756640.0000\n",
            "Epoch 184/200\n",
            "34/34 [==============================] - 0s 4ms/step - loss: 8722.9180 - mse: 196087792.0000\n",
            "Epoch 185/200\n",
            "34/34 [==============================] - 0s 4ms/step - loss: 8704.1387 - mse: 195405920.0000\n",
            "Epoch 186/200\n",
            "34/34 [==============================] - 0s 5ms/step - loss: 8685.4434 - mse: 194724656.0000\n",
            "Epoch 187/200\n",
            "34/34 [==============================] - 0s 4ms/step - loss: 8666.4453 - mse: 194058720.0000\n",
            "Epoch 188/200\n",
            "34/34 [==============================] - 0s 4ms/step - loss: 8647.6553 - mse: 193378720.0000\n",
            "Epoch 189/200\n",
            "34/34 [==============================] - 0s 4ms/step - loss: 8628.5566 - mse: 192693216.0000\n",
            "Epoch 190/200\n",
            "34/34 [==============================] - 0s 4ms/step - loss: 8610.1191 - mse: 192020544.0000\n",
            "Epoch 191/200\n",
            "34/34 [==============================] - 0s 4ms/step - loss: 8591.3975 - mse: 191366176.0000\n",
            "Epoch 192/200\n",
            "34/34 [==============================] - 0s 4ms/step - loss: 8573.0654 - mse: 190699184.0000\n",
            "Epoch 193/200\n",
            "34/34 [==============================] - 0s 4ms/step - loss: 8555.2109 - mse: 190027504.0000\n",
            "Epoch 194/200\n",
            "34/34 [==============================] - 0s 4ms/step - loss: 8537.4561 - mse: 189372608.0000\n",
            "Epoch 195/200\n",
            "34/34 [==============================] - 0s 4ms/step - loss: 8520.4014 - mse: 188737232.0000\n",
            "Epoch 196/200\n",
            "34/34 [==============================] - 0s 4ms/step - loss: 8503.5850 - mse: 188101488.0000\n",
            "Epoch 197/200\n",
            "34/34 [==============================] - 0s 4ms/step - loss: 8487.0498 - mse: 187474544.0000\n",
            "Epoch 198/200\n",
            "34/34 [==============================] - 0s 4ms/step - loss: 8470.7002 - mse: 186837888.0000\n",
            "Epoch 199/200\n",
            "34/34 [==============================] - 0s 4ms/step - loss: 8454.9453 - mse: 186222144.0000\n",
            "Epoch 200/200\n",
            "34/34 [==============================] - 0s 4ms/step - loss: 8439.5156 - mse: 185616896.0000\n"
          ]
        }
      ],
      "source": [
        "# Create a neural network model\n",
        "tf.random.set_seed(42)\n",
        "\n",
        "model = tf.keras.Sequential([\n",
        "                tf.keras.layers.Dense(20),\n",
        "                tf.keras.layers.Dense(1)\n",
        "])\n",
        "\n",
        "model.compile(loss=tf.keras.losses.mae,\n",
        "              optimizer=tf.keras.optimizers.Adam(),\n",
        "              metrics=['mse'])\n",
        "\n",
        "History = model.fit(X_train_normal, y_train, epochs=200)"
      ]
    },
    {
      "cell_type": "code",
      "execution_count": null,
      "metadata": {
        "id": "ZHvVajdFUlGc"
      },
      "outputs": [],
      "source": []
    }
  ],
  "metadata": {
    "accelerator": "GPU",
    "colab": {
      "collapsed_sections": [],
      "name": "02 Regression Neural Network.ipynb",
      "provenance": []
    },
    "kernelspec": {
      "display_name": "Python 3",
      "name": "python3"
    },
    "language_info": {
      "codemirror_mode": {
        "name": "ipython",
        "version": 3
      },
      "file_extension": ".py",
      "mimetype": "text/x-python",
      "name": "python",
      "nbconvert_exporter": "python",
      "pygments_lexer": "ipython3",
      "version": "3.9.11"
    }
  },
  "nbformat": 4,
  "nbformat_minor": 0
}
